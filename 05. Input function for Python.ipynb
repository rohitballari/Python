{
 "cells": [
  {
   "cell_type": "code",
   "execution_count": 1,
   "metadata": {},
   "outputs": [
    {
     "name": "stdin",
     "output_type": "stream",
     "text": [
      "enter the name: Rohit\n",
      "enter the salary: 45000\n",
      "enter the company name: Imarticus\n"
     ]
    },
    {
     "name": "stdout",
     "output_type": "stream",
     "text": [
      "name: Rohit \n",
      "salary: 45000.0 \n",
      "company: Imarticus\n"
     ]
    }
   ],
   "source": [
    "name,salary,company=input(\"enter the name:\"),float(input(\"enter the salary:\")),input(\"enter the company name:\")\n",
    "print(\"name:\",name,\"\\nsalary:\",salary,\"\\ncompany:\",company)"
   ]
  },
  {
   "cell_type": "code",
   "execution_count": 2,
   "metadata": {
    "scrolled": true
   },
   "outputs": [
    {
     "name": "stdout",
     "output_type": "stream",
     "text": [
      "enter the value of int23\n",
      "enter the value of float23.46\n",
      "46.46\n",
      "<class 'float'>\n"
     ]
    }
   ],
   "source": [
    "a=int(input(\"enter the value of int\"))\n",
    "b=float(input(\"enter the value of float\"))\n",
    "sum=a+b\n",
    "print(sum)\n",
    "print(type(sum))"
   ]
  },
  {
   "cell_type": "markdown",
   "metadata": {},
   "source": [
    "using split function    \n",
    "syntax=.split()"
   ]
  },
  {
   "cell_type": "code",
   "execution_count": 3,
   "metadata": {
    "scrolled": true
   },
   "outputs": [
    {
     "name": "stdout",
     "output_type": "stream",
     "text": [
      "enter the name,enter the age,enter the markskiran/26/100\n",
      "name: kiran \n",
      "age: 26 \n",
      "marks: 100\n"
     ]
    }
   ],
   "source": [
    "name,age,marks=input(\"enter the name,enter the age,enter the marks\").split(\"/\")\n",
    "print(\"name:\",name,\"\\nage:\",age,\"\\nmarks:\",marks)"
   ]
  },
  {
   "cell_type": "code",
   "execution_count": 4,
   "metadata": {},
   "outputs": [
    {
     "data": {
      "text/plain": [
       "str"
      ]
     },
     "execution_count": 4,
     "metadata": {},
     "output_type": "execute_result"
    }
   ],
   "source": [
    "type(age)"
   ]
  },
  {
   "cell_type": "code",
   "execution_count": null,
   "metadata": {},
   "outputs": [],
   "source": []
  }
 ],
 "metadata": {
  "kernelspec": {
   "display_name": "Python [conda env:base] *",
   "language": "python",
   "name": "conda-base-py"
  },
  "language_info": {
   "codemirror_mode": {
    "name": "ipython",
    "version": 3
   },
   "file_extension": ".py",
   "mimetype": "text/x-python",
   "name": "python",
   "nbconvert_exporter": "python",
   "pygments_lexer": "ipython3",
   "version": "3.12.7"
  }
 },
 "nbformat": 4,
 "nbformat_minor": 4
}
