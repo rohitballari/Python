{
 "cells": [
  {
   "cell_type": "markdown",
   "id": "1a2d28e2",
   "metadata": {},
   "source": [
    "# Data Types in Python"
   ]
  },
  {
   "cell_type": "markdown",
   "id": "b337e080",
   "metadata": {},
   "source": [
    "### Data Types are:-\n",
    "\n",
    "1. String\n",
    "2. Numeric\n",
    "    1. Integer\n",
    "    2. Float\n",
    "3. Boolean\n",
    "4. None \n",
    "5. Collection\n",
    "    1. List\n",
    "    2. Tuple\n",
    "    3. Dictionary\n",
    "    4. Set"
   ]
  },
  {
   "cell_type": "markdown",
   "id": "93e908b0",
   "metadata": {},
   "source": [
    "# Strings"
   ]
  },
  {
   "cell_type": "markdown",
   "id": "0946b480",
   "metadata": {},
   "source": [
    "Strings are used in Python to record text information, such as names. Strings in Python are actually a *sequence*, which basically means Python keeps track of every element in the string as a sequence. For example, Python understands the string \"hello\" to be a sequence of letters in a specific order. This means we will be able to use indexing to grab particular letters (like the first letter, or the last letter).\n",
    "\n",
    "\n",
    "\n",
    "In this lecture we'll learn about the following:\n",
    "\n",
    "    1.) Creating Strings\n",
    "    2.) Printing Strings\n",
    "    3.) String Indexing and Slicing\n",
    "    4.) String Properties\n",
    "    5.) String Methods\n",
    "    6.) Print Formatting\n",
    "    7.) etc..."
   ]
  },
  {
   "cell_type": "markdown",
   "id": "223fb8a0",
   "metadata": {},
   "source": [
    "## Creating a String\n",
    "To create a string in Python you need to use either single quotes or double quotes. For example:"
   ]
  },
  {
   "cell_type": "code",
   "execution_count": 1,
   "id": "ecff0696",
   "metadata": {
    "collapsed": true,
    "jupyter": {
     "outputs_hidden": true
    }
   },
   "outputs": [
    {
     "data": {
      "text/plain": [
       "'hello'"
      ]
     },
     "execution_count": 1,
     "metadata": {},
     "output_type": "execute_result"
    }
   ],
   "source": [
    "# Single word\n",
    "'hello'"
   ]
  },
  {
   "cell_type": "code",
   "execution_count": 2,
   "id": "b0e9c88a",
   "metadata": {
    "collapsed": true,
    "jupyter": {
     "outputs_hidden": true
    }
   },
   "outputs": [
    {
     "data": {
      "text/plain": [
       "'This is also a string'"
      ]
     },
     "execution_count": 2,
     "metadata": {},
     "output_type": "execute_result"
    }
   ],
   "source": [
    "# Entire phrase \n",
    "'This is also a string'"
   ]
  },
  {
   "cell_type": "code",
   "execution_count": 3,
   "id": "ab62454a",
   "metadata": {
    "collapsed": true,
    "jupyter": {
     "outputs_hidden": true
    }
   },
   "outputs": [
    {
     "data": {
      "text/plain": [
       "'String built with double quotes'"
      ]
     },
     "execution_count": 3,
     "metadata": {},
     "output_type": "execute_result"
    }
   ],
   "source": [
    "# We can also use double quote\n",
    "\"String built with double quotes\""
   ]
  },
  {
   "cell_type": "code",
   "execution_count": 16,
   "id": "7f52af9c",
   "metadata": {
    "collapsed": true,
    "jupyter": {
     "outputs_hidden": true
    },
    "scrolled": true
   },
   "outputs": [
    {
     "ename": "SyntaxError",
     "evalue": "invalid syntax (2053197537.py, line 2)",
     "output_type": "error",
     "traceback": [
      "\u001b[1;36m  File \u001b[1;32m\"C:\\Users\\91914\\AppData\\Local\\Temp\\ipykernel_24248\\2053197537.py\"\u001b[1;36m, line \u001b[1;32m2\u001b[0m\n\u001b[1;33m    ' I'm using single quotes, but this will create an error'\u001b[0m\n\u001b[1;37m        ^\u001b[0m\n\u001b[1;31mSyntaxError\u001b[0m\u001b[1;31m:\u001b[0m invalid syntax\n"
     ]
    }
   ],
   "source": [
    "# Be careful with quotes!\n",
    "' I'm using single quotes, but this will create an error'"
   ]
  },
  {
   "cell_type": "markdown",
   "id": "774ccf03",
   "metadata": {},
   "source": [
    "The reason for the error above is because the single quote in <code>I'm</code> stopped the string. You can use combinations of double and single quotes to get the complete statement."
   ]
  },
  {
   "cell_type": "code",
   "execution_count": 17,
   "id": "930c107c",
   "metadata": {
    "collapsed": true,
    "jupyter": {
     "outputs_hidden": true
    },
    "scrolled": true
   },
   "outputs": [
    {
     "data": {
      "text/plain": [
       "\"Now I'm ready to use the single quotes inside a string!\""
      ]
     },
     "execution_count": 17,
     "metadata": {},
     "output_type": "execute_result"
    }
   ],
   "source": [
    "\"Now I'm ready to use the single quotes inside a string!\""
   ]
  },
  {
   "cell_type": "code",
   "execution_count": 18,
   "id": "beef693c",
   "metadata": {},
   "outputs": [
    {
     "data": {
      "text/plain": [
       "\"Now I'm ready to use the single quotes inside a string!\""
      ]
     },
     "execution_count": 18,
     "metadata": {},
     "output_type": "execute_result"
    }
   ],
   "source": [
    "# Or the Same code can be writtern by using excape character '\\' (backward slash)\n",
    "\n",
    "'Now I\\'m ready to use the single quotes inside a string!'"
   ]
  },
  {
   "cell_type": "code",
   "execution_count": 19,
   "id": "7f437c2e",
   "metadata": {
    "collapsed": true,
    "jupyter": {
     "outputs_hidden": true
    }
   },
   "outputs": [
    {
     "data": {
      "text/plain": [
       "'Hello World'"
      ]
     },
     "execution_count": 19,
     "metadata": {},
     "output_type": "execute_result"
    }
   ],
   "source": [
    "# We can simply declare a string\n",
    "'Hello World'"
   ]
  },
  {
   "cell_type": "code",
   "execution_count": 23,
   "id": "6a429382",
   "metadata": {
    "collapsed": true,
    "jupyter": {
     "outputs_hidden": true
    }
   },
   "outputs": [
    {
     "data": {
      "text/plain": [
       "'Hello World 2'"
      ]
     },
     "execution_count": 23,
     "metadata": {},
     "output_type": "execute_result"
    }
   ],
   "source": [
    "# Note that we can't output multiple strings this way\n",
    "'Hello World 1'\n",
    "'Hello World 2'"
   ]
  },
  {
   "cell_type": "markdown",
   "id": "6dde6a9c",
   "metadata": {},
   "source": [
    "We can use a print statement to print a string."
   ]
  },
  {
   "cell_type": "code",
   "execution_count": 8,
   "id": "7c605fdc",
   "metadata": {
    "collapsed": true,
    "jupyter": {
     "outputs_hidden": true
    },
    "scrolled": true
   },
   "outputs": [
    {
     "name": "stdout",
     "output_type": "stream",
     "text": [
      "Hello World 1\n",
      "Hello World 2\n",
      "Use \n",
      "to print a new line\n",
      "\n",
      "\n",
      "See what I mean?\n"
     ]
    }
   ],
   "source": [
    "print('Hello World 1')\n",
    "print('Hello World 2')\n",
    "print('Use \\nto print a new line')        # \\n (backward slash n)is used to print in next line\n",
    "print('\\n')\n",
    "print('See what I mean?')"
   ]
  },
  {
   "cell_type": "markdown",
   "id": "518c37dd",
   "metadata": {},
   "source": [
    "## String Basics"
   ]
  },
  {
   "cell_type": "markdown",
   "id": "e113c2b4",
   "metadata": {},
   "source": [
    "We can also use a function called len() to check the length of a string!"
   ]
  },
  {
   "cell_type": "code",
   "execution_count": 14,
   "id": "c47cd65f",
   "metadata": {
    "collapsed": true,
    "jupyter": {
     "outputs_hidden": true
    }
   },
   "outputs": [
    {
     "data": {
      "text/plain": [
       "12"
      ]
     },
     "execution_count": 14,
     "metadata": {},
     "output_type": "execute_result"
    }
   ],
   "source": [
    "len('Hello\\' World')"
   ]
  },
  {
   "cell_type": "markdown",
   "id": "c8308fd7",
   "metadata": {},
   "source": [
    "Python's built-in len() function counts all of the characters in the string, including spaces and punctuation."
   ]
  },
  {
   "cell_type": "markdown",
   "id": "a8834456",
   "metadata": {},
   "source": [
    "## String Indexing\n",
    "\n",
    "We know strings are a sequence, which means Python can use indexes to call parts of the sequence. Let's learn how this works.\n",
    "In Python, we use brackets <code>[]</code> after an object to call its index. We should also note that indexing starts at 0 for Python. Let's create a new object called <code>s</code> and then walk through a few examples of indexing.\n"
   ]
  },
  {
   "cell_type": "code",
   "execution_count": 4,
   "id": "d63ea24b-abb1-4463-b24a-a4093df4a924",
   "metadata": {},
   "outputs": [
    {
     "data": {
      "text/plain": [
       "'R'"
      ]
     },
     "execution_count": 4,
     "metadata": {},
     "output_type": "execute_result"
    }
   ],
   "source": [
    "story = \"Seetha Rama\"\n",
    "story[7]"
   ]
  },
  {
   "cell_type": "code",
   "execution_count": null,
   "id": "475a61f9-2c85-4f67-8ed8-572bfbfebdbf",
   "metadata": {},
   "outputs": [],
   "source": [
    "[start:stop:step]"
   ]
  },
  {
   "cell_type": "code",
   "execution_count": 8,
   "id": "7299dbed-1f4d-46a0-aa97-7e31d59f3bfb",
   "metadata": {},
   "outputs": [
    {
     "data": {
      "text/plain": [
       "'Ram'"
      ]
     },
     "execution_count": 8,
     "metadata": {},
     "output_type": "execute_result"
    }
   ],
   "source": [
    "story[7:10]"
   ]
  },
  {
   "cell_type": "code",
   "execution_count": 16,
   "id": "073a5fe1-4435-4d02-8463-211884085b7a",
   "metadata": {},
   "outputs": [
    {
     "data": {
      "text/plain": [
       "'Jeevan'"
      ]
     },
     "execution_count": 16,
     "metadata": {},
     "output_type": "execute_result"
    }
   ],
   "source": [
    "#slicing Steps\n",
    "#[start:stop:stop]\n",
    "name = \"Jeevan Raj\"\n",
    "name[0:6:1]"
   ]
  },
  {
   "cell_type": "code",
   "execution_count": 26,
   "id": "b4f1b6c9-9668-4c13-a872-0cbe47d09af6",
   "metadata": {},
   "outputs": [
    {
     "data": {
      "text/plain": [
       "'Raj'"
      ]
     },
     "execution_count": 26,
     "metadata": {},
     "output_type": "execute_result"
    }
   ],
   "source": [
    "name = \"Jeevan Raj\"\n",
    "name[7:len(name)]"
   ]
  },
  {
   "cell_type": "code",
   "execution_count": null,
   "id": "0dd8b463-7548-4e89-85d6-d07cc2fdad44",
   "metadata": {},
   "outputs": [],
   "source": []
  },
  {
   "cell_type": "code",
   "execution_count": 3,
   "id": "e03e1cd6",
   "metadata": {},
   "outputs": [
    {
     "name": "stdout",
     "output_type": "stream",
     "text": [
      "Hello World\n",
      "H\n",
      "d\n"
     ]
    }
   ],
   "source": [
    "# Assign s as a string\n",
    "s = 'Hello World'\n",
    "print(s)\n",
    "print(s[0])\n",
    "print(s[-1])"
   ]
  },
  {
   "cell_type": "code",
   "execution_count": 5,
   "id": "e8247816",
   "metadata": {},
   "outputs": [
    {
     "name": "stdout",
     "output_type": "stream",
     "text": [
      "Hello World\n"
     ]
    }
   ],
   "source": [
    "# Print the object\n",
    "print(s) "
   ]
  },
  {
   "cell_type": "code",
   "execution_count": 9,
   "id": "e1cae5bb-c87b-4c6c-8fff-3618791820f0",
   "metadata": {},
   "outputs": [],
   "source": [
    "a='Rohit'"
   ]
  },
  {
   "cell_type": "code",
   "execution_count": 11,
   "id": "c44dd8d4-b5b5-402c-8565-18ef23226d38",
   "metadata": {},
   "outputs": [
    {
     "data": {
      "text/plain": [
       "'Rohit'"
      ]
     },
     "execution_count": 11,
     "metadata": {},
     "output_type": "execute_result"
    }
   ],
   "source": [
    "a"
   ]
  },
  {
   "cell_type": "code",
   "execution_count": 22,
   "id": "4ccd734b-ae15-4cb8-bc62-9ab23f6ac5fc",
   "metadata": {},
   "outputs": [
    {
     "data": {
      "text/plain": [
       "'Rohit'"
      ]
     },
     "execution_count": 22,
     "metadata": {},
     "output_type": "execute_result"
    }
   ],
   "source": [
    "a[:]"
   ]
  },
  {
   "cell_type": "markdown",
   "id": "1d0ee12c",
   "metadata": {},
   "source": [
    "Let's start indexing!"
   ]
  },
  {
   "cell_type": "code",
   "execution_count": 7,
   "id": "819ba077",
   "metadata": {},
   "outputs": [
    {
     "data": {
      "text/plain": [
       "11"
      ]
     },
     "execution_count": 7,
     "metadata": {},
     "output_type": "execute_result"
    }
   ],
   "source": [
    "len(s)"
   ]
  },
  {
   "cell_type": "code",
   "execution_count": 19,
   "id": "18841c39",
   "metadata": {
    "collapsed": true,
    "jupyter": {
     "outputs_hidden": true
    },
    "scrolled": true
   },
   "outputs": [
    {
     "data": {
      "text/plain": [
       "'d'"
      ]
     },
     "execution_count": 19,
     "metadata": {},
     "output_type": "execute_result"
    }
   ],
   "source": [
    "# Show first element (in this case a letter)\n",
    "s[len(s)-1]"
   ]
  },
  {
   "cell_type": "code",
   "execution_count": 21,
   "id": "7d7c3b86",
   "metadata": {
    "collapsed": true,
    "jupyter": {
     "outputs_hidden": true
    },
    "scrolled": true
   },
   "outputs": [
    {
     "data": {
      "text/plain": [
       "'e'"
      ]
     },
     "execution_count": 21,
     "metadata": {},
     "output_type": "execute_result"
    }
   ],
   "source": [
    "s[1]"
   ]
  },
  {
   "cell_type": "code",
   "execution_count": 22,
   "id": "1d3464be",
   "metadata": {
    "collapsed": true,
    "jupyter": {
     "outputs_hidden": true
    },
    "scrolled": true
   },
   "outputs": [
    {
     "data": {
      "text/plain": [
       "'l'"
      ]
     },
     "execution_count": 22,
     "metadata": {},
     "output_type": "execute_result"
    }
   ],
   "source": [
    "s[2]"
   ]
  },
  {
   "cell_type": "markdown",
   "id": "42c4f5ad",
   "metadata": {},
   "source": [
    "We can use a <code>:</code> colon to perform *slicing* which grabs everything up to a designated point. For example:"
   ]
  },
  {
   "cell_type": "code",
   "execution_count": 24,
   "id": "47b2f616",
   "metadata": {},
   "outputs": [
    {
     "data": {
      "text/plain": [
       "'Hello World'"
      ]
     },
     "execution_count": 24,
     "metadata": {},
     "output_type": "execute_result"
    }
   ],
   "source": [
    "s"
   ]
  },
  {
   "cell_type": "code",
   "execution_count": 26,
   "id": "3d1d9da8-0ca2-41dc-925f-f73cba2b10df",
   "metadata": {},
   "outputs": [
    {
     "data": {
      "text/plain": [
       "'Rohit'"
      ]
     },
     "execution_count": 26,
     "metadata": {},
     "output_type": "execute_result"
    }
   ],
   "source": [
    "a"
   ]
  },
  {
   "cell_type": "code",
   "execution_count": 38,
   "id": "7fd6ca0b",
   "metadata": {
    "scrolled": true
   },
   "outputs": [
    {
     "data": {
      "text/plain": [
       "'R'"
      ]
     },
     "execution_count": 38,
     "metadata": {},
     "output_type": "execute_result"
    }
   ],
   "source": [
    "# Grab everything past the first term all the way to the length of s which is len(s)\n",
    "a[:1]"
   ]
  },
  {
   "cell_type": "code",
   "execution_count": 25,
   "id": "60c56e82",
   "metadata": {
    "collapsed": true,
    "jupyter": {
     "outputs_hidden": true
    }
   },
   "outputs": [
    {
     "data": {
      "text/plain": [
       "'Hello World'"
      ]
     },
     "execution_count": 25,
     "metadata": {},
     "output_type": "execute_result"
    }
   ],
   "source": [
    "# Note Indexing does not affects the original data\n",
    "s"
   ]
  },
  {
   "cell_type": "code",
   "execution_count": 26,
   "id": "333c1e8c",
   "metadata": {},
   "outputs": [
    {
     "data": {
      "text/plain": [
       "'lo World'"
      ]
     },
     "execution_count": 26,
     "metadata": {},
     "output_type": "execute_result"
    }
   ],
   "source": [
    "s[3:]"
   ]
  },
  {
   "cell_type": "code",
   "execution_count": 27,
   "id": "3dbd9091",
   "metadata": {
    "collapsed": true,
    "jupyter": {
     "outputs_hidden": true
    }
   },
   "outputs": [
    {
     "data": {
      "text/plain": [
       "'Hel'"
      ]
     },
     "execution_count": 27,
     "metadata": {},
     "output_type": "execute_result"
    }
   ],
   "source": [
    "# Grab everything UP TO the 3rd index\n",
    "s[:3]"
   ]
  },
  {
   "cell_type": "markdown",
   "id": "ef2e8cd7",
   "metadata": {},
   "source": [
    "Note the above slicing. Here we're telling Python to grab everything from 0 up to 3. It doesn't include the 3rd index. You'll notice this a lot in Python, where statements and are usually in the context of \"up to, but not including\"."
   ]
  },
  {
   "cell_type": "code",
   "execution_count": 28,
   "id": "69281857",
   "metadata": {},
   "outputs": [
    {
     "data": {
      "text/plain": [
       "'Hello World'"
      ]
     },
     "execution_count": 28,
     "metadata": {},
     "output_type": "execute_result"
    }
   ],
   "source": [
    "s[:]"
   ]
  },
  {
   "cell_type": "code",
   "execution_count": 29,
   "id": "02e35cf9",
   "metadata": {
    "collapsed": true,
    "jupyter": {
     "outputs_hidden": true
    },
    "scrolled": true
   },
   "outputs": [
    {
     "data": {
      "text/plain": [
       "'Hello World'"
      ]
     },
     "execution_count": 29,
     "metadata": {},
     "output_type": "execute_result"
    }
   ],
   "source": [
    "#Everything\n",
    "s[0:len(s)]"
   ]
  },
  {
   "cell_type": "markdown",
   "id": "fac70cd8",
   "metadata": {},
   "source": [
    "We can also use negative indexing to go backwards."
   ]
  },
  {
   "cell_type": "code",
   "execution_count": 30,
   "id": "8428a9af",
   "metadata": {},
   "outputs": [
    {
     "data": {
      "text/plain": [
       "'Hello World'"
      ]
     },
     "execution_count": 30,
     "metadata": {},
     "output_type": "execute_result"
    }
   ],
   "source": [
    "s"
   ]
  },
  {
   "cell_type": "code",
   "execution_count": 31,
   "id": "c722b03f",
   "metadata": {
    "collapsed": true,
    "jupyter": {
     "outputs_hidden": true
    }
   },
   "outputs": [
    {
     "data": {
      "text/plain": [
       "'d'"
      ]
     },
     "execution_count": 31,
     "metadata": {},
     "output_type": "execute_result"
    }
   ],
   "source": [
    "# Last letter (one index behind 0 so it loops back around)\n",
    "s[-1]"
   ]
  },
  {
   "cell_type": "code",
   "execution_count": 32,
   "id": "1fb695f6",
   "metadata": {
    "collapsed": true,
    "jupyter": {
     "outputs_hidden": true
    }
   },
   "outputs": [
    {
     "data": {
      "text/plain": [
       "'Hello Worl'"
      ]
     },
     "execution_count": 32,
     "metadata": {},
     "output_type": "execute_result"
    }
   ],
   "source": [
    "# Grab everything but except the last letter\n",
    "s[:-1]"
   ]
  },
  {
   "cell_type": "code",
   "execution_count": 33,
   "id": "c111545f",
   "metadata": {},
   "outputs": [],
   "source": [
    "data = 'i am Jeevan'"
   ]
  },
  {
   "cell_type": "code",
   "execution_count": 34,
   "id": "760b080d",
   "metadata": {
    "scrolled": true
   },
   "outputs": [
    {
     "data": {
      "text/plain": [
       "'Jeevan'"
      ]
     },
     "execution_count": 34,
     "metadata": {},
     "output_type": "execute_result"
    }
   ],
   "source": [
    "data[-6:]"
   ]
  },
  {
   "cell_type": "code",
   "execution_count": 35,
   "id": "46e835d5",
   "metadata": {},
   "outputs": [
    {
     "data": {
      "text/plain": [
       "'Jeevan'"
      ]
     },
     "execution_count": 35,
     "metadata": {},
     "output_type": "execute_result"
    }
   ],
   "source": [
    "data[5:]"
   ]
  },
  {
   "cell_type": "markdown",
   "id": "489a3680",
   "metadata": {},
   "source": [
    "We can also use index and slice notation to grab elements of a sequence by a specified step size (the default is 1). For instance we can use two colons in a row and then a number specifying the frequency to grab elements. For example:"
   ]
  },
  {
   "cell_type": "code",
   "execution_count": 42,
   "id": "50d7e1d4-c2fb-41d4-aa03-fb38cda3d4e6",
   "metadata": {},
   "outputs": [
    {
     "data": {
      "text/plain": [
       "'Rohit'"
      ]
     },
     "execution_count": 42,
     "metadata": {},
     "output_type": "execute_result"
    }
   ],
   "source": [
    "a"
   ]
  },
  {
   "cell_type": "code",
   "execution_count": 60,
   "id": "3a10d5f0-2b4a-4fe0-9d95-430d455e9449",
   "metadata": {},
   "outputs": [
    {
     "data": {
      "text/plain": [
       "'oi'"
      ]
     },
     "execution_count": 60,
     "metadata": {},
     "output_type": "execute_result"
    }
   ],
   "source": [
    "a[1:5:2]"
   ]
  },
  {
   "cell_type": "code",
   "execution_count": 62,
   "id": "83527000-36b3-4c15-84f1-d70686b984e2",
   "metadata": {},
   "outputs": [
    {
     "data": {
      "text/plain": [
       "'Rohi'"
      ]
     },
     "execution_count": 62,
     "metadata": {},
     "output_type": "execute_result"
    }
   ],
   "source": [
    "a[:-1]"
   ]
  },
  {
   "cell_type": "code",
   "execution_count": 64,
   "id": "ae04c048-0d3b-4c93-92ed-6b6dd5fb075d",
   "metadata": {},
   "outputs": [
    {
     "data": {
      "text/plain": [
       "'tihoR'"
      ]
     },
     "execution_count": 64,
     "metadata": {},
     "output_type": "execute_result"
    }
   ],
   "source": [
    "a[::-1]"
   ]
  },
  {
   "cell_type": "code",
   "execution_count": null,
   "id": "50d614be-bf83-49c4-a998-146ebcfe2834",
   "metadata": {},
   "outputs": [],
   "source": []
  },
  {
   "cell_type": "code",
   "execution_count": 40,
   "id": "41d6e8c0",
   "metadata": {
    "scrolled": true
   },
   "outputs": [
    {
     "data": {
      "text/plain": [
       "'Hello World'"
      ]
     },
     "execution_count": 40,
     "metadata": {},
     "output_type": "execute_result"
    }
   ],
   "source": [
    "# Grab everything, but go in steps size of 1\n",
    "s[::1]                                   # By default the step size is 1    [start:stop:step]"
   ]
  },
  {
   "cell_type": "code",
   "execution_count": 7,
   "id": "3aba772e",
   "metadata": {
    "collapsed": true,
    "jupyter": {
     "outputs_hidden": true
    }
   },
   "outputs": [
    {
     "name": "stdout",
     "output_type": "stream",
     "text": [
      "Hello World\n",
      "el ol\n"
     ]
    }
   ],
   "source": [
    "# Grab everything, but go in step sizes of 2\n",
    "print(s)\n",
    "print(s[1:11:2])             # By default the step size is 1    [start:stop:step]"
   ]
  },
  {
   "cell_type": "code",
   "execution_count": 24,
   "id": "b37ef64c",
   "metadata": {
    "collapsed": true,
    "jupyter": {
     "outputs_hidden": true
    }
   },
   "outputs": [
    {
     "data": {
      "text/plain": [
       "'dlroW olleH'"
      ]
     },
     "execution_count": 24,
     "metadata": {},
     "output_type": "execute_result"
    }
   ],
   "source": [
    "# We can use this to print a string backwards (reverse order)\n",
    "s[::-1]"
   ]
  },
  {
   "cell_type": "markdown",
   "id": "16032c6a",
   "metadata": {},
   "source": [
    "## String Properties\n",
    "It's important to note that strings have an important property known as *immutability*. This means that once a string is created, the elements within it can not be changed or replaced. For example:"
   ]
  },
  {
   "cell_type": "code",
   "execution_count": 75,
   "id": "990d7d3d",
   "metadata": {},
   "outputs": [
    {
     "data": {
      "text/plain": [
       "'Hello World'"
      ]
     },
     "execution_count": 75,
     "metadata": {},
     "output_type": "execute_result"
    }
   ],
   "source": [
    "s"
   ]
  },
  {
   "cell_type": "code",
   "execution_count": 77,
   "id": "5c93c283",
   "metadata": {},
   "outputs": [
    {
     "ename": "TypeError",
     "evalue": "'str' object does not support item assignment",
     "output_type": "error",
     "traceback": [
      "\u001b[1;31m---------------------------------------------------------------------------\u001b[0m",
      "\u001b[1;31mTypeError\u001b[0m                                 Traceback (most recent call last)",
      "Cell \u001b[1;32mIn[77], line 2\u001b[0m\n\u001b[0;32m      1\u001b[0m \u001b[38;5;66;03m# Let's try to change the first letter to 'x'\u001b[39;00m\n\u001b[1;32m----> 2\u001b[0m s[\u001b[38;5;241m0\u001b[39m] \u001b[38;5;241m=\u001b[39m \u001b[38;5;124m'\u001b[39m\u001b[38;5;124mx\u001b[39m\u001b[38;5;124m'\u001b[39m\n",
      "\u001b[1;31mTypeError\u001b[0m: 'str' object does not support item assignment"
     ]
    }
   ],
   "source": [
    "# Let's try to change the first letter to 'x'\n",
    "s[0] = 'x'"
   ]
  },
  {
   "cell_type": "markdown",
   "id": "e99b75f4",
   "metadata": {},
   "source": [
    "Notice how the error tells us directly what we can't do, change the item assignment!\n",
    "\n",
    "Something we *can* do is concatenate strings!"
   ]
  },
  {
   "cell_type": "code",
   "execution_count": 71,
   "id": "aacd0064",
   "metadata": {
    "scrolled": true
   },
   "outputs": [
    {
     "data": {
      "text/plain": [
       "'Hello World'"
      ]
     },
     "execution_count": 71,
     "metadata": {},
     "output_type": "execute_result"
    }
   ],
   "source": [
    "s"
   ]
  },
  {
   "cell_type": "code",
   "execution_count": 73,
   "id": "bf783aac-2309-462c-8b7c-f0348eb11fe3",
   "metadata": {},
   "outputs": [
    {
     "data": {
      "text/plain": [
       "'Rohit'"
      ]
     },
     "execution_count": 73,
     "metadata": {},
     "output_type": "execute_result"
    }
   ],
   "source": [
    "a"
   ]
  },
  {
   "cell_type": "code",
   "execution_count": 85,
   "id": "eb095ba3-9833-453c-a3ef-16b3ef867aca",
   "metadata": {},
   "outputs": [],
   "source": [
    "b = a + ' Sahana'"
   ]
  },
  {
   "cell_type": "code",
   "execution_count": 87,
   "id": "16d226be-7b56-4dcf-b36e-fee84e33c3ab",
   "metadata": {},
   "outputs": [
    {
     "data": {
      "text/plain": [
       "'Rohit Sahana'"
      ]
     },
     "execution_count": 87,
     "metadata": {},
     "output_type": "execute_result"
    }
   ],
   "source": [
    "b"
   ]
  },
  {
   "cell_type": "code",
   "execution_count": 89,
   "id": "6e3b2922-d69e-4401-8e44-f2e367e5c8b6",
   "metadata": {},
   "outputs": [
    {
     "data": {
      "text/plain": [
       "'Rohit'"
      ]
     },
     "execution_count": 89,
     "metadata": {},
     "output_type": "execute_result"
    }
   ],
   "source": [
    "a"
   ]
  },
  {
   "cell_type": "code",
   "execution_count": 45,
   "id": "d5462d2d",
   "metadata": {
    "collapsed": true,
    "jupyter": {
     "outputs_hidden": true
    }
   },
   "outputs": [
    {
     "data": {
      "text/plain": [
       "'Hello World concatenate me!'"
      ]
     },
     "execution_count": 45,
     "metadata": {},
     "output_type": "execute_result"
    }
   ],
   "source": [
    "# Concatenate strings!\n",
    "s + ' concatenate me!'"
   ]
  },
  {
   "cell_type": "code",
   "execution_count": 46,
   "id": "5af0ff8b",
   "metadata": {
    "collapsed": true,
    "jupyter": {
     "outputs_hidden": true
    }
   },
   "outputs": [],
   "source": [
    "# We can reassign s completely though!\n",
    "s = s + ' concatenate me!'"
   ]
  },
  {
   "cell_type": "code",
   "execution_count": 47,
   "id": "72141dae",
   "metadata": {
    "collapsed": true,
    "jupyter": {
     "outputs_hidden": true
    }
   },
   "outputs": [
    {
     "name": "stdout",
     "output_type": "stream",
     "text": [
      "Hello World concatenate me!\n"
     ]
    }
   ],
   "source": [
    "print(s)"
   ]
  },
  {
   "cell_type": "code",
   "execution_count": 48,
   "id": "81833adc",
   "metadata": {
    "collapsed": true,
    "jupyter": {
     "outputs_hidden": true
    }
   },
   "outputs": [
    {
     "data": {
      "text/plain": [
       "'Hello World concatenate me!'"
      ]
     },
     "execution_count": 48,
     "metadata": {},
     "output_type": "execute_result"
    }
   ],
   "source": [
    "s"
   ]
  },
  {
   "cell_type": "markdown",
   "id": "285eabe5",
   "metadata": {},
   "source": [
    "We can use the multiplication symbol to create repetition!"
   ]
  },
  {
   "cell_type": "code",
   "execution_count": 8,
   "id": "d6df94eb",
   "metadata": {},
   "outputs": [
    {
     "data": {
      "text/plain": [
       "'Hello World'"
      ]
     },
     "execution_count": 8,
     "metadata": {},
     "output_type": "execute_result"
    }
   ],
   "source": [
    "s"
   ]
  },
  {
   "cell_type": "code",
   "execution_count": 93,
   "id": "8cc39767",
   "metadata": {},
   "outputs": [
    {
     "data": {
      "text/plain": [
       "'Rohit SahanaRohit SahanaRohit Sahana'"
      ]
     },
     "execution_count": 93,
     "metadata": {},
     "output_type": "execute_result"
    }
   ],
   "source": [
    "b*3"
   ]
  },
  {
   "cell_type": "code",
   "execution_count": 95,
   "id": "f5f9f6d5",
   "metadata": {},
   "outputs": [],
   "source": [
    "data = 'I Love My Students '"
   ]
  },
  {
   "cell_type": "code",
   "execution_count": 97,
   "id": "0a33128e",
   "metadata": {},
   "outputs": [
    {
     "data": {
      "text/plain": [
       "'I Love My Students I Love My Students I Love My Students I Love My Students I Love My Students I Love My Students I Love My Students I Love My Students I Love My Students I Love My Students '"
      ]
     },
     "execution_count": 97,
     "metadata": {},
     "output_type": "execute_result"
    }
   ],
   "source": [
    "data * 10"
   ]
  },
  {
   "cell_type": "code",
   "execution_count": 101,
   "id": "a1b2ee21",
   "metadata": {},
   "outputs": [
    {
     "data": {
      "text/plain": [
       "'Hello World5'"
      ]
     },
     "execution_count": 101,
     "metadata": {},
     "output_type": "execute_result"
    }
   ],
   "source": [
    "s + '5'"
   ]
  },
  {
   "cell_type": "code",
   "execution_count": 103,
   "id": "fb9126cb-59ab-46d1-8bef-613fc6a0ac6f",
   "metadata": {},
   "outputs": [
    {
     "data": {
      "text/plain": [
       "'Rohit Sahana5'"
      ]
     },
     "execution_count": 103,
     "metadata": {},
     "output_type": "execute_result"
    }
   ],
   "source": [
    "b + '5'"
   ]
  },
  {
   "cell_type": "markdown",
   "id": "1ef686e0",
   "metadata": {},
   "source": [
    "###  Now will work on string function"
   ]
  },
  {
   "cell_type": "code",
   "execution_count": 105,
   "id": "7e5fe7c8",
   "metadata": {},
   "outputs": [
    {
     "name": "stdout",
     "output_type": "stream",
     "text": [
      "Jeevan Raj\n"
     ]
    }
   ],
   "source": [
    "Name='Jeevan Raj'\n",
    "print(Name)"
   ]
  },
  {
   "cell_type": "code",
   "execution_count": 107,
   "id": "76eedbc1",
   "metadata": {},
   "outputs": [
    {
     "data": {
      "text/plain": [
       "'JEEVAN RAJ'"
      ]
     },
     "execution_count": 107,
     "metadata": {},
     "output_type": "execute_result"
    }
   ],
   "source": [
    "# Upper Case \n",
    "Name.upper()   # It won't affect your original string"
   ]
  },
  {
   "cell_type": "code",
   "execution_count": 109,
   "id": "630c2f18",
   "metadata": {
    "scrolled": true
   },
   "outputs": [
    {
     "data": {
      "text/plain": [
       "'jeevan raj'"
      ]
     },
     "execution_count": 109,
     "metadata": {},
     "output_type": "execute_result"
    }
   ],
   "source": [
    "# Lower case\n",
    "Name.lower()  # It won't affect your original string"
   ]
  },
  {
   "cell_type": "code",
   "execution_count": 111,
   "id": "4f86de06",
   "metadata": {},
   "outputs": [
    {
     "data": {
      "text/plain": [
       "'Jeevan Raj'"
      ]
     },
     "execution_count": 111,
     "metadata": {},
     "output_type": "execute_result"
    }
   ],
   "source": [
    "# Title (Every starting letter in upper case rest lower case)\n",
    "Name.title()"
   ]
  },
  {
   "cell_type": "code",
   "execution_count": 113,
   "id": "c01675f9",
   "metadata": {},
   "outputs": [
    {
     "data": {
      "text/plain": [
       "'Jeevan raj'"
      ]
     },
     "execution_count": 113,
     "metadata": {},
     "output_type": "execute_result"
    }
   ],
   "source": [
    "# Capitalize first word in string\n",
    "Name.capitalize()"
   ]
  },
  {
   "cell_type": "code",
   "execution_count": 131,
   "id": "25a89008",
   "metadata": {},
   "outputs": [
    {
     "data": {
      "text/plain": [
       "'Jeevan Raj'"
      ]
     },
     "execution_count": 131,
     "metadata": {},
     "output_type": "execute_result"
    }
   ],
   "source": [
    "Name"
   ]
  },
  {
   "cell_type": "code",
   "execution_count": 143,
   "id": "700d2722",
   "metadata": {},
   "outputs": [
    {
     "data": {
      "text/plain": [
       "['Jeevan', 'Raj']"
      ]
     },
     "execution_count": 143,
     "metadata": {},
     "output_type": "execute_result"
    }
   ],
   "source": [
    "# Split a string by blank space  (this is the default)\n",
    "Name.split(' ')"
   ]
  },
  {
   "cell_type": "code",
   "execution_count": 145,
   "id": "de91ac71",
   "metadata": {
    "scrolled": true
   },
   "outputs": [
    {
     "data": {
      "text/plain": [
       "['Jeevan ', 'aj']"
      ]
     },
     "execution_count": 145,
     "metadata": {},
     "output_type": "execute_result"
    }
   ],
   "source": [
    "# Split by a specific element (doesn't include the element that was split on)\n",
    "Name.split('R')"
   ]
  },
  {
   "cell_type": "markdown",
   "id": "a9db009b",
   "metadata": {},
   "source": [
    "### Location and Counting"
   ]
  },
  {
   "cell_type": "code",
   "execution_count": 161,
   "id": "2c1adef9",
   "metadata": {},
   "outputs": [
    {
     "data": {
      "text/plain": [
       "'Jeevan Raj'"
      ]
     },
     "execution_count": 161,
     "metadata": {},
     "output_type": "execute_result"
    }
   ],
   "source": [
    "Name"
   ]
  },
  {
   "cell_type": "code",
   "execution_count": 149,
   "id": "28b05cba-f96c-401e-8a11-9eb2f846fb4b",
   "metadata": {},
   "outputs": [],
   "source": [
    "name = 'Jeevan raj - Roopa'"
   ]
  },
  {
   "cell_type": "code",
   "execution_count": 151,
   "id": "55c77ebc-fcc9-41e9-b86d-c0cfe3c6f793",
   "metadata": {},
   "outputs": [
    {
     "data": {
      "text/plain": [
       "['Jeevan raj', 'Roopa']"
      ]
     },
     "execution_count": 151,
     "metadata": {},
     "output_type": "execute_result"
    }
   ],
   "source": [
    "name.split(\" - \")"
   ]
  },
  {
   "cell_type": "raw",
   "id": "9e9ae373-2fa6-4e16-b678-16c8761c618c",
   "metadata": {},
   "source": []
  },
  {
   "cell_type": "code",
   "execution_count": 153,
   "id": "0c91b7c4-ab7d-4b2b-94ad-e5308fc32da3",
   "metadata": {},
   "outputs": [
    {
     "name": "stdout",
     "output_type": "stream",
     "text": [
      "0\n",
      "1\n",
      "2\n",
      "3\n",
      "4\n"
     ]
    }
   ],
   "source": [
    "for i in range(5):\n",
    "    print(i)"
   ]
  },
  {
   "cell_type": "code",
   "execution_count": 155,
   "id": "ceb9e2a8-e8d8-4767-8799-b1c51c0481c1",
   "metadata": {},
   "outputs": [
    {
     "name": "stdout",
     "output_type": "stream",
     "text": [
      "I ------ 1\n",
      "Love ------ 4\n",
      "my ------ 2\n",
      "trainer ------ 7\n"
     ]
    }
   ],
   "source": [
    "info = 'I Love my trainer'\n",
    "# write a query to print each word length\n",
    "for i in info.split():\n",
    "    print(i,'------',len(i))"
   ]
  },
  {
   "cell_type": "code",
   "execution_count": 163,
   "id": "3939ad69",
   "metadata": {},
   "outputs": [
    {
     "data": {
      "text/plain": [
       "1"
      ]
     },
     "execution_count": 163,
     "metadata": {},
     "output_type": "execute_result"
    }
   ],
   "source": [
    "# Returns the number of occurrences\n",
    "Name.count('J')    "
   ]
  },
  {
   "cell_type": "code",
   "execution_count": 165,
   "id": "44bcaf9c",
   "metadata": {},
   "outputs": [
    {
     "name": "stdout",
     "output_type": "stream",
     "text": [
      "10\n",
      "2\n",
      "JEEVAN RAJ\n",
      "jeevan raj\n",
      "['Jeevan', 'RAJ']\n"
     ]
    }
   ],
   "source": [
    "name = 'Jeevan RAJ'\n",
    "print(len(name))\n",
    "print(name.count('e'))\n",
    "print(name.upper())\n",
    "print(name.lower())\n",
    "print(name.split())"
   ]
  },
  {
   "cell_type": "code",
   "execution_count": 185,
   "id": "ce827374",
   "metadata": {},
   "outputs": [
    {
     "data": {
      "text/plain": [
       "0"
      ]
     },
     "execution_count": 185,
     "metadata": {},
     "output_type": "execute_result"
    }
   ],
   "source": [
    "# Returns the strating index position of the first occurrences\n",
    "Name.find('J')        "
   ]
  },
  {
   "cell_type": "code",
   "execution_count": 181,
   "id": "ced97d03",
   "metadata": {
    "scrolled": true
   },
   "outputs": [
    {
     "data": {
      "text/plain": [
       "9"
      ]
     },
     "execution_count": 181,
     "metadata": {},
     "output_type": "execute_result"
    }
   ],
   "source": [
    "# Returns the last index position of the last occurrence  (rfind-Right most index in string)\n",
    "Name.rfind('j')     "
   ]
  },
  {
   "cell_type": "code",
   "execution_count": 207,
   "id": "32718b2c",
   "metadata": {},
   "outputs": [],
   "source": [
    "language='english'"
   ]
  },
  {
   "cell_type": "code",
   "execution_count": 189,
   "id": "f82fc5fa",
   "metadata": {},
   "outputs": [
    {
     "data": {
      "text/plain": [
       "True"
      ]
     },
     "execution_count": 189,
     "metadata": {},
     "output_type": "execute_result"
    }
   ],
   "source": [
    "# isalnum()      will return True if all characters in language are alphanumeric (should be alphabetic or numeric but it should not contain any special char)\n",
    "\n",
    "language.isalnum()"
   ]
  },
  {
   "cell_type": "code",
   "execution_count": 191,
   "id": "8ae4dd32",
   "metadata": {},
   "outputs": [],
   "source": [
    "a='Jeevan'"
   ]
  },
  {
   "cell_type": "code",
   "execution_count": 193,
   "id": "92ac3bac",
   "metadata": {
    "scrolled": true
   },
   "outputs": [
    {
     "data": {
      "text/plain": [
       "True"
      ]
     },
     "execution_count": 193,
     "metadata": {},
     "output_type": "execute_result"
    }
   ],
   "source": [
    "# isalpha()      will return True if all characters in language are alphabetic \n",
    "\n",
    "language.isalpha()"
   ]
  },
  {
   "cell_type": "code",
   "execution_count": 209,
   "id": "70e62b5e",
   "metadata": {},
   "outputs": [
    {
     "data": {
      "text/plain": [
       "True"
      ]
     },
     "execution_count": 209,
     "metadata": {},
     "output_type": "execute_result"
    }
   ],
   "source": [
    "# islower()    will return True if all characters in language are lowercase and there is at least one #doubt\n",
    "language.islower()"
   ]
  },
  {
   "cell_type": "code",
   "execution_count": 197,
   "id": "4e89f5f5",
   "metadata": {},
   "outputs": [
    {
     "data": {
      "text/plain": [
       "'english'"
      ]
     },
     "execution_count": 197,
     "metadata": {},
     "output_type": "execute_result"
    }
   ],
   "source": [
    "language"
   ]
  },
  {
   "cell_type": "code",
   "execution_count": 211,
   "id": "6a6c9340",
   "metadata": {},
   "outputs": [],
   "source": [
    "language = '3'"
   ]
  },
  {
   "cell_type": "code",
   "execution_count": 129,
   "id": "e267d0b9",
   "metadata": {},
   "outputs": [
    {
     "data": {
      "text/plain": [
       "True"
      ]
     },
     "execution_count": 129,
     "metadata": {},
     "output_type": "execute_result"
    }
   ],
   "source": [
    "# isdigit()     will return True if all characters in language are is digit\n",
    "language.isdigit()"
   ]
  },
  {
   "cell_type": "code",
   "execution_count": 213,
   "id": "8e7ce6bb",
   "metadata": {},
   "outputs": [
    {
     "data": {
      "text/plain": [
       "False"
      ]
     },
     "execution_count": 213,
     "metadata": {},
     "output_type": "execute_result"
    }
   ],
   "source": [
    "# isspace()    will return True if all characters in language are whitespace\n",
    "\n",
    "language.isspace()"
   ]
  },
  {
   "cell_type": "code",
   "execution_count": 127,
   "id": "588be3cd",
   "metadata": {},
   "outputs": [
    {
     "data": {
      "text/plain": [
       "False"
      ]
     },
     "execution_count": 127,
     "metadata": {},
     "output_type": "execute_result"
    }
   ],
   "source": [
    "# istitle()   will return True if ever first letter in upper case and rest in lower case\n",
    "\n",
    "language.istitle()"
   ]
  },
  {
   "cell_type": "code",
   "execution_count": 125,
   "id": "400524db",
   "metadata": {
    "scrolled": true
   },
   "outputs": [
    {
     "data": {
      "text/plain": [
       "False"
      ]
     },
     "execution_count": 125,
     "metadata": {},
     "output_type": "execute_result"
    }
   ],
   "source": [
    "# isupper()     will return True if every letter in upper case\n",
    "\n",
    "language.isupper()"
   ]
  },
  {
   "cell_type": "code",
   "execution_count": 219,
   "id": "8efdc337",
   "metadata": {},
   "outputs": [
    {
     "name": "stdout",
     "output_type": "stream",
     "text": [
      " Jeevan   Raj    The Length of a is = 16\n",
      "Jeevan   Raj After removing the white space the length of a is = 12\n"
     ]
    }
   ],
   "source": [
    "# Remove Whitespace\n",
    "## The Strip() method removes any whitespace from the beginning or the end  \n",
    "### Note. Strip() doesn't affect the original data\n",
    "\n",
    "\n",
    "a=' Jeevan   Raj   '\n",
    "print(a,'The Length of a is =',len(a))\n",
    "print(a.strip(),'After removing the white space the length of a is =',len(a.strip()))"
   ]
  },
  {
   "cell_type": "code",
   "execution_count": 217,
   "id": "a3c6f651",
   "metadata": {},
   "outputs": [
    {
     "name": "stdout",
     "output_type": "stream",
     "text": [
      "tarun\n"
     ]
    }
   ],
   "source": [
    "# Replace String\n",
    "# The replace() method replaces a string with another string\n",
    "\n",
    "Name = 'varun'\n",
    "print(Name.replace('v','t'))"
   ]
  },
  {
   "cell_type": "code",
   "execution_count": 221,
   "id": "f3442370",
   "metadata": {},
   "outputs": [
    {
     "name": "stdout",
     "output_type": "stream",
     "text": [
      "JeevanRaj\n"
     ]
    }
   ],
   "source": [
    "## String concatenation\n",
    "\n",
    "a='Jeevan'\n",
    "b='Raj'\n",
    "c= a+b\n",
    "print(c)"
   ]
  },
  {
   "cell_type": "code",
   "execution_count": 223,
   "id": "34bd8cc3",
   "metadata": {},
   "outputs": [
    {
     "name": "stdout",
     "output_type": "stream",
     "text": [
      "Jeevan Raj\n"
     ]
    }
   ],
   "source": [
    "# To add space between them, add ' '\n",
    "a='Jeevan'\n",
    "b='Raj'\n",
    "c= a +' '+ b\n",
    "print(c)"
   ]
  },
  {
   "cell_type": "code",
   "execution_count": 225,
   "id": "6bd5959c",
   "metadata": {
    "scrolled": true
   },
   "outputs": [],
   "source": [
    "# We cannot combine string and numbers like this it throws an error\n",
    "\n",
    "age = 25\n",
    "txt = 'My Name is Jeevan, I am' + str(age)"
   ]
  },
  {
   "cell_type": "code",
   "execution_count": 227,
   "id": "af04060d",
   "metadata": {},
   "outputs": [
    {
     "name": "stdin",
     "output_type": "stream",
     "text": [
      "enter your name Rohit\n",
      "enter your age 22\n"
     ]
    },
    {
     "name": "stdout",
     "output_type": "stream",
     "text": [
      "My Name is Rohit and my age is 22\n"
     ]
    }
   ],
   "source": [
    "name= input('enter your name')\n",
    "age = int(input('enter your age'))\n",
    "\n",
    "print(f'My Name is {name} and my age is {age}')"
   ]
  },
  {
   "cell_type": "code",
   "execution_count": 185,
   "id": "f096ddf3",
   "metadata": {},
   "outputs": [
    {
     "name": "stdout",
     "output_type": "stream",
     "text": [
      "My Name is Rohit and my age is 22\n"
     ]
    }
   ],
   "source": [
    "print('My Name is',name,'and my age is',age)"
   ]
  },
  {
   "cell_type": "markdown",
   "id": "dee12c91",
   "metadata": {},
   "source": [
    "### To overcome error we use format() method"
   ]
  },
  {
   "cell_type": "markdown",
   "id": "f7283432",
   "metadata": {},
   "source": [
    "### The format() method takes the passed arguments, formats them, and place them in the string where the placeholders {} are"
   ]
  },
  {
   "cell_type": "code",
   "execution_count": 187,
   "id": "a19a57fe",
   "metadata": {},
   "outputs": [
    {
     "name": "stdout",
     "output_type": "stream",
     "text": [
      "My Name is Jeevan, I am 25\n"
     ]
    }
   ],
   "source": [
    "# We are using format() method to insert numbers into string\n",
    "\n",
    "age = 25\n",
    "txt = 'My Name is Jeevan, I am {}'\n",
    "print(txt.format(age))"
   ]
  },
  {
   "cell_type": "code",
   "execution_count": 191,
   "id": "4f5fda24",
   "metadata": {},
   "outputs": [],
   "source": [
    "place='Bangalore'"
   ]
  },
  {
   "cell_type": "code",
   "execution_count": 193,
   "id": "8e7a5d48",
   "metadata": {},
   "outputs": [
    {
     "name": "stdout",
     "output_type": "stream",
     "text": [
      "I am Jeevan and my Age =  25 and i am from = Bangalore\n"
     ]
    }
   ],
   "source": [
    "print(f'I am Jeevan and my Age = ',age,'and i am from =',place) "
   ]
  },
  {
   "cell_type": "code",
   "execution_count": 147,
   "id": "1584ad9e",
   "metadata": {},
   "outputs": [
    {
     "name": "stdout",
     "output_type": "stream",
     "text": [
      "I am Jeevan and my age = 25 and i am from Bangalore\n"
     ]
    }
   ],
   "source": [
    "print(f'I am Jeevan and my age = {age} and i am from {place}')"
   ]
  },
  {
   "cell_type": "markdown",
   "id": "189018c4",
   "metadata": {},
   "source": [
    "Another method is <code>endswith()</code> which is essentially the same as a boolean check on <code>s[-1]</code>"
   ]
  },
  {
   "cell_type": "code",
   "execution_count": 217,
   "id": "d42774f7-1906-4000-b0d6-a18567d73570",
   "metadata": {},
   "outputs": [],
   "source": [
    "name = ['Apple','banana','mango','Anand','Andy','anusha']"
   ]
  },
  {
   "cell_type": "code",
   "execution_count": 213,
   "id": "c4d0981c-bb71-4068-aad8-8c7e1fba3977",
   "metadata": {},
   "outputs": [
    {
     "name": "stdout",
     "output_type": "stream",
     "text": [
      "Apple 5\n",
      "Anand 5\n",
      "Andy 4\n",
      "Anusha 6\n"
     ]
    }
   ],
   "source": [
    "for i in name:\n",
    "    if i.upper().startswith('A'):\n",
    "        print(i,len(i))\n"
   ]
  },
  {
   "cell_type": "code",
   "execution_count": 219,
   "id": "73c899e4-3f94-4580-b948-b30e215466ef",
   "metadata": {},
   "outputs": [
    {
     "name": "stdout",
     "output_type": "stream",
     "text": [
      "Apple 5\n",
      "Anand 5\n",
      "Andy 4\n",
      "anusha 6\n"
     ]
    }
   ],
   "source": [
    "for i in name:\n",
    "    if i.upper()[0] =='A':\n",
    "        print(i,len(i))"
   ]
  },
  {
   "cell_type": "code",
   "execution_count": 153,
   "id": "0e929f16",
   "metadata": {},
   "outputs": [
    {
     "name": "stdout",
     "output_type": "stream",
     "text": [
      "i am rahul i am studying Python and my age is 25\n"
     ]
    }
   ],
   "source": [
    "module = 'Python'\n",
    "age = 25\n",
    "name = 'rahul'\n",
    "\n",
    "print(f'i am {name} i am studying {module} and my age is {age}')"
   ]
  },
  {
   "cell_type": "code",
   "execution_count": 223,
   "id": "89d85932",
   "metadata": {},
   "outputs": [],
   "source": [
    "language = 'Python'"
   ]
  },
  {
   "cell_type": "code",
   "execution_count": 225,
   "id": "939458e0",
   "metadata": {},
   "outputs": [
    {
     "data": {
      "text/plain": [
       "True"
      ]
     },
     "execution_count": 225,
     "metadata": {},
     "output_type": "execute_result"
    }
   ],
   "source": [
    "language.endswith('hon')"
   ]
  },
  {
   "cell_type": "code",
   "execution_count": 233,
   "id": "cb64736e",
   "metadata": {},
   "outputs": [
    {
     "data": {
      "text/plain": [
       "True"
      ]
     },
     "execution_count": 233,
     "metadata": {},
     "output_type": "execute_result"
    }
   ],
   "source": [
    "language.startswith('Py')"
   ]
  },
  {
   "cell_type": "code",
   "execution_count": 233,
   "id": "659db868",
   "metadata": {},
   "outputs": [
    {
     "data": {
      "text/plain": [
       "['I',\n",
       " 'am',\n",
       " 'Jeevan',\n",
       " 'Raj',\n",
       " 'i',\n",
       " 'am',\n",
       " 'Datascience',\n",
       " 'coach',\n",
       " 'I',\n",
       " 'love',\n",
       " 'my',\n",
       " 'Students']"
      ]
     },
     "execution_count": 233,
     "metadata": {},
     "output_type": "execute_result"
    }
   ],
   "source": [
    "info = 'I am Jeevan Raj i am Datascience coach I love my Students'\n",
    "\n",
    "info.split()"
   ]
  },
  {
   "cell_type": "code",
   "execution_count": 243,
   "id": "84e65388",
   "metadata": {},
   "outputs": [
    {
     "data": {
      "text/plain": [
       "('I ', 'am', ' Jeevan Raj i am Datascience coach I love my Students')"
      ]
     },
     "execution_count": 243,
     "metadata": {},
     "output_type": "execute_result"
    }
   ],
   "source": [
    "info.partition('am')  # Partition divides data in to 3 sentences "
   ]
  },
  {
   "cell_type": "markdown",
   "id": "775c7d59",
   "metadata": {},
   "source": [
    "### checking length of the string"
   ]
  },
  {
   "cell_type": "code",
   "execution_count": 231,
   "id": "0201c852",
   "metadata": {},
   "outputs": [
    {
     "name": "stdout",
     "output_type": "stream",
     "text": [
      "I Love my trainer\n",
      "17\n"
     ]
    }
   ],
   "source": [
    "# The len() function returns the length of a string\n",
    "\n",
    "print(info)\n",
    "print(len(info))"
   ]
  },
  {
   "cell_type": "markdown",
   "id": "cb38dcb5",
   "metadata": {},
   "source": [
    "### Check String"
   ]
  },
  {
   "cell_type": "code",
   "execution_count": 235,
   "id": "260e03ab",
   "metadata": {},
   "outputs": [
    {
     "name": "stdout",
     "output_type": "stream",
     "text": [
      "I am Jeevan Raj i am Datascience coach I love my Students\n",
      "True\n"
     ]
    }
   ],
   "source": [
    "# To check if a certain phrase or character is present in a string, we can use the keyword in.\n",
    "\n",
    "# we are checking if 'Datascience' is present in the following text:\n",
    "print(info)\n",
    "print('Datascience' in info)"
   ]
  },
  {
   "cell_type": "code",
   "execution_count": 237,
   "id": "a920f662-f77d-4291-829d-2a27de245cb3",
   "metadata": {},
   "outputs": [
    {
     "name": "stdout",
     "output_type": "stream",
     "text": [
      "I am Jeevan Raj i am Datascience coach I love my Students\n",
      "False\n"
     ]
    }
   ],
   "source": [
    "print(info)\n",
    "print('Datascience' not in info)"
   ]
  },
  {
   "cell_type": "code",
   "execution_count": 239,
   "id": "c3209db9-d15c-4a5c-a01b-81e306a7c4fe",
   "metadata": {},
   "outputs": [
    {
     "name": "stdout",
     "output_type": "stream",
     "text": [
      "recheck\n"
     ]
    }
   ],
   "source": [
    "comment = 'I am from imarticus'\n",
    "\n",
    "if 'tata' in comment:\n",
    "    print('Yes it is present')\n",
    "elif 'imarticus' in comment:\n",
    "    print('recheck')\n",
    "else:\n",
    "    print('No its not present')\n",
    "    "
   ]
  },
  {
   "cell_type": "code",
   "execution_count": 295,
   "id": "be4e03e8-5aa3-4ce5-892e-dcd80ec3821a",
   "metadata": {},
   "outputs": [
    {
     "name": "stdout",
     "output_type": "stream",
     "text": [
      "25 Fail\n",
      "45 Fail\n",
      "36 Fail\n",
      "75 Pass\n",
      "12 Fail\n"
     ]
    }
   ],
   "source": [
    "marks = [25,45,36,75,12]\n",
    "# query to print marks are pass or fail\n",
    "#marks>50 then pass else fail\n",
    "for i in marks:\n",
    "    if i>50:\n",
    "        print(i,'Pass')\n",
    "    else:\n",
    "        print(i,'Fail')"
   ]
  },
  {
   "cell_type": "code",
   "execution_count": 164,
   "id": "fd4461a4",
   "metadata": {},
   "outputs": [
    {
     "name": "stdout",
     "output_type": "stream",
     "text": [
      "Yes, \"Datascience\" is Present\n"
     ]
    }
   ],
   "source": [
    "# The other way of writing the code is by using conditional statement\n",
    "\n",
    "if 'Datascience' in info:\n",
    "    print('Yes, \"Datascience\" is Present')\n",
    "else:\n",
    "    print('its not present')"
   ]
  },
  {
   "cell_type": "code",
   "execution_count": 167,
   "id": "e34f951e",
   "metadata": {},
   "outputs": [
    {
     "name": "stdout",
     "output_type": "stream",
     "text": [
      "I am Jeevan Raj i am Datascience coach I love my Students\n",
      "True\n"
     ]
    }
   ],
   "source": [
    "# we are checking if 'Hard worker' is present in the following text:\n",
    "print(info)\n",
    "print('Hard worker' not in info)\n"
   ]
  },
  {
   "cell_type": "markdown",
   "id": "a57c081a",
   "metadata": {},
   "source": [
    "## Numbers in Python"
   ]
  },
  {
   "cell_type": "code",
   "execution_count": 241,
   "id": "f74c62c3",
   "metadata": {},
   "outputs": [
    {
     "name": "stdout",
     "output_type": "stream",
     "text": [
      "20\n",
      "<class 'int'>\n"
     ]
    }
   ],
   "source": [
    "a = 20\n",
    "print(a)\n",
    "print(type(a))"
   ]
  },
  {
   "cell_type": "code",
   "execution_count": 243,
   "id": "ac458b4f",
   "metadata": {},
   "outputs": [
    {
     "name": "stdout",
     "output_type": "stream",
     "text": [
      "10.5\n",
      "<class 'float'>\n"
     ]
    }
   ],
   "source": [
    "a=10.5\n",
    "print(a)\n",
    "print(type(a))"
   ]
  },
  {
   "cell_type": "code",
   "execution_count": 174,
   "id": "3c5a4bbf",
   "metadata": {},
   "outputs": [
    {
     "name": "stdout",
     "output_type": "stream",
     "text": [
      "(2+10) * (10+3) = 156\n",
      "2+2/2 = 3.0\n"
     ]
    }
   ],
   "source": [
    "# Always it works on BODMAS Rules\n",
    "\n",
    "print('(2+10) * (10+3) =',(2+10) * (10+3))\n",
    "print('2+2/2 =',2+2/2)"
   ]
  },
  {
   "cell_type": "markdown",
   "id": "9fcfbf72",
   "metadata": {},
   "source": [
    "#### will study more about number while learning operators"
   ]
  },
  {
   "cell_type": "markdown",
   "id": "22c41223",
   "metadata": {},
   "source": [
    "## Booleans\n",
    "\n",
    "Python  comes with Booleans (with predefined True and False displays that are basically just the integers 1 and 0). It also has a placeholder object called None. Let's walk through a few quick examples of Booleans."
   ]
  },
  {
   "cell_type": "code",
   "execution_count": 245,
   "id": "4370cda4",
   "metadata": {},
   "outputs": [],
   "source": [
    "# Set object to be a boolean\n",
    "a = True"
   ]
  },
  {
   "cell_type": "code",
   "execution_count": 247,
   "id": "0e97def2",
   "metadata": {},
   "outputs": [
    {
     "data": {
      "text/plain": [
       "bool"
      ]
     },
     "execution_count": 247,
     "metadata": {},
     "output_type": "execute_result"
    }
   ],
   "source": [
    "type(a)"
   ]
  },
  {
   "cell_type": "code",
   "execution_count": 249,
   "id": "80f160fb",
   "metadata": {},
   "outputs": [
    {
     "data": {
      "text/plain": [
       "True"
      ]
     },
     "execution_count": 249,
     "metadata": {},
     "output_type": "execute_result"
    }
   ],
   "source": [
    "#Show\n",
    "a"
   ]
  },
  {
   "cell_type": "markdown",
   "id": "bd7c581c",
   "metadata": {},
   "source": [
    "We can also use comparison operators to create booleans. We will go over all the comparison operators later on in the course."
   ]
  },
  {
   "cell_type": "code",
   "execution_count": 253,
   "id": "98828d13",
   "metadata": {},
   "outputs": [
    {
     "data": {
      "text/plain": [
       "False"
      ]
     },
     "execution_count": 253,
     "metadata": {},
     "output_type": "execute_result"
    }
   ],
   "source": [
    "# Output is boolean\n",
    "2 < 1"
   ]
  },
  {
   "cell_type": "code",
   "execution_count": 257,
   "id": "cd6ea4b9",
   "metadata": {},
   "outputs": [
    {
     "data": {
      "text/plain": [
       "True"
      ]
     },
     "execution_count": 257,
     "metadata": {},
     "output_type": "execute_result"
    }
   ],
   "source": [
    "1 == 1"
   ]
  },
  {
   "cell_type": "markdown",
   "id": "eb9ce1ff",
   "metadata": {},
   "source": [
    "We can use None as a placeholder for an object that we don't want to reassign yet:"
   ]
  },
  {
   "cell_type": "code",
   "execution_count": 307,
   "id": "461cdd8a",
   "metadata": {},
   "outputs": [],
   "source": [
    "# None placeholder\n",
    "b = None"
   ]
  },
  {
   "cell_type": "code",
   "execution_count": 309,
   "id": "03d1eab7",
   "metadata": {},
   "outputs": [
    {
     "name": "stdout",
     "output_type": "stream",
     "text": [
      "None\n"
     ]
    }
   ],
   "source": [
    "# Show\n",
    "print(b)"
   ]
  },
  {
   "cell_type": "markdown",
   "id": "f9c02514",
   "metadata": {},
   "source": [
    "# Lists\n",
    "\n",
    "Earlier when discussing strings we introduced the concept of a *sequence* in Python. Lists can be thought of the most general version of a *sequence* in Python. Unlike strings, **they are mutable, meaning the elements inside a list can be changed!**\n",
    "\n",
    "In this section we will learn about:\n",
    "    \n",
    "    1.) Creating lists\n",
    "    2.) Indexing and Slicing Lists\n",
    "    3.) Basic List Methods\n",
    "    4.) Nesting Lists\n",
    "    5.) etc..\n",
    "   \n",
    "\n",
    "Lists are constructed with brackets [ ] and commas separating every element in the list.\n",
    "\n",
    "Let's go ahead and see how we can construct lists!"
   ]
  },
  {
   "cell_type": "code",
   "execution_count": 261,
   "id": "49775a01-4882-4472-ac71-79a6bc918ab6",
   "metadata": {},
   "outputs": [],
   "source": [
    "lis = [1,2.5,'jeevan',True]"
   ]
  },
  {
   "cell_type": "code",
   "execution_count": 263,
   "id": "0301ec89-9ca3-473b-bcd4-8c738bfe60e6",
   "metadata": {},
   "outputs": [
    {
     "data": {
      "text/plain": [
       "'n'"
      ]
     },
     "execution_count": 263,
     "metadata": {},
     "output_type": "execute_result"
    }
   ],
   "source": [
    "lis[2][-1]"
   ]
  },
  {
   "cell_type": "code",
   "execution_count": 321,
   "id": "6de8eac4-8e89-434e-a50e-b482f89a5050",
   "metadata": {},
   "outputs": [],
   "source": [
    "lis1 = [[1,2,3,5],['Disha','Jenifer','Nayana','Tripti']]"
   ]
  },
  {
   "cell_type": "code",
   "execution_count": 323,
   "id": "cc832b24-a9b3-4a06-a8e1-66fa4c2dc01e",
   "metadata": {},
   "outputs": [
    {
     "data": {
      "text/plain": [
       "'Tri'"
      ]
     },
     "execution_count": 323,
     "metadata": {},
     "output_type": "execute_result"
    }
   ],
   "source": [
    "lis1[1][3][0:3]"
   ]
  },
  {
   "cell_type": "code",
   "execution_count": null,
   "id": "8f7167b6-bbae-45d2-aa9a-b1ee94235336",
   "metadata": {},
   "outputs": [],
   "source": []
  },
  {
   "cell_type": "code",
   "execution_count": 329,
   "id": "4be2401a",
   "metadata": {},
   "outputs": [],
   "source": [
    "# Assign a list to an variable named my_list\n",
    "my_list = [1,2,3]"
   ]
  },
  {
   "cell_type": "markdown",
   "id": "f9fea1da",
   "metadata": {},
   "source": [
    "We just created a list of integers, but lists can actually hold different object types such as int,float, string, boolean objects, etc which makes it heterogeneous "
   ]
  },
  {
   "cell_type": "code",
   "execution_count": 185,
   "id": "ea1f7397",
   "metadata": {
    "collapsed": true,
    "jupyter": {
     "outputs_hidden": true
    },
    "scrolled": true
   },
   "outputs": [
    {
     "data": {
      "text/plain": [
       "['A string', 23, 100.232, 'o', True]"
      ]
     },
     "execution_count": 185,
     "metadata": {},
     "output_type": "execute_result"
    }
   ],
   "source": [
    "my_list = ['A string',23,100.232,'o',True]\n",
    "my_list"
   ]
  },
  {
   "cell_type": "code",
   "execution_count": 188,
   "id": "ec6b482d",
   "metadata": {},
   "outputs": [
    {
     "name": "stdout",
     "output_type": "stream",
     "text": [
      "<class 'str'> <class 'int'> <class 'float'> <class 'str'> <class 'bool'>\n"
     ]
    }
   ],
   "source": [
    "print(type(my_list[0]),type(my_list[1]),type(my_list[2]),type(my_list[3]),type(my_list[4]))"
   ]
  },
  {
   "cell_type": "markdown",
   "id": "92cdb289",
   "metadata": {},
   "source": [
    "Just like strings, the len() function will tell you how many items are in the sequence of the list."
   ]
  },
  {
   "cell_type": "code",
   "execution_count": 88,
   "id": "001af0b2",
   "metadata": {},
   "outputs": [
    {
     "data": {
      "text/plain": [
       "5"
      ]
     },
     "execution_count": 88,
     "metadata": {},
     "output_type": "execute_result"
    }
   ],
   "source": [
    "len(my_list)"
   ]
  },
  {
   "cell_type": "markdown",
   "id": "b7223a5c",
   "metadata": {},
   "source": [
    "### Indexing and Slicing\n",
    "Indexing and slicing work just like in strings. Let's make a new list to remind ourselves of how this works:"
   ]
  },
  {
   "cell_type": "code",
   "execution_count": 331,
   "id": "71f8c719",
   "metadata": {},
   "outputs": [],
   "source": [
    "my_list = ['one','two','three',4,5,True]"
   ]
  },
  {
   "cell_type": "code",
   "execution_count": 333,
   "id": "2e2f51d2",
   "metadata": {},
   "outputs": [
    {
     "data": {
      "text/plain": [
       "list"
      ]
     },
     "execution_count": 333,
     "metadata": {},
     "output_type": "execute_result"
    }
   ],
   "source": [
    "type(my_list)"
   ]
  },
  {
   "cell_type": "code",
   "execution_count": 339,
   "id": "05008133",
   "metadata": {},
   "outputs": [
    {
     "data": {
      "text/plain": [
       "'one'"
      ]
     },
     "execution_count": 339,
     "metadata": {},
     "output_type": "execute_result"
    }
   ],
   "source": [
    "my_list[0]"
   ]
  },
  {
   "cell_type": "code",
   "execution_count": 341,
   "id": "c113fb0a",
   "metadata": {},
   "outputs": [
    {
     "data": {
      "text/plain": [
       "str"
      ]
     },
     "execution_count": 341,
     "metadata": {},
     "output_type": "execute_result"
    }
   ],
   "source": [
    "# Grab element at index 0\n",
    "type(my_list[0])"
   ]
  },
  {
   "cell_type": "code",
   "execution_count": 193,
   "id": "0e7281df",
   "metadata": {},
   "outputs": [
    {
     "data": {
      "text/plain": [
       "['two', 'three', 4, 5, True]"
      ]
     },
     "execution_count": 193,
     "metadata": {},
     "output_type": "execute_result"
    }
   ],
   "source": [
    "# Grab index 1 and everything past it\n",
    "my_list[1:]"
   ]
  },
  {
   "cell_type": "code",
   "execution_count": 194,
   "id": "5c5f0eb5",
   "metadata": {},
   "outputs": [
    {
     "data": {
      "text/plain": [
       "['one', 'two', 'three', 4, 5, True]"
      ]
     },
     "execution_count": 194,
     "metadata": {},
     "output_type": "execute_result"
    }
   ],
   "source": [
    "my_list"
   ]
  },
  {
   "cell_type": "code",
   "execution_count": 197,
   "id": "6056d31d",
   "metadata": {},
   "outputs": [
    {
     "data": {
      "text/plain": [
       "['one', 'two', 'three']"
      ]
     },
     "execution_count": 197,
     "metadata": {},
     "output_type": "execute_result"
    }
   ],
   "source": [
    "# Grab everything UP TO index 3\n",
    "my_list[:3]             # my_list[start:stop:step]"
   ]
  },
  {
   "cell_type": "markdown",
   "id": "e0100569",
   "metadata": {},
   "source": [
    "We can also use + to concatenate lists, just like we did for strings."
   ]
  },
  {
   "cell_type": "code",
   "execution_count": 201,
   "id": "662b20d1",
   "metadata": {},
   "outputs": [
    {
     "data": {
      "text/plain": [
       "['one', 'two', 'three', 4, 5, True, 'new item']"
      ]
     },
     "execution_count": 201,
     "metadata": {},
     "output_type": "execute_result"
    }
   ],
   "source": [
    "my_list + ['new item']"
   ]
  },
  {
   "cell_type": "markdown",
   "id": "dd99f422",
   "metadata": {},
   "source": [
    "Note: This doesn't actually change the original list!"
   ]
  },
  {
   "cell_type": "code",
   "execution_count": 343,
   "id": "0910f23a",
   "metadata": {},
   "outputs": [],
   "source": [
    "my_list = my_list + ['new item']"
   ]
  },
  {
   "cell_type": "code",
   "execution_count": 206,
   "id": "41b576de",
   "metadata": {},
   "outputs": [
    {
     "data": {
      "text/plain": [
       "['one', 'two', 'three', 4, 5, True]"
      ]
     },
     "execution_count": 206,
     "metadata": {},
     "output_type": "execute_result"
    }
   ],
   "source": [
    "my_list"
   ]
  },
  {
   "cell_type": "markdown",
   "id": "d06f97ad",
   "metadata": {},
   "source": [
    "You would have to reassign the list to make the change permanent."
   ]
  },
  {
   "cell_type": "code",
   "execution_count": 207,
   "id": "4d1b4e04",
   "metadata": {
    "collapsed": true,
    "jupyter": {
     "outputs_hidden": true
    }
   },
   "outputs": [],
   "source": [
    "# Reassign\n",
    "my_list = my_list + ['add new item permanently']"
   ]
  },
  {
   "cell_type": "code",
   "execution_count": 208,
   "id": "62238247",
   "metadata": {},
   "outputs": [
    {
     "data": {
      "text/plain": [
       "['one', 'two', 'three', 4, 5, True, 'add new item permanently']"
      ]
     },
     "execution_count": 208,
     "metadata": {},
     "output_type": "execute_result"
    }
   ],
   "source": [
    "my_list"
   ]
  },
  {
   "cell_type": "markdown",
   "id": "29938635",
   "metadata": {},
   "source": [
    "We can also use the * for a duplication method similar to strings:"
   ]
  },
  {
   "cell_type": "code",
   "execution_count": 210,
   "id": "0ae8abe6",
   "metadata": {},
   "outputs": [
    {
     "data": {
      "text/plain": [
       "['one',\n",
       " 'two',\n",
       " 'three',\n",
       " 4,\n",
       " 5,\n",
       " True,\n",
       " 'add new item permanently',\n",
       " 'one',\n",
       " 'two',\n",
       " 'three',\n",
       " 4,\n",
       " 5,\n",
       " True,\n",
       " 'add new item permanently']"
      ]
     },
     "execution_count": 210,
     "metadata": {},
     "output_type": "execute_result"
    }
   ],
   "source": [
    "# Make the list double\n",
    "my_list * 2"
   ]
  },
  {
   "cell_type": "code",
   "execution_count": 211,
   "id": "2b304bc3",
   "metadata": {
    "scrolled": true
   },
   "outputs": [
    {
     "data": {
      "text/plain": [
       "['one', 'two', 'three', 4, 5, True, 'add new item permanently']"
      ]
     },
     "execution_count": 211,
     "metadata": {},
     "output_type": "execute_result"
    }
   ],
   "source": [
    "# Again doubling not permanent\n",
    "my_list"
   ]
  },
  {
   "cell_type": "markdown",
   "id": "491d61f9",
   "metadata": {},
   "source": [
    "#### Let's go ahead and explore some more special methods for lists:"
   ]
  },
  {
   "cell_type": "code",
   "execution_count": 357,
   "id": "823f6237",
   "metadata": {},
   "outputs": [],
   "source": [
    "# Create a new list\n",
    "list1 = [1,2,3]"
   ]
  },
  {
   "cell_type": "code",
   "execution_count": 359,
   "id": "b4170e02-9799-4d43-bbc9-d1218e0d0b70",
   "metadata": {},
   "outputs": [],
   "source": [
    "list1.append([4,5])"
   ]
  },
  {
   "cell_type": "code",
   "execution_count": 355,
   "id": "77f105b8-efdb-4877-878d-d733f3f93cd8",
   "metadata": {},
   "outputs": [],
   "source": [
    "list1.extend([4,5])"
   ]
  },
  {
   "cell_type": "code",
   "execution_count": 377,
   "id": "294de799-dd12-4bf0-b405-7f0000161b54",
   "metadata": {},
   "outputs": [],
   "source": [
    "list = [1,2,3,4,5]"
   ]
  },
  {
   "cell_type": "code",
   "execution_count": 379,
   "id": "e36d844e-47f4-4d73-b6c2-4ac0c0d240d3",
   "metadata": {},
   "outputs": [],
   "source": [
    "list.append([6,7])"
   ]
  },
  {
   "cell_type": "code",
   "execution_count": 415,
   "id": "b26e2570-6f59-4532-8d5e-eea4ee347e25",
   "metadata": {},
   "outputs": [
    {
     "data": {
      "text/plain": [
       "[1, 2, 3, 4, 5, 6, 7]"
      ]
     },
     "execution_count": 415,
     "metadata": {},
     "output_type": "execute_result"
    }
   ],
   "source": [
    "list"
   ]
  },
  {
   "cell_type": "code",
   "execution_count": 405,
   "id": "3fd70fae-d3ee-4d43-8200-5b606ceb6ba4",
   "metadata": {},
   "outputs": [
    {
     "data": {
      "text/plain": [
       "[6, 7]"
      ]
     },
     "execution_count": 405,
     "metadata": {},
     "output_type": "execute_result"
    }
   ],
   "source": [
    "list.pop()"
   ]
  },
  {
   "cell_type": "code",
   "execution_count": 413,
   "id": "0950497b-24e0-4306-9de7-239418d70195",
   "metadata": {},
   "outputs": [],
   "source": [
    "list.insert(5,6)"
   ]
  },
  {
   "cell_type": "markdown",
   "id": "4a310a37",
   "metadata": {},
   "source": [
    "Use the **append** method to permanently add an item to the end of a list:"
   ]
  },
  {
   "cell_type": "code",
   "execution_count": 361,
   "id": "2ea426f3",
   "metadata": {},
   "outputs": [],
   "source": [
    "# Append\n",
    "list1.append('append me!')"
   ]
  },
  {
   "cell_type": "code",
   "execution_count": 222,
   "id": "72d3cd3e",
   "metadata": {},
   "outputs": [
    {
     "data": {
      "text/plain": [
       "[1, 2, 3, 'append me!']"
      ]
     },
     "execution_count": 222,
     "metadata": {},
     "output_type": "execute_result"
    }
   ],
   "source": [
    "# Show\n",
    "list1"
   ]
  },
  {
   "cell_type": "markdown",
   "id": "b784b165",
   "metadata": {},
   "source": [
    "Use **pop** to \"pop off\" an item from the list. By default pop takes off the last index, but you can also specify which index to pop off. Let's see an example:"
   ]
  },
  {
   "cell_type": "code",
   "execution_count": 403,
   "id": "1b9fb28c",
   "metadata": {
    "scrolled": true
   },
   "outputs": [
    {
     "data": {
      "text/plain": [
       "[4, 5]"
      ]
     },
     "execution_count": 403,
     "metadata": {},
     "output_type": "execute_result"
    }
   ],
   "source": [
    "list1.pop()"
   ]
  },
  {
   "cell_type": "code",
   "execution_count": 401,
   "id": "d0e7a639",
   "metadata": {},
   "outputs": [
    {
     "data": {
      "text/plain": [
       "[1, 2, 3, [4, 5]]"
      ]
     },
     "execution_count": 401,
     "metadata": {},
     "output_type": "execute_result"
    }
   ],
   "source": [
    "list1"
   ]
  },
  {
   "cell_type": "code",
   "execution_count": 209,
   "id": "f60e5dc1",
   "metadata": {},
   "outputs": [
    {
     "data": {
      "text/plain": [
       "2"
      ]
     },
     "execution_count": 209,
     "metadata": {},
     "output_type": "execute_result"
    }
   ],
   "source": [
    "# Pop off the 0 indexed item\n",
    "list1.pop(1)"
   ]
  },
  {
   "cell_type": "code",
   "execution_count": 227,
   "id": "d8632ab5",
   "metadata": {},
   "outputs": [
    {
     "data": {
      "text/plain": [
       "[1, 3]"
      ]
     },
     "execution_count": 227,
     "metadata": {},
     "output_type": "execute_result"
    }
   ],
   "source": [
    "# Show\n",
    "list1"
   ]
  },
  {
   "cell_type": "code",
   "execution_count": 228,
   "id": "91881214",
   "metadata": {
    "collapsed": true,
    "jupyter": {
     "outputs_hidden": true
    }
   },
   "outputs": [],
   "source": [
    "# Assign the popped element, remember default popped index is -1\n",
    "popped_item = list1.pop()"
   ]
  },
  {
   "cell_type": "code",
   "execution_count": 229,
   "id": "bb79305a",
   "metadata": {},
   "outputs": [
    {
     "data": {
      "text/plain": [
       "3"
      ]
     },
     "execution_count": 229,
     "metadata": {},
     "output_type": "execute_result"
    }
   ],
   "source": [
    "popped_item"
   ]
  },
  {
   "cell_type": "code",
   "execution_count": 419,
   "id": "9720de44",
   "metadata": {},
   "outputs": [
    {
     "data": {
      "text/plain": [
       "[1, 2, 3]"
      ]
     },
     "execution_count": 419,
     "metadata": {},
     "output_type": "execute_result"
    }
   ],
   "source": [
    "# Show remaining list\n",
    "list1"
   ]
  },
  {
   "cell_type": "markdown",
   "id": "63573e18",
   "metadata": {},
   "source": [
    "It should also be noted that lists indexing will return an error if there is no element at that index. For example:"
   ]
  },
  {
   "cell_type": "code",
   "execution_count": 421,
   "id": "6a22bebd",
   "metadata": {},
   "outputs": [
    {
     "ename": "IndexError",
     "evalue": "list index out of range",
     "output_type": "error",
     "traceback": [
      "\u001b[1;31m---------------------------------------------------------------------------\u001b[0m",
      "\u001b[1;31mIndexError\u001b[0m                                Traceback (most recent call last)",
      "Cell \u001b[1;32mIn[421], line 1\u001b[0m\n\u001b[1;32m----> 1\u001b[0m list1[\u001b[38;5;241m100\u001b[39m]\n",
      "\u001b[1;31mIndexError\u001b[0m: list index out of range"
     ]
    }
   ],
   "source": [
    "list1[100]"
   ]
  },
  {
   "cell_type": "markdown",
   "id": "0ed5e35f",
   "metadata": {},
   "source": [
    "We can use the **sort** method and the **reverse** methods to also effect your lists:"
   ]
  },
  {
   "cell_type": "code",
   "execution_count": 423,
   "id": "6456f209",
   "metadata": {},
   "outputs": [],
   "source": [
    "new_list = ['a','e','x','b','c']"
   ]
  },
  {
   "cell_type": "code",
   "execution_count": 425,
   "id": "cd5ea6ec",
   "metadata": {},
   "outputs": [
    {
     "data": {
      "text/plain": [
       "['a', 'e', 'x', 'b', 'c']"
      ]
     },
     "execution_count": 425,
     "metadata": {},
     "output_type": "execute_result"
    }
   ],
   "source": [
    "#Show\n",
    "new_list"
   ]
  },
  {
   "cell_type": "code",
   "execution_count": 427,
   "id": "7d656fad",
   "metadata": {},
   "outputs": [],
   "source": [
    "# Use reverse to reverse order (this is permanent!)\n",
    "new_list.reverse()"
   ]
  },
  {
   "cell_type": "code",
   "execution_count": 235,
   "id": "dc989d06",
   "metadata": {},
   "outputs": [
    {
     "data": {
      "text/plain": [
       "['c', 'b', 'x', 'e', 'a']"
      ]
     },
     "execution_count": 235,
     "metadata": {},
     "output_type": "execute_result"
    }
   ],
   "source": [
    "new_list"
   ]
  },
  {
   "cell_type": "code",
   "execution_count": 429,
   "id": "99924972",
   "metadata": {},
   "outputs": [],
   "source": [
    "new_list = new_list[::-1]"
   ]
  },
  {
   "cell_type": "code",
   "execution_count": 431,
   "id": "1c154084",
   "metadata": {},
   "outputs": [
    {
     "data": {
      "text/plain": [
       "['a', 'e', 'x', 'b', 'c']"
      ]
     },
     "execution_count": 431,
     "metadata": {},
     "output_type": "execute_result"
    }
   ],
   "source": [
    "new_list"
   ]
  },
  {
   "cell_type": "code",
   "execution_count": 433,
   "id": "2a19c0f3",
   "metadata": {},
   "outputs": [],
   "source": [
    "# Use sort to sort the list (in this case alphabetical order, but for numbers it will go ascending)\n",
    "new_list.sort()         # sort will affect the original list"
   ]
  },
  {
   "cell_type": "code",
   "execution_count": 435,
   "id": "771391e5",
   "metadata": {},
   "outputs": [
    {
     "data": {
      "text/plain": [
       "['a', 'b', 'c', 'e', 'x']"
      ]
     },
     "execution_count": 435,
     "metadata": {},
     "output_type": "execute_result"
    }
   ],
   "source": [
    "new_list"
   ]
  },
  {
   "cell_type": "code",
   "execution_count": 437,
   "id": "5d307e6d",
   "metadata": {},
   "outputs": [
    {
     "name": "stdout",
     "output_type": "stream",
     "text": [
      "['a', 'b', 'c', 'e', 'x']\n"
     ]
    }
   ],
   "source": [
    "# For Numeric Sorting\n",
    "print(new_list)"
   ]
  },
  {
   "cell_type": "code",
   "execution_count": 439,
   "id": "ed557a40",
   "metadata": {},
   "outputs": [],
   "source": [
    "new_list.sort(reverse=True) "
   ]
  },
  {
   "cell_type": "code",
   "execution_count": 441,
   "id": "f9f49b82",
   "metadata": {},
   "outputs": [
    {
     "data": {
      "text/plain": [
       "['x', 'e', 'c', 'b', 'a']"
      ]
     },
     "execution_count": 441,
     "metadata": {},
     "output_type": "execute_result"
    }
   ],
   "source": [
    "new_list"
   ]
  },
  {
   "cell_type": "markdown",
   "id": "413c50f5",
   "metadata": {},
   "source": [
    "## Nesting Lists\n",
    "A great feature of Python data structures is that they support *nesting*. This means we can have data structures within data structures. For example: A list inside a list.\n",
    "\n",
    "Let's see how this works!"
   ]
  },
  {
   "cell_type": "code",
   "execution_count": 443,
   "id": "efc218ae",
   "metadata": {},
   "outputs": [],
   "source": [
    "# Let's make three lists\n",
    "lst_1=[1,2,3]\n",
    "lst_2=[4,5,6]\n",
    "lst_3=[7,8,9]\n",
    "\n",
    "# Make a list of lists to form a matrix\n",
    "matrix = [lst_1,lst_2,lst_3]"
   ]
  },
  {
   "cell_type": "code",
   "execution_count": 445,
   "id": "6a59b8f1",
   "metadata": {
    "scrolled": true
   },
   "outputs": [
    {
     "data": {
      "text/plain": [
       "[[1, 2, 3], [4, 5, 6], [7, 8, 9]]"
      ]
     },
     "execution_count": 445,
     "metadata": {},
     "output_type": "execute_result"
    }
   ],
   "source": [
    "# Show\n",
    "matrix"
   ]
  },
  {
   "cell_type": "code",
   "execution_count": 447,
   "id": "055fea1a",
   "metadata": {},
   "outputs": [],
   "source": [
    "a = [1,2,3]\n",
    "b = [4,5,6,'raj']\n",
    "c = [7,8,9,'G1']\n",
    "new_list = [a,b,c]"
   ]
  },
  {
   "cell_type": "code",
   "execution_count": 449,
   "id": "994cc2ba",
   "metadata": {},
   "outputs": [
    {
     "data": {
      "text/plain": [
       "[[1, 2, 3], [4, 5, 6, 'raj'], [7, 8, 9, 'G1']]"
      ]
     },
     "execution_count": 449,
     "metadata": {},
     "output_type": "execute_result"
    }
   ],
   "source": [
    "new_list"
   ]
  },
  {
   "cell_type": "markdown",
   "id": "93c4217e",
   "metadata": {},
   "source": [
    "We can again use indexing to grab elements, but now there are two levels for the index. The items in the matrix object, and then the items inside that list!"
   ]
  },
  {
   "cell_type": "code",
   "execution_count": 451,
   "id": "f9d09b63",
   "metadata": {},
   "outputs": [
    {
     "data": {
      "text/plain": [
       "[1, 2, 3]"
      ]
     },
     "execution_count": 451,
     "metadata": {},
     "output_type": "execute_result"
    }
   ],
   "source": [
    "# Grab first item in matrix object\n",
    "matrix[0]"
   ]
  },
  {
   "cell_type": "code",
   "execution_count": 453,
   "id": "71d2ef1c",
   "metadata": {
    "scrolled": true
   },
   "outputs": [
    {
     "data": {
      "text/plain": [
       "2"
      ]
     },
     "execution_count": 453,
     "metadata": {},
     "output_type": "execute_result"
    }
   ],
   "source": [
    "# Grab first item of the first item in the matrix object\n",
    "matrix[0][1]"
   ]
  },
  {
   "cell_type": "code",
   "execution_count": 267,
   "id": "a0ba63d5",
   "metadata": {},
   "outputs": [
    {
     "data": {
      "text/plain": [
       "'Jeevan'"
      ]
     },
     "execution_count": 267,
     "metadata": {},
     "output_type": "execute_result"
    }
   ],
   "source": [
    "data = [[1,3,5],['Jeevan','Shravani']]\n",
    "data[1][0]"
   ]
  },
  {
   "cell_type": "markdown",
   "id": "95b66590",
   "metadata": {},
   "source": [
    "### append\n",
    "\n",
    "append: appends whole object at end:"
   ]
  },
  {
   "cell_type": "code",
   "execution_count": 269,
   "id": "5c6da189",
   "metadata": {},
   "outputs": [],
   "source": [
    "list1 = [1,2,3]"
   ]
  },
  {
   "cell_type": "code",
   "execution_count": 271,
   "id": "7db7506e",
   "metadata": {},
   "outputs": [],
   "source": [
    "list1.sort()"
   ]
  },
  {
   "cell_type": "code",
   "execution_count": 277,
   "id": "399eca39",
   "metadata": {},
   "outputs": [
    {
     "data": {
      "text/plain": [
       "[1, 2, 3, 4]"
      ]
     },
     "execution_count": 277,
     "metadata": {},
     "output_type": "execute_result"
    }
   ],
   "source": [
    "list1.append(4)\n",
    "\n",
    "list1"
   ]
  },
  {
   "cell_type": "code",
   "execution_count": 297,
   "id": "af599556",
   "metadata": {},
   "outputs": [
    {
     "data": {
      "text/plain": [
       "[1, 2, 3, 4]"
      ]
     },
     "execution_count": 297,
     "metadata": {},
     "output_type": "execute_result"
    }
   ],
   "source": [
    "list1"
   ]
  },
  {
   "cell_type": "code",
   "execution_count": 307,
   "id": "9a2f5355",
   "metadata": {},
   "outputs": [],
   "source": [
    "list1.append([2,3])"
   ]
  },
  {
   "cell_type": "code",
   "execution_count": 309,
   "id": "50f6683e",
   "metadata": {},
   "outputs": [
    {
     "data": {
      "text/plain": [
       "[1, 2, 3, 4, [2, 3]]"
      ]
     },
     "execution_count": 309,
     "metadata": {},
     "output_type": "execute_result"
    }
   ],
   "source": [
    "list1"
   ]
  },
  {
   "cell_type": "code",
   "execution_count": 319,
   "id": "7ff301bd-de9e-40e4-a806-8158a108652d",
   "metadata": {},
   "outputs": [
    {
     "data": {
      "text/plain": [
       "4"
      ]
     },
     "execution_count": 319,
     "metadata": {},
     "output_type": "execute_result"
    }
   ],
   "source": [
    "list1.pop()"
   ]
  },
  {
   "cell_type": "code",
   "execution_count": 275,
   "id": "d73678c7",
   "metadata": {},
   "outputs": [
    {
     "data": {
      "text/plain": [
       "4"
      ]
     },
     "execution_count": 275,
     "metadata": {},
     "output_type": "execute_result"
    }
   ],
   "source": [
    "list1.pop()"
   ]
  },
  {
   "cell_type": "code",
   "execution_count": 347,
   "id": "63ac11d6",
   "metadata": {},
   "outputs": [],
   "source": [
    "list1=[1,2,3,3,4]"
   ]
  },
  {
   "cell_type": "code",
   "execution_count": 349,
   "id": "65b090d6-ac58-4eb1-afed-eac4bd769aea",
   "metadata": {},
   "outputs": [
    {
     "data": {
      "text/plain": [
       "[1, 2, 3, 3, 4]"
      ]
     },
     "execution_count": 349,
     "metadata": {},
     "output_type": "execute_result"
    }
   ],
   "source": [
    "list1"
   ]
  },
  {
   "cell_type": "markdown",
   "id": "28fa634d",
   "metadata": {},
   "source": [
    "### count"
   ]
  },
  {
   "cell_type": "code",
   "execution_count": 331,
   "id": "e0d9670e",
   "metadata": {},
   "outputs": [
    {
     "data": {
      "text/plain": [
       "2"
      ]
     },
     "execution_count": 331,
     "metadata": {},
     "output_type": "execute_result"
    }
   ],
   "source": [
    "list1.count(3)"
   ]
  },
  {
   "cell_type": "markdown",
   "id": "602e46ea",
   "metadata": {},
   "source": [
    "### extend\n",
    "\n",
    "Many times people find the difference between extend and append to be unclear. So note:\n",
    "\n",
    "**append: appends whole object at end:**           \n",
    "**extend: extends list by appending elements from the iterable:**"
   ]
  },
  {
   "cell_type": "code",
   "execution_count": 333,
   "id": "22a72838",
   "metadata": {},
   "outputs": [
    {
     "name": "stdout",
     "output_type": "stream",
     "text": [
      "[1, 2, 3, [4, 5, 3]]\n"
     ]
    }
   ],
   "source": [
    "x = [1, 2, 3]\n",
    "x.append([4, 5,3])\n",
    "print(x)"
   ]
  },
  {
   "cell_type": "code",
   "execution_count": 339,
   "id": "63ea08e7",
   "metadata": {},
   "outputs": [
    {
     "name": "stdout",
     "output_type": "stream",
     "text": [
      "[1, 2, 3, 4, 5, 3]\n"
     ]
    }
   ],
   "source": [
    "x = [1, 2, 3]\n",
    "x.extend([4, 5, 3])\n",
    "print(x)"
   ]
  },
  {
   "cell_type": "code",
   "execution_count": 341,
   "id": "9ba7c53e",
   "metadata": {
    "scrolled": true
   },
   "outputs": [
    {
     "data": {
      "text/plain": [
       "2"
      ]
     },
     "execution_count": 341,
     "metadata": {},
     "output_type": "execute_result"
    }
   ],
   "source": [
    "x.count(3)"
   ]
  },
  {
   "cell_type": "markdown",
   "id": "c857be78",
   "metadata": {},
   "source": [
    "## index\n",
    "<code>index()</code> will return the index of whatever element is placed as an argument. Note: If the  element is not in the list an error is raised."
   ]
  },
  {
   "cell_type": "code",
   "execution_count": 351,
   "id": "bccb585e",
   "metadata": {},
   "outputs": [
    {
     "data": {
      "text/plain": [
       "[1, 2, 3, 3, 4]"
      ]
     },
     "execution_count": 351,
     "metadata": {},
     "output_type": "execute_result"
    }
   ],
   "source": [
    "list1"
   ]
  },
  {
   "cell_type": "code",
   "execution_count": 355,
   "id": "f4b7b08f",
   "metadata": {},
   "outputs": [
    {
     "data": {
      "text/plain": [
       "4"
      ]
     },
     "execution_count": 355,
     "metadata": {},
     "output_type": "execute_result"
    }
   ],
   "source": [
    "list1.index(4)"
   ]
  },
  {
   "cell_type": "code",
   "execution_count": 357,
   "id": "9bf623c0",
   "metadata": {
    "scrolled": true
   },
   "outputs": [
    {
     "ename": "ValueError",
     "evalue": "24 is not in list",
     "output_type": "error",
     "traceback": [
      "\u001b[1;31m---------------------------------------------------------------------------\u001b[0m",
      "\u001b[1;31mValueError\u001b[0m                                Traceback (most recent call last)",
      "Cell \u001b[1;32mIn[357], line 1\u001b[0m\n\u001b[1;32m----> 1\u001b[0m list1\u001b[38;5;241m.\u001b[39mindex(\u001b[38;5;241m24\u001b[39m)\n",
      "\u001b[1;31mValueError\u001b[0m: 24 is not in list"
     ]
    }
   ],
   "source": [
    "list1.index(24)"
   ]
  },
  {
   "cell_type": "markdown",
   "id": "cd1e84ce",
   "metadata": {},
   "source": [
    "## insert \n",
    "<code>insert()</code> takes in two arguments: <code>insert(index,object)</code> This method places the object at the index supplied. For example:"
   ]
  },
  {
   "cell_type": "code",
   "execution_count": 359,
   "id": "d0c2835d",
   "metadata": {},
   "outputs": [
    {
     "data": {
      "text/plain": [
       "[1, 2, 3, 4]"
      ]
     },
     "execution_count": 359,
     "metadata": {},
     "output_type": "execute_result"
    }
   ],
   "source": [
    "list1=[1,2,3,4]\n",
    "list1"
   ]
  },
  {
   "cell_type": "code",
   "execution_count": 369,
   "id": "76526f8b-24ca-4646-9259-0082b464ff62",
   "metadata": {},
   "outputs": [
    {
     "data": {
      "text/plain": [
       "'inserted'"
      ]
     },
     "execution_count": 369,
     "metadata": {},
     "output_type": "execute_result"
    }
   ],
   "source": [
    "list1.pop(3)"
   ]
  },
  {
   "cell_type": "code",
   "execution_count": 365,
   "id": "2c86d668",
   "metadata": {},
   "outputs": [],
   "source": [
    "# Place a letter at the index 2\n",
    "list1.insert(2,'3')"
   ]
  },
  {
   "cell_type": "code",
   "execution_count": 371,
   "id": "51fe311f",
   "metadata": {},
   "outputs": [
    {
     "data": {
      "text/plain": [
       "[1, 2, '3', 3, 4]"
      ]
     },
     "execution_count": 371,
     "metadata": {},
     "output_type": "execute_result"
    }
   ],
   "source": [
    "list1"
   ]
  },
  {
   "cell_type": "code",
   "execution_count": 373,
   "id": "75d8308c",
   "metadata": {},
   "outputs": [
    {
     "data": {
      "text/plain": [
       "[1, 2, '3', 3, 4]"
      ]
     },
     "execution_count": 373,
     "metadata": {},
     "output_type": "execute_result"
    }
   ],
   "source": [
    "list1"
   ]
  },
  {
   "cell_type": "code",
   "execution_count": 383,
   "id": "73c9e019",
   "metadata": {},
   "outputs": [],
   "source": [
    "data = [[1,3,5],['Jeevan','Shravani']]\n",
    "data[0].insert(1,2)"
   ]
  },
  {
   "cell_type": "markdown",
   "id": "e5d7dbb8",
   "metadata": {},
   "source": [
    "append,insret,extend"
   ]
  },
  {
   "cell_type": "code",
   "execution_count": 387,
   "id": "8112d84e",
   "metadata": {},
   "outputs": [
    {
     "data": {
      "text/plain": [
       "[[1, 2, 3, 5], ['Jeevan', 'Shravani']]"
      ]
     },
     "execution_count": 387,
     "metadata": {},
     "output_type": "execute_result"
    }
   ],
   "source": [
    "data"
   ]
  },
  {
   "cell_type": "code",
   "execution_count": 389,
   "id": "ed78a4bc",
   "metadata": {},
   "outputs": [],
   "source": [
    "# this will throw you an error so don't fallow this code\n",
    "lis = [1,2,3]                            \n",
    "lis.insert(2,lis.extend([2,3,4]))"
   ]
  },
  {
   "cell_type": "code",
   "execution_count": 391,
   "id": "bb6c95af",
   "metadata": {},
   "outputs": [
    {
     "data": {
      "text/plain": [
       "[1, 2, None, 3, 2, 3, 4]"
      ]
     },
     "execution_count": 391,
     "metadata": {},
     "output_type": "execute_result"
    }
   ],
   "source": [
    "lis"
   ]
  },
  {
   "cell_type": "code",
   "execution_count": 289,
   "id": "81b150de",
   "metadata": {},
   "outputs": [
    {
     "data": {
      "text/plain": [
       "[1, 2, 3, 8, 9, 10, 4, 5]"
      ]
     },
     "execution_count": 289,
     "metadata": {},
     "output_type": "execute_result"
    }
   ],
   "source": [
    "data = [1,2,3,4,5]\n",
    "data[3:3] = [8,9,10]\n",
    "data"
   ]
  },
  {
   "cell_type": "code",
   "execution_count": 293,
   "id": "b04eaac4",
   "metadata": {},
   "outputs": [
    {
     "data": {
      "text/plain": [
       "10"
      ]
     },
     "execution_count": 293,
     "metadata": {},
     "output_type": "execute_result"
    }
   ],
   "source": [
    "data.pop(5)"
   ]
  },
  {
   "cell_type": "code",
   "execution_count": 403,
   "id": "d5a4a3fb",
   "metadata": {},
   "outputs": [],
   "source": [
    "data=[[1,2,3,4,'hello'],['a','b']]"
   ]
  },
  {
   "cell_type": "code",
   "execution_count": 405,
   "id": "db5f146f-113d-494e-819e-7e3a4cddedda",
   "metadata": {},
   "outputs": [
    {
     "data": {
      "text/plain": [
       "[[1, 2, 3, 4, 'hello'], ['a', 'b']]"
      ]
     },
     "execution_count": 405,
     "metadata": {},
     "output_type": "execute_result"
    }
   ],
   "source": [
    "data"
   ]
  },
  {
   "cell_type": "code",
   "execution_count": 407,
   "id": "36083c38-051a-4cb1-81e6-be55a43af48e",
   "metadata": {},
   "outputs": [
    {
     "data": {
      "text/plain": [
       "[1, 2, 3, 4, 'hello']"
      ]
     },
     "execution_count": 407,
     "metadata": {},
     "output_type": "execute_result"
    }
   ],
   "source": [
    "data[0]"
   ]
  },
  {
   "cell_type": "code",
   "execution_count": 409,
   "id": "911a41c4-6c84-4bba-949b-da7354f2be3d",
   "metadata": {},
   "outputs": [
    {
     "data": {
      "text/plain": [
       "['a', 'b']"
      ]
     },
     "execution_count": 409,
     "metadata": {},
     "output_type": "execute_result"
    }
   ],
   "source": [
    "data[1]"
   ]
  },
  {
   "cell_type": "code",
   "execution_count": 415,
   "id": "689aaac9-4db2-43da-93c7-c5e52f115453",
   "metadata": {},
   "outputs": [],
   "source": [
    "data[0].insert(4,'hi')"
   ]
  },
  {
   "cell_type": "code",
   "execution_count": 421,
   "id": "d03ff698-607d-4431-8d79-120aacc19367",
   "metadata": {},
   "outputs": [
    {
     "data": {
      "text/plain": [
       "[[1, 2, 3, 4, 'hi', 'hello'], ['a', 'b']]"
      ]
     },
     "execution_count": 421,
     "metadata": {},
     "output_type": "execute_result"
    }
   ],
   "source": [
    "data"
   ]
  },
  {
   "cell_type": "code",
   "execution_count": 419,
   "id": "100887c3-8516-4e6e-a76e-312dddbe5c6a",
   "metadata": {},
   "outputs": [
    {
     "data": {
      "text/plain": [
       "'hi'"
      ]
     },
     "execution_count": 419,
     "metadata": {},
     "output_type": "execute_result"
    }
   ],
   "source": [
    "data[0].pop(4)"
   ]
  },
  {
   "cell_type": "markdown",
   "id": "21f6ce61",
   "metadata": {},
   "source": [
    "## pop\n",
    "You most likely have already seen <code>pop()</code>, which allows us to \"pop\" off the last element of a list. However, by passing an index position you can remove and return a specific element."
   ]
  },
  {
   "cell_type": "code",
   "execution_count": 306,
   "id": "2e27ae54",
   "metadata": {},
   "outputs": [],
   "source": [
    "element = list1.pop(1)  # pop the second element"
   ]
  },
  {
   "cell_type": "code",
   "execution_count": 286,
   "id": "8583398d",
   "metadata": {},
   "outputs": [
    {
     "data": {
      "text/plain": [
       "[1, 2, 3, 4]"
      ]
     },
     "execution_count": 286,
     "metadata": {},
     "output_type": "execute_result"
    }
   ],
   "source": [
    "list1"
   ]
  },
  {
   "cell_type": "code",
   "execution_count": 308,
   "id": "6fb4b490",
   "metadata": {},
   "outputs": [
    {
     "data": {
      "text/plain": [
       "2"
      ]
     },
     "execution_count": 308,
     "metadata": {},
     "output_type": "execute_result"
    }
   ],
   "source": [
    "element"
   ]
  },
  {
   "cell_type": "markdown",
   "id": "421b5d46",
   "metadata": {},
   "source": [
    "## remove\n",
    "The <code>remove()</code> method removes the first occurrence of a value. For example:"
   ]
  },
  {
   "cell_type": "code",
   "execution_count": 465,
   "id": "60812f98",
   "metadata": {
    "scrolled": true
   },
   "outputs": [],
   "source": [
    "list1=[1,1,2,2,3,4]"
   ]
  },
  {
   "cell_type": "code",
   "execution_count": 453,
   "id": "08db6411",
   "metadata": {},
   "outputs": [],
   "source": [
    "list1.remove(2)"
   ]
  },
  {
   "cell_type": "code",
   "execution_count": 455,
   "id": "4d4f604f",
   "metadata": {},
   "outputs": [
    {
     "data": {
      "text/plain": [
       "[1, 2, 3, 4]"
      ]
     },
     "execution_count": 455,
     "metadata": {},
     "output_type": "execute_result"
    }
   ],
   "source": [
    "list1"
   ]
  },
  {
   "cell_type": "code",
   "execution_count": 555,
   "id": "db6cfb98",
   "metadata": {},
   "outputs": [],
   "source": [
    "list2 = [1,2,3,4,3]\n"
   ]
  },
  {
   "cell_type": "code",
   "execution_count": 473,
   "id": "997d31e3",
   "metadata": {},
   "outputs": [],
   "source": [
    "list2.remove(1)         # remove will remove first value"
   ]
  },
  {
   "cell_type": "code",
   "execution_count": 475,
   "id": "07f829a8",
   "metadata": {
    "scrolled": true
   },
   "outputs": [
    {
     "data": {
      "text/plain": [
       "[2, 4, 3]"
      ]
     },
     "execution_count": 475,
     "metadata": {},
     "output_type": "execute_result"
    }
   ],
   "source": [
    "list2"
   ]
  },
  {
   "cell_type": "markdown",
   "id": "6084a6ca",
   "metadata": {},
   "source": [
    "## Delete\n",
    "del can be used to delete a single index of a list, a slice of a list, or the complete list."
   ]
  },
  {
   "cell_type": "code",
   "execution_count": 609,
   "id": "e36cb390",
   "metadata": {},
   "outputs": [],
   "source": [
    "list3=[[1,4,6,2,6,1],[1,2,3]]\n"
   ]
  },
  {
   "cell_type": "code",
   "execution_count": 611,
   "id": "bbd869f6-67ae-4363-9aa6-ebdf274ae972",
   "metadata": {},
   "outputs": [
    {
     "data": {
      "text/plain": [
       "[[1, 4, 6, 2, 6, 1], [1, 2, 3]]"
      ]
     },
     "execution_count": 611,
     "metadata": {},
     "output_type": "execute_result"
    }
   ],
   "source": [
    "list3"
   ]
  },
  {
   "cell_type": "code",
   "execution_count": 515,
   "id": "3c61331b-e211-40a9-9e95-2d22de7beacc",
   "metadata": {},
   "outputs": [],
   "source": [
    "del list3"
   ]
  },
  {
   "cell_type": "code",
   "execution_count": 523,
   "id": "8b687fac",
   "metadata": {},
   "outputs": [],
   "source": [
    "list3=[1,4,6,2,6,1]      # deleting perticular element in a list using index\n",
    "del list3[1]"
   ]
  },
  {
   "cell_type": "code",
   "execution_count": 525,
   "id": "f404ed4e",
   "metadata": {},
   "outputs": [
    {
     "data": {
      "text/plain": [
       "[1, 6, 2, 6, 1]"
      ]
     },
     "execution_count": 525,
     "metadata": {},
     "output_type": "execute_result"
    }
   ],
   "source": [
    "list3"
   ]
  },
  {
   "cell_type": "code",
   "execution_count": 529,
   "id": "4ab6d987",
   "metadata": {},
   "outputs": [
    {
     "data": {
      "text/plain": [
       "[2, 6, 1]"
      ]
     },
     "execution_count": 529,
     "metadata": {},
     "output_type": "execute_result"
    }
   ],
   "source": [
    "del list3[0:3]           # deleting few elments using slicing\n",
    "list3"
   ]
  },
  {
   "cell_type": "code",
   "execution_count": 531,
   "id": "9db6b77d",
   "metadata": {},
   "outputs": [],
   "source": [
    "del list3                # if you are not mentioning any index it will delet the entire list "
   ]
  },
  {
   "cell_type": "code",
   "execution_count": 533,
   "id": "7754f6d2",
   "metadata": {},
   "outputs": [
    {
     "ename": "NameError",
     "evalue": "name 'list3' is not defined",
     "output_type": "error",
     "traceback": [
      "\u001b[1;31m---------------------------------------------------------------------------\u001b[0m",
      "\u001b[1;31mNameError\u001b[0m                                 Traceback (most recent call last)",
      "Cell \u001b[1;32mIn[533], line 1\u001b[0m\n\u001b[1;32m----> 1\u001b[0m list3\n",
      "\u001b[1;31mNameError\u001b[0m: name 'list3' is not defined"
     ]
    }
   ],
   "source": [
    "list3"
   ]
  },
  {
   "cell_type": "markdown",
   "id": "50bbfdba",
   "metadata": {},
   "source": [
    "### Clear \n",
    "clear will remove the element that are present in the list     \n",
    "The list still remains, but it has no content"
   ]
  },
  {
   "cell_type": "code",
   "execution_count": 605,
   "id": "9c244c29",
   "metadata": {},
   "outputs": [],
   "source": [
    "lis = [1,2,3,4]\n"
   ]
  },
  {
   "cell_type": "code",
   "execution_count": 613,
   "id": "8b899ea1",
   "metadata": {},
   "outputs": [
    {
     "data": {
      "text/plain": [
       "2"
      ]
     },
     "execution_count": 613,
     "metadata": {},
     "output_type": "execute_result"
    }
   ],
   "source": [
    "len(list3)"
   ]
  },
  {
   "cell_type": "code",
   "execution_count": 543,
   "id": "34dab963",
   "metadata": {},
   "outputs": [
    {
     "name": "stdout",
     "output_type": "stream",
     "text": [
      "[]\n"
     ]
    }
   ],
   "source": [
    "lis = [1,2,3,4]\n",
    "lis.clear()\n",
    "print(lis)"
   ]
  },
  {
   "cell_type": "code",
   "execution_count": 545,
   "id": "708b4c6d",
   "metadata": {},
   "outputs": [
    {
     "data": {
      "text/plain": [
       "[]"
      ]
     },
     "execution_count": 545,
     "metadata": {},
     "output_type": "execute_result"
    }
   ],
   "source": [
    "lis"
   ]
  },
  {
   "cell_type": "markdown",
   "id": "042e72e4",
   "metadata": {},
   "source": [
    "## reverse\n",
    "As you might have guessed, <code>reverse()</code> reverses a list. Note this occurs in place! Meaning it affects your list permanently."
   ]
  },
  {
   "cell_type": "code",
   "execution_count": 557,
   "id": "569d7490",
   "metadata": {},
   "outputs": [],
   "source": [
    "list2.reverse()"
   ]
  },
  {
   "cell_type": "code",
   "execution_count": 559,
   "id": "ec6bacd8",
   "metadata": {},
   "outputs": [
    {
     "data": {
      "text/plain": [
       "[3, 4, 3, 2, 1]"
      ]
     },
     "execution_count": 559,
     "metadata": {},
     "output_type": "execute_result"
    }
   ],
   "source": [
    "list2"
   ]
  },
  {
   "cell_type": "markdown",
   "id": "f915a517",
   "metadata": {},
   "source": [
    "## sort\n",
    "The <code>sort()</code> method will sort your list in place:"
   ]
  },
  {
   "cell_type": "code",
   "execution_count": 567,
   "id": "1520887e",
   "metadata": {},
   "outputs": [],
   "source": [
    "list2=[1,4,3,2]"
   ]
  },
  {
   "cell_type": "code",
   "execution_count": 563,
   "id": "61cd405a",
   "metadata": {},
   "outputs": [
    {
     "data": {
      "text/plain": [
       "[1, 4, 3, 2]"
      ]
     },
     "execution_count": 563,
     "metadata": {},
     "output_type": "execute_result"
    }
   ],
   "source": [
    "list2"
   ]
  },
  {
   "cell_type": "code",
   "execution_count": 565,
   "id": "f1d7de41",
   "metadata": {},
   "outputs": [],
   "source": [
    "list2.sort()"
   ]
  },
  {
   "cell_type": "code",
   "execution_count": 503,
   "id": "a45b056e",
   "metadata": {},
   "outputs": [
    {
     "data": {
      "text/plain": [
       "[1, 2, 3, 4]"
      ]
     },
     "execution_count": 503,
     "metadata": {},
     "output_type": "execute_result"
    }
   ],
   "source": [
    "list2"
   ]
  },
  {
   "cell_type": "markdown",
   "id": "c6ee7777",
   "metadata": {},
   "source": [
    "The <code>sort()</code> method takes an optional argument for reverse sorting. Note this is different than simply reversing the order of items."
   ]
  },
  {
   "cell_type": "code",
   "execution_count": 569,
   "id": "3c64b1f8",
   "metadata": {},
   "outputs": [],
   "source": [
    "list2.sort(reverse=True)"
   ]
  },
  {
   "cell_type": "code",
   "execution_count": 507,
   "id": "e9e03378",
   "metadata": {},
   "outputs": [
    {
     "data": {
      "text/plain": [
       "[4, 3, 2, 1]"
      ]
     },
     "execution_count": 507,
     "metadata": {},
     "output_type": "execute_result"
    }
   ],
   "source": [
    "list2"
   ]
  },
  {
   "cell_type": "markdown",
   "id": "7d3ca858",
   "metadata": {},
   "source": [
    "#### List is Mutable (Once one of these object is creaeted, it can be modified)"
   ]
  },
  {
   "cell_type": "code",
   "execution_count": 509,
   "id": "2f964ef1",
   "metadata": {
    "scrolled": true
   },
   "outputs": [
    {
     "name": "stdout",
     "output_type": "stream",
     "text": [
      "['Apple', 'Grapes', 'Mango']\n"
     ]
    }
   ],
   "source": [
    "lis = ['Apple','Banana','Mango']\n",
    "lis[1] = 'Grapes'\n",
    "print(lis)"
   ]
  },
  {
   "cell_type": "code",
   "execution_count": 573,
   "id": "9be1c570",
   "metadata": {
    "scrolled": true
   },
   "outputs": [
    {
     "name": "stdout",
     "output_type": "stream",
     "text": [
      "['apple', 'watermelon', 'Grapes', 'Mango']\n"
     ]
    }
   ],
   "source": [
    "thislist = [\"apple\", \"banana\", \"cherry\"]\n",
    "thislist[1:3] = [\"watermelon\",'Grapes','Mango']\n",
    "print(thislist)"
   ]
  },
  {
   "cell_type": "markdown",
   "id": "7ed90b62",
   "metadata": {},
   "source": [
    "# Tuples\n",
    "\n",
    "In Python tuples are very similar to lists, however, unlike lists they are *immutable* meaning they can not be changed. You would use tuples to present things that shouldn't be changed, such as days of the week, or dates on a calendar. \n",
    "\n",
    "In this section, we will get a brief overview of the following:\n",
    "\n",
    "    1.) Constructing Tuples\n",
    "    2.) Basic Tuple Methods\n",
    "    3.) Immutability\n",
    "    4.) When to Use Tuples\n",
    "\n",
    "You'll have an intuition of how to use tuples based on what you've learned about lists. We can treat them very similarly with the major distinction being that tuples are immutable.\n",
    "\n",
    "## Constructing Tuples\n",
    "\n",
    "The construction of a tuples use () Parentheses with elements separated by commas. For example:"
   ]
  },
  {
   "cell_type": "code",
   "execution_count": 599,
   "id": "64dce8b2",
   "metadata": {},
   "outputs": [],
   "source": [
    "# Create a tuple\n",
    "t = (1,2,3)\n"
   ]
  },
  {
   "cell_type": "code",
   "execution_count": 585,
   "id": "8f56b82f",
   "metadata": {},
   "outputs": [],
   "source": [
    "m=('Jeevan',3,True)"
   ]
  },
  {
   "cell_type": "code",
   "execution_count": 575,
   "id": "50e7e2b0",
   "metadata": {},
   "outputs": [
    {
     "data": {
      "text/plain": [
       "False"
      ]
     },
     "execution_count": 575,
     "metadata": {},
     "output_type": "execute_result"
    }
   ],
   "source": [
    "bool(0)"
   ]
  },
  {
   "cell_type": "code",
   "execution_count": 577,
   "id": "dacaeb05",
   "metadata": {},
   "outputs": [
    {
     "data": {
      "text/plain": [
       "True"
      ]
     },
     "execution_count": 577,
     "metadata": {},
     "output_type": "execute_result"
    }
   ],
   "source": [
    "bool(3)"
   ]
  },
  {
   "cell_type": "code",
   "execution_count": 587,
   "id": "9b724e66",
   "metadata": {
    "scrolled": true
   },
   "outputs": [
    {
     "data": {
      "text/plain": [
       "tuple"
      ]
     },
     "execution_count": 587,
     "metadata": {},
     "output_type": "execute_result"
    }
   ],
   "source": [
    "type(m)"
   ]
  },
  {
   "cell_type": "code",
   "execution_count": 589,
   "id": "4058f004",
   "metadata": {},
   "outputs": [
    {
     "data": {
      "text/plain": [
       "('Jeevan', 3, True)"
      ]
     },
     "execution_count": 589,
     "metadata": {},
     "output_type": "execute_result"
    }
   ],
   "source": [
    "m"
   ]
  },
  {
   "cell_type": "code",
   "execution_count": 591,
   "id": "1a7bcd2b",
   "metadata": {
    "scrolled": true
   },
   "outputs": [
    {
     "name": "stdout",
     "output_type": "stream",
     "text": [
      "Jeevan\n",
      "3\n",
      "True\n"
     ]
    }
   ],
   "source": [
    "for i in m:\n",
    "    print(i)"
   ]
  },
  {
   "cell_type": "code",
   "execution_count": 340,
   "id": "9df154f5",
   "metadata": {},
   "outputs": [
    {
     "data": {
      "text/plain": [
       "('Jeevan', 3, True)"
      ]
     },
     "execution_count": 340,
     "metadata": {},
     "output_type": "execute_result"
    }
   ],
   "source": [
    "m"
   ]
  },
  {
   "cell_type": "code",
   "execution_count": 593,
   "id": "97a7c087",
   "metadata": {},
   "outputs": [
    {
     "name": "stdout",
     "output_type": "stream",
     "text": [
      "0 Jeevan\n",
      "1 3\n",
      "2 True\n"
     ]
    }
   ],
   "source": [
    "for i,j in enumerate(m):\n",
    "    print(i,j)"
   ]
  },
  {
   "cell_type": "code",
   "execution_count": 595,
   "id": "a455f5ab",
   "metadata": {},
   "outputs": [
    {
     "name": "stdout",
     "output_type": "stream",
     "text": [
      "0 ------> Jeevan\n",
      "1 ------> 3\n",
      "2 ------> True\n"
     ]
    }
   ],
   "source": [
    "for index,values in enumerate(m):\n",
    "    print(index,'------>',values)"
   ]
  },
  {
   "cell_type": "code",
   "execution_count": 601,
   "id": "7033affd",
   "metadata": {},
   "outputs": [
    {
     "name": "stdout",
     "output_type": "stream",
     "text": [
      "0 : 1\n",
      "1 : 2\n",
      "2 : 3\n"
     ]
    }
   ],
   "source": [
    "# If you want to know the index and value you can use enumerate function (for both list and tuple)\n",
    "for i,j in enumerate(t):\n",
    "    print(i,':',j)"
   ]
  },
  {
   "cell_type": "code",
   "execution_count": 346,
   "id": "6dc52f39",
   "metadata": {},
   "outputs": [
    {
     "data": {
      "text/plain": [
       "3"
      ]
     },
     "execution_count": 346,
     "metadata": {},
     "output_type": "execute_result"
    }
   ],
   "source": [
    "len(m)"
   ]
  },
  {
   "cell_type": "code",
   "execution_count": 347,
   "id": "432a6a4f",
   "metadata": {},
   "outputs": [
    {
     "data": {
      "text/plain": [
       "3"
      ]
     },
     "execution_count": 347,
     "metadata": {},
     "output_type": "execute_result"
    }
   ],
   "source": [
    "# Check len just like a list\n",
    "len(t)"
   ]
  },
  {
   "cell_type": "code",
   "execution_count": 621,
   "id": "eb8f605d",
   "metadata": {},
   "outputs": [
    {
     "data": {
      "text/plain": [
       "('one', 2)"
      ]
     },
     "execution_count": 621,
     "metadata": {},
     "output_type": "execute_result"
    }
   ],
   "source": [
    "# Can also mix object types because it is hetrogeneous\n",
    "t = ('one',2)\n",
    "\n",
    "# Show\n",
    "t"
   ]
  },
  {
   "cell_type": "code",
   "execution_count": 623,
   "id": "a180efd1",
   "metadata": {},
   "outputs": [
    {
     "data": {
      "text/plain": [
       "'one'"
      ]
     },
     "execution_count": 623,
     "metadata": {},
     "output_type": "execute_result"
    }
   ],
   "source": [
    "# Use indexing just like we did in lists\n",
    "t[0]"
   ]
  },
  {
   "cell_type": "code",
   "execution_count": 629,
   "id": "7e7d4d46",
   "metadata": {},
   "outputs": [
    {
     "data": {
      "text/plain": [
       "(2,)"
      ]
     },
     "execution_count": 629,
     "metadata": {},
     "output_type": "execute_result"
    }
   ],
   "source": [
    "# Slicing just like a list\n",
    "t[1:]"
   ]
  },
  {
   "cell_type": "markdown",
   "id": "3ecb62f0",
   "metadata": {},
   "source": [
    "## Basic Tuple Methods\n",
    "\n",
    "Tuples have built-in methods, but not as many as lists do. Let's look at two of them:"
   ]
  },
  {
   "cell_type": "code",
   "execution_count": 631,
   "id": "da301654",
   "metadata": {},
   "outputs": [
    {
     "data": {
      "text/plain": [
       "('Jeevan', 3, True)"
      ]
     },
     "execution_count": 631,
     "metadata": {},
     "output_type": "execute_result"
    }
   ],
   "source": [
    "m"
   ]
  },
  {
   "cell_type": "code",
   "execution_count": 643,
   "id": "2958d496",
   "metadata": {},
   "outputs": [
    {
     "data": {
      "text/plain": [
       "2"
      ]
     },
     "execution_count": 643,
     "metadata": {},
     "output_type": "execute_result"
    }
   ],
   "source": [
    "m.index(True)"
   ]
  },
  {
   "cell_type": "code",
   "execution_count": 645,
   "id": "1a1e7092",
   "metadata": {},
   "outputs": [
    {
     "data": {
      "text/plain": [
       "('one', 2)"
      ]
     },
     "execution_count": 645,
     "metadata": {},
     "output_type": "execute_result"
    }
   ],
   "source": [
    "t"
   ]
  },
  {
   "cell_type": "code",
   "execution_count": 647,
   "id": "4c38c038",
   "metadata": {
    "scrolled": true
   },
   "outputs": [
    {
     "data": {
      "text/plain": [
       "0"
      ]
     },
     "execution_count": 647,
     "metadata": {},
     "output_type": "execute_result"
    }
   ],
   "source": [
    "# Use .index to enter a value and return the index\n",
    "t.index('one')"
   ]
  },
  {
   "cell_type": "code",
   "execution_count": 649,
   "id": "e8a0c365",
   "metadata": {},
   "outputs": [
    {
     "data": {
      "text/plain": [
       "1"
      ]
     },
     "execution_count": 649,
     "metadata": {},
     "output_type": "execute_result"
    }
   ],
   "source": [
    "# Use .count to count the number of times a value appears\n",
    "t.count('one')"
   ]
  },
  {
   "cell_type": "code",
   "execution_count": 653,
   "id": "6c2fad01-1f15-4528-94a4-fba26d5304d2",
   "metadata": {},
   "outputs": [],
   "source": [
    "name = 'Jeevan Raj'"
   ]
  },
  {
   "cell_type": "code",
   "execution_count": 655,
   "id": "a379b551-4e2e-4219-a2dd-83fc63c5a177",
   "metadata": {},
   "outputs": [
    {
     "name": "stdout",
     "output_type": "stream",
     "text": [
      "J  =  2\n",
      "e  =  2\n",
      "e  =  2\n",
      "v  =  1\n",
      "a  =  2\n",
      "n  =  1\n",
      "   =  1\n",
      "R  =  1\n",
      "a  =  2\n",
      "j  =  2\n",
      "J  =  2\n",
      "e  =  2\n",
      "e  =  2\n",
      "v  =  1\n",
      "a  =  2\n",
      "n  =  1\n",
      "   =  1\n",
      "R  =  1\n",
      "a  =  2\n",
      "j  =  2\n",
      "J  =  2\n",
      "e  =  2\n",
      "e  =  2\n",
      "v  =  1\n",
      "a  =  2\n",
      "n  =  1\n",
      "   =  1\n",
      "R  =  1\n",
      "a  =  2\n",
      "j  =  2\n",
      "J  =  2\n",
      "e  =  2\n",
      "e  =  2\n",
      "v  =  1\n",
      "a  =  2\n",
      "n  =  1\n",
      "   =  1\n",
      "R  =  1\n",
      "a  =  2\n",
      "j  =  2\n",
      "J  =  2\n",
      "e  =  2\n",
      "e  =  2\n",
      "v  =  1\n",
      "a  =  2\n",
      "n  =  1\n",
      "   =  1\n",
      "R  =  1\n",
      "a  =  2\n",
      "j  =  2\n",
      "J  =  2\n",
      "e  =  2\n",
      "e  =  2\n",
      "v  =  1\n",
      "a  =  2\n",
      "n  =  1\n",
      "   =  1\n",
      "R  =  1\n",
      "a  =  2\n",
      "j  =  2\n",
      "J  =  2\n",
      "e  =  2\n",
      "e  =  2\n",
      "v  =  1\n",
      "a  =  2\n",
      "n  =  1\n",
      "   =  1\n",
      "R  =  1\n",
      "a  =  2\n",
      "j  =  2\n",
      "J  =  2\n",
      "e  =  2\n",
      "e  =  2\n",
      "v  =  1\n",
      "a  =  2\n",
      "n  =  1\n",
      "   =  1\n",
      "R  =  1\n",
      "a  =  2\n",
      "j  =  2\n",
      "J  =  2\n",
      "e  =  2\n",
      "e  =  2\n",
      "v  =  1\n",
      "a  =  2\n",
      "n  =  1\n",
      "   =  1\n",
      "R  =  1\n",
      "a  =  2\n",
      "j  =  2\n",
      "J  =  2\n",
      "e  =  2\n",
      "e  =  2\n",
      "v  =  1\n",
      "a  =  2\n",
      "n  =  1\n",
      "   =  1\n",
      "R  =  1\n",
      "a  =  2\n",
      "j  =  2\n"
     ]
    }
   ],
   "source": [
    "for i in name:\n",
    "    for i in name:\n",
    "        print(i, ' = ',name.lower().count(i.lower()))\n",
    "    "
   ]
  },
  {
   "cell_type": "markdown",
   "id": "67f2864e",
   "metadata": {},
   "source": [
    "## Immutability\n",
    "\n",
    "It can't be stressed enough that tuples are immutable. To drive that point home:"
   ]
  },
  {
   "cell_type": "code",
   "execution_count": 325,
   "id": "6dfdce48",
   "metadata": {},
   "outputs": [],
   "source": [
    "lis = [2,3,4,5,6]"
   ]
  },
  {
   "cell_type": "code",
   "execution_count": 326,
   "id": "7501310e",
   "metadata": {},
   "outputs": [
    {
     "data": {
      "text/plain": [
       "5"
      ]
     },
     "execution_count": 326,
     "metadata": {},
     "output_type": "execute_result"
    }
   ],
   "source": [
    "len(lis)"
   ]
  },
  {
   "cell_type": "code",
   "execution_count": 329,
   "id": "4a9bad52",
   "metadata": {},
   "outputs": [],
   "source": [
    "lis.extend([23,5])"
   ]
  },
  {
   "cell_type": "code",
   "execution_count": 330,
   "id": "f9bce469",
   "metadata": {},
   "outputs": [
    {
     "data": {
      "text/plain": [
       "6"
      ]
     },
     "execution_count": 330,
     "metadata": {},
     "output_type": "execute_result"
    }
   ],
   "source": [
    "len(lis)"
   ]
  },
  {
   "cell_type": "code",
   "execution_count": 331,
   "id": "4f88d8ba",
   "metadata": {},
   "outputs": [
    {
     "data": {
      "text/plain": [
       "[2, 3, 4, 5, 23, 5]"
      ]
     },
     "execution_count": 331,
     "metadata": {},
     "output_type": "execute_result"
    }
   ],
   "source": [
    "lis"
   ]
  },
  {
   "cell_type": "code",
   "execution_count": 332,
   "id": "5d5e3bc6",
   "metadata": {},
   "outputs": [],
   "source": [
    "lis[4] = 6"
   ]
  },
  {
   "cell_type": "code",
   "execution_count": 657,
   "id": "47dcac47",
   "metadata": {
    "scrolled": true
   },
   "outputs": [
    {
     "ename": "AttributeError",
     "evalue": "'tuple' object has no attribute 'pop'",
     "output_type": "error",
     "traceback": [
      "\u001b[1;31m---------------------------------------------------------------------------\u001b[0m",
      "\u001b[1;31mAttributeError\u001b[0m                            Traceback (most recent call last)",
      "Cell \u001b[1;32mIn[657], line 2\u001b[0m\n\u001b[0;32m      1\u001b[0m t\u001b[38;5;241m=\u001b[39m(\u001b[38;5;241m12\u001b[39m,\u001b[38;5;241m3\u001b[39m,\u001b[38;5;241m4\u001b[39m)\n\u001b[1;32m----> 2\u001b[0m t\u001b[38;5;241m.\u001b[39mpop()\n",
      "\u001b[1;31mAttributeError\u001b[0m: 'tuple' object has no attribute 'pop'"
     ]
    }
   ],
   "source": [
    "t=(12,3,4)\n",
    "t.pop()"
   ]
  },
  {
   "cell_type": "code",
   "execution_count": 659,
   "id": "9de3678d",
   "metadata": {
    "scrolled": true
   },
   "outputs": [
    {
     "ename": "TypeError",
     "evalue": "'tuple' object does not support item assignment",
     "output_type": "error",
     "traceback": [
      "\u001b[1;31m---------------------------------------------------------------------------\u001b[0m",
      "\u001b[1;31mTypeError\u001b[0m                                 Traceback (most recent call last)",
      "Cell \u001b[1;32mIn[659], line 1\u001b[0m\n\u001b[1;32m----> 1\u001b[0m t[\u001b[38;5;241m0\u001b[39m]\u001b[38;5;241m=\u001b[39m \u001b[38;5;124m'\u001b[39m\u001b[38;5;124mchange\u001b[39m\u001b[38;5;124m'\u001b[39m\n",
      "\u001b[1;31mTypeError\u001b[0m: 'tuple' object does not support item assignment"
     ]
    }
   ],
   "source": [
    "t[0]= 'change'"
   ]
  },
  {
   "cell_type": "markdown",
   "id": "af0a5225",
   "metadata": {},
   "source": [
    "Because of this immutability, tuples can't grow. Once a tuple is made we can not add to it."
   ]
  },
  {
   "cell_type": "code",
   "execution_count": 661,
   "id": "2f1bcaad",
   "metadata": {
    "scrolled": true
   },
   "outputs": [
    {
     "ename": "AttributeError",
     "evalue": "'tuple' object has no attribute 'append'",
     "output_type": "error",
     "traceback": [
      "\u001b[1;31m---------------------------------------------------------------------------\u001b[0m",
      "\u001b[1;31mAttributeError\u001b[0m                            Traceback (most recent call last)",
      "Cell \u001b[1;32mIn[661], line 1\u001b[0m\n\u001b[1;32m----> 1\u001b[0m t\u001b[38;5;241m.\u001b[39mappend(\u001b[38;5;124m'\u001b[39m\u001b[38;5;124mnope\u001b[39m\u001b[38;5;124m'\u001b[39m)\n",
      "\u001b[1;31mAttributeError\u001b[0m: 'tuple' object has no attribute 'append'"
     ]
    }
   ],
   "source": [
    "t.append('nope')"
   ]
  },
  {
   "cell_type": "markdown",
   "id": "aa924ac1",
   "metadata": {},
   "source": [
    "## When to use Tuples\n",
    "\n",
    "You may be wondering, \"Why bother using tuples when they have fewer available methods?\" To be honest, tuples are not used as often as lists in programming, but are used when immutability is necessary. If in your program you are passing around an object and need to make sure it does not get changed, then a tuple becomes your solution. It provides a convenient source of data integrity.\n",
    "\n",
    "You should now be able to create and use tuples in your programming as well as have an understanding of their immutability.\n",
    "\n",
    "Up next Files!"
   ]
  },
  {
   "cell_type": "markdown",
   "id": "b2c6f21f",
   "metadata": {},
   "source": [
    "# Dictionaries\n",
    "\n",
    "This section will serve as a brief introduction to dictionaries and consist of:\n",
    "\n",
    "    1.) Constructing a Dictionary\n",
    "    2.) Accessing objects from a dictionary\n",
    "    3.) Nesting Dictionaries\n",
    "    4.) Basic Dictionary Methods\n",
    "\n",
    "A Python dictionary consists of a key and then an associated value. \n",
    "\n",
    "## Constructing a Dictionary\n",
    "Let's see how we can construct dictionaries to get a better understanding of how they work!\n",
    "Make a dictionary with {}(curly brasis) and : to signify a key and a value"
   ]
  },
  {
   "cell_type": "markdown",
   "id": "94790c44",
   "metadata": {},
   "source": [
    "### Syntax\n",
    "\n",
    "my_dict = {'key1':'value1','key2':'value2'}\n",
    "\n",
    "in dictionary always you are fetching the values from key rather than indexing"
   ]
  },
  {
   "cell_type": "code",
   "execution_count": 663,
   "id": "486f5277",
   "metadata": {},
   "outputs": [],
   "source": [
    "my_dict = {'key1':'value1','key2':'value2'}"
   ]
  },
  {
   "cell_type": "code",
   "execution_count": 665,
   "id": "31d8c169",
   "metadata": {},
   "outputs": [
    {
     "data": {
      "text/plain": [
       "'value2'"
      ]
     },
     "execution_count": 665,
     "metadata": {},
     "output_type": "execute_result"
    }
   ],
   "source": [
    "# Call values by their key\n",
    "my_dict['key2']"
   ]
  },
  {
   "cell_type": "code",
   "execution_count": 669,
   "id": "a0651608-a38a-46ba-acde-3646f7871022",
   "metadata": {},
   "outputs": [],
   "source": [
    "info = {'Marks':[52,85,14,23,19],'Names':['Ram','Disha','Shravani','Monika']}"
   ]
  },
  {
   "cell_type": "code",
   "execution_count": 673,
   "id": "4c362658-b613-4aeb-b8c8-415bea1ed42e",
   "metadata": {},
   "outputs": [
    {
     "data": {
      "text/plain": [
       "23"
      ]
     },
     "execution_count": 673,
     "metadata": {},
     "output_type": "execute_result"
    }
   ],
   "source": [
    "info['Marks'][3]"
   ]
  },
  {
   "cell_type": "code",
   "execution_count": 675,
   "id": "7ff58392-af89-441a-ae8e-f8be7ff059a1",
   "metadata": {},
   "outputs": [
    {
     "data": {
      "text/plain": [
       "'Monika'"
      ]
     },
     "execution_count": 675,
     "metadata": {},
     "output_type": "execute_result"
    }
   ],
   "source": [
    "info['Names'][3]"
   ]
  },
  {
   "cell_type": "code",
   "execution_count": 677,
   "id": "16db3a9d-3897-49d8-82ab-1a538fa09049",
   "metadata": {},
   "outputs": [
    {
     "data": {
      "text/plain": [
       "dict_keys(['Marks', 'Names'])"
      ]
     },
     "execution_count": 677,
     "metadata": {},
     "output_type": "execute_result"
    }
   ],
   "source": [
    "info.keys()"
   ]
  },
  {
   "cell_type": "code",
   "execution_count": 679,
   "id": "f6c6d2c5-b5f3-47f9-8f80-15c0299f47ce",
   "metadata": {},
   "outputs": [
    {
     "data": {
      "text/plain": [
       "dict_values([[52, 85, 14, 23, 19], ['Ram', 'Disha', 'Shravani', 'Monika']])"
      ]
     },
     "execution_count": 679,
     "metadata": {},
     "output_type": "execute_result"
    }
   ],
   "source": [
    "info.values()"
   ]
  },
  {
   "cell_type": "code",
   "execution_count": 681,
   "id": "0c709db3-3718-430f-9c66-ade7166ae1f6",
   "metadata": {},
   "outputs": [
    {
     "data": {
      "text/plain": [
       "dict_items([('Marks', [52, 85, 14, 23, 19]), ('Names', ['Ram', 'Disha', 'Shravani', 'Monika'])])"
      ]
     },
     "execution_count": 681,
     "metadata": {},
     "output_type": "execute_result"
    }
   ],
   "source": [
    "info.items()"
   ]
  },
  {
   "cell_type": "code",
   "execution_count": null,
   "id": "cc779df6-e0a6-40d8-86d3-dab8fd74a42a",
   "metadata": {},
   "outputs": [],
   "source": []
  },
  {
   "cell_type": "code",
   "execution_count": 683,
   "id": "11e723b0",
   "metadata": {
    "scrolled": true
   },
   "outputs": [
    {
     "data": {
      "text/plain": [
       "dict_keys(['key1', 'key2'])"
      ]
     },
     "execution_count": 683,
     "metadata": {},
     "output_type": "execute_result"
    }
   ],
   "source": [
    "# To extract all the keys\n",
    "my_dict.keys()"
   ]
  },
  {
   "cell_type": "code",
   "execution_count": 685,
   "id": "d57a366f",
   "metadata": {},
   "outputs": [
    {
     "data": {
      "text/plain": [
       "dict_values(['value1', 'value2'])"
      ]
     },
     "execution_count": 685,
     "metadata": {},
     "output_type": "execute_result"
    }
   ],
   "source": [
    "# To extract all the values\n",
    "my_dict.values()"
   ]
  },
  {
   "cell_type": "markdown",
   "id": "d3bbc797",
   "metadata": {},
   "source": [
    "Its important to note that dictionaries are very flexible in the data types they can hold. For example:"
   ]
  },
  {
   "cell_type": "code",
   "execution_count": 755,
   "id": "800166e2",
   "metadata": {},
   "outputs": [],
   "source": [
    "my_dict = {'key1':123,'key2':[12,23,33],'key3':['item0','item1','item2']}"
   ]
  },
  {
   "cell_type": "code",
   "execution_count": 689,
   "id": "2dbc518e",
   "metadata": {},
   "outputs": [
    {
     "data": {
      "text/plain": [
       "['item0', 'item1', 'item2']"
      ]
     },
     "execution_count": 689,
     "metadata": {},
     "output_type": "execute_result"
    }
   ],
   "source": [
    "# Let's call items from the dictionary\n",
    "my_dict['key3']"
   ]
  },
  {
   "cell_type": "code",
   "execution_count": 709,
   "id": "8dccd258",
   "metadata": {},
   "outputs": [
    {
     "data": {
      "text/plain": [
       "'i'"
      ]
     },
     "execution_count": 709,
     "metadata": {},
     "output_type": "execute_result"
    }
   ],
   "source": [
    "# Can call an index on that value\n",
    "my_dict['key3'][1][:1]"
   ]
  },
  {
   "cell_type": "code",
   "execution_count": 695,
   "id": "ace186fa",
   "metadata": {},
   "outputs": [
    {
     "data": {
      "text/plain": [
       "'e'"
      ]
     },
     "execution_count": 695,
     "metadata": {},
     "output_type": "execute_result"
    }
   ],
   "source": [
    "my_dict['key3'][0][-3]"
   ]
  },
  {
   "cell_type": "code",
   "execution_count": 715,
   "id": "3dd7fc43",
   "metadata": {
    "scrolled": true
   },
   "outputs": [
    {
     "data": {
      "text/plain": [
       "'ITEM0'"
      ]
     },
     "execution_count": 715,
     "metadata": {},
     "output_type": "execute_result"
    }
   ],
   "source": [
    "# Can then even call methods on that value\n",
    "my_dict['key3'][0].upper()"
   ]
  },
  {
   "cell_type": "markdown",
   "id": "9ea64a20",
   "metadata": {},
   "source": [
    "We can affect the values of a key as well. For instance:"
   ]
  },
  {
   "cell_type": "code",
   "execution_count": 757,
   "id": "3956b2c1",
   "metadata": {},
   "outputs": [
    {
     "data": {
      "text/plain": [
       "123"
      ]
     },
     "execution_count": 757,
     "metadata": {},
     "output_type": "execute_result"
    }
   ],
   "source": [
    "my_dict['key1']"
   ]
  },
  {
   "cell_type": "code",
   "execution_count": 759,
   "id": "9005f491",
   "metadata": {},
   "outputs": [],
   "source": [
    "# Subtract 123 from the value\n",
    "my_dict['key1'] = my_dict['key1'] - 123"
   ]
  },
  {
   "cell_type": "code",
   "execution_count": 761,
   "id": "7efe51a0",
   "metadata": {},
   "outputs": [
    {
     "data": {
      "text/plain": [
       "0"
      ]
     },
     "execution_count": 761,
     "metadata": {},
     "output_type": "execute_result"
    }
   ],
   "source": [
    "#Check\n",
    "my_dict['key1']"
   ]
  },
  {
   "cell_type": "code",
   "execution_count": 763,
   "id": "a3a8ec03",
   "metadata": {},
   "outputs": [
    {
     "data": {
      "text/plain": [
       "{'key1': 0, 'key2': [12, 23, 33], 'key3': ['item0', 'item1', 'item2']}"
      ]
     },
     "execution_count": 763,
     "metadata": {},
     "output_type": "execute_result"
    }
   ],
   "source": [
    "my_dict"
   ]
  },
  {
   "cell_type": "markdown",
   "id": "c5bac2a9",
   "metadata": {},
   "source": [
    "We can also create keys by assignment. For instance if we started off with an empty dictionary, we could continually add to it:"
   ]
  },
  {
   "cell_type": "code",
   "execution_count": 765,
   "id": "a8bffac4",
   "metadata": {},
   "outputs": [],
   "source": [
    "# Create a new dictionary\n",
    "d = {}"
   ]
  },
  {
   "cell_type": "code",
   "execution_count": 767,
   "id": "e197028d",
   "metadata": {},
   "outputs": [
    {
     "data": {
      "text/plain": [
       "dict"
      ]
     },
     "execution_count": 767,
     "metadata": {},
     "output_type": "execute_result"
    }
   ],
   "source": [
    "type(d)"
   ]
  },
  {
   "cell_type": "code",
   "execution_count": 769,
   "id": "441745ad",
   "metadata": {},
   "outputs": [],
   "source": [
    "# Create a new key through assignment\n",
    "d['animal'] = 'Dog'"
   ]
  },
  {
   "cell_type": "code",
   "execution_count": 771,
   "id": "38891903",
   "metadata": {},
   "outputs": [
    {
     "data": {
      "text/plain": [
       "{'animal': 'Dog'}"
      ]
     },
     "execution_count": 771,
     "metadata": {},
     "output_type": "execute_result"
    }
   ],
   "source": [
    "d"
   ]
  },
  {
   "cell_type": "code",
   "execution_count": 773,
   "id": "97ce666d",
   "metadata": {},
   "outputs": [],
   "source": [
    "# Can do this with any object\n",
    "d['answer'] = 42            "
   ]
  },
  {
   "cell_type": "code",
   "execution_count": 775,
   "id": "048d921f",
   "metadata": {},
   "outputs": [
    {
     "data": {
      "text/plain": [
       "{'animal': 'Dog', 'answer': 42}"
      ]
     },
     "execution_count": 775,
     "metadata": {},
     "output_type": "execute_result"
    }
   ],
   "source": [
    "#Show\n",
    "d"
   ]
  },
  {
   "cell_type": "code",
   "execution_count": 785,
   "id": "8c7e1a31",
   "metadata": {},
   "outputs": [],
   "source": [
    "# Create a new key through assignment\n",
    "info ={}"
   ]
  },
  {
   "cell_type": "code",
   "execution_count": 902,
   "id": "38d7a307",
   "metadata": {},
   "outputs": [],
   "source": [
    "info['Students'] =['Darshan','Manju','Hari','Tarun','Reshma']"
   ]
  },
  {
   "cell_type": "code",
   "execution_count": 932,
   "id": "7904cfa8",
   "metadata": {},
   "outputs": [],
   "source": [
    "info['Marks']=[85,90,91,99,100,100]"
   ]
  },
  {
   "cell_type": "code",
   "execution_count": 904,
   "id": "eac91402",
   "metadata": {},
   "outputs": [
    {
     "data": {
      "text/plain": [
       "{'Students': ['Darshan', 'Manju', 'Hari', 'Tarun', 'Reshma'],\n",
       " 'Marks': [85, 90, 91, 99, 100, 10],\n",
       " 'details': ['Pass', 'Fail']}"
      ]
     },
     "execution_count": 904,
     "metadata": {},
     "output_type": "execute_result"
    }
   ],
   "source": [
    "info"
   ]
  },
  {
   "cell_type": "code",
   "execution_count": 793,
   "id": "eb92b073",
   "metadata": {},
   "outputs": [],
   "source": [
    "info['Marks'][0]=90"
   ]
  },
  {
   "cell_type": "code",
   "execution_count": 797,
   "id": "98651e1a",
   "metadata": {},
   "outputs": [],
   "source": [
    "info['Marks'][-1] = 30"
   ]
  },
  {
   "cell_type": "code",
   "execution_count": 801,
   "id": "d416fc5b",
   "metadata": {
    "scrolled": true
   },
   "outputs": [
    {
     "data": {
      "text/plain": [
       "{'Students': ['Darshan', 'Manju', 'Hari', 'Tarun', 'Reshma'],\n",
       " 'Marks': [90, 90, 91, 99, 30]}"
      ]
     },
     "execution_count": 801,
     "metadata": {},
     "output_type": "execute_result"
    }
   ],
   "source": [
    "info"
   ]
  },
  {
   "cell_type": "code",
   "execution_count": 365,
   "id": "eae4fda5",
   "metadata": {},
   "outputs": [
    {
     "data": {
      "text/plain": [
       "{'Students': ['Darshan', 'Manju', 'Hari', 'Tarun', 'Reshma'],\n",
       " 'Marks': [90, 90, 91, 99, 100]}"
      ]
     },
     "execution_count": 365,
     "metadata": {},
     "output_type": "execute_result"
    }
   ],
   "source": [
    "info"
   ]
  },
  {
   "cell_type": "code",
   "execution_count": 803,
   "id": "e34563a6",
   "metadata": {},
   "outputs": [],
   "source": [
    "info['details']=['Pass','Fail']"
   ]
  },
  {
   "cell_type": "code",
   "execution_count": 805,
   "id": "1bcb62de",
   "metadata": {},
   "outputs": [
    {
     "data": {
      "text/plain": [
       "{'Students': ['Darshan', 'Manju', 'Hari', 'Tarun', 'Reshma'],\n",
       " 'Marks': [90, 90, 91, 99, 30],\n",
       " 'details': ['Pass', 'Fail']}"
      ]
     },
     "execution_count": 805,
     "metadata": {},
     "output_type": "execute_result"
    }
   ],
   "source": [
    "info"
   ]
  },
  {
   "cell_type": "markdown",
   "id": "d83e36e9",
   "metadata": {},
   "source": [
    "## Nesting with Dictionaries\n",
    "\n",
    "Hopefully you're starting to see how powerful Python is with its flexibility of nesting objects and calling methods on them. Let's see a dictionary nested inside a dictionary:"
   ]
  },
  {
   "cell_type": "code",
   "execution_count": 813,
   "id": "8591d965",
   "metadata": {},
   "outputs": [],
   "source": [
    "# Dictionary nested inside a dictionary nested inside a dictionary\n",
    "d = {'key1':{'nestkey':{'subnestkey':'value'},'nestkey2':[1,2,3]}}"
   ]
  },
  {
   "cell_type": "code",
   "execution_count": 815,
   "id": "0e79f367",
   "metadata": {
    "scrolled": true
   },
   "outputs": [
    {
     "data": {
      "text/plain": [
       "2"
      ]
     },
     "execution_count": 815,
     "metadata": {},
     "output_type": "execute_result"
    }
   ],
   "source": [
    "d['key1']['nestkey2'][1]"
   ]
  },
  {
   "cell_type": "code",
   "execution_count": 849,
   "id": "2f9ba286-fb88-44c5-95ef-ea88a594c592",
   "metadata": {},
   "outputs": [
    {
     "data": {
      "text/plain": [
       "2"
      ]
     },
     "execution_count": 849,
     "metadata": {},
     "output_type": "execute_result"
    }
   ],
   "source": [
    "d['key1']['nestkey2'][1]"
   ]
  },
  {
   "cell_type": "code",
   "execution_count": 851,
   "id": "d266e42b",
   "metadata": {
    "scrolled": true
   },
   "outputs": [
    {
     "data": {
      "text/plain": [
       "{'subnestkey': 'value'}"
      ]
     },
     "execution_count": 851,
     "metadata": {},
     "output_type": "execute_result"
    }
   ],
   "source": [
    "d['key1']['nestkey']"
   ]
  },
  {
   "cell_type": "markdown",
   "id": "845853ee",
   "metadata": {},
   "source": [
    "Let's see how we can grab that value:"
   ]
  },
  {
   "cell_type": "code",
   "execution_count": 853,
   "id": "fb5187ac",
   "metadata": {},
   "outputs": [
    {
     "data": {
      "text/plain": [
       "'e'"
      ]
     },
     "execution_count": 853,
     "metadata": {},
     "output_type": "execute_result"
    }
   ],
   "source": [
    "# Keep calling the keys\n",
    "d['key1']['nestkey']['subnestkey'][-1]"
   ]
  },
  {
   "cell_type": "code",
   "execution_count": 857,
   "id": "09ac704b",
   "metadata": {},
   "outputs": [
    {
     "data": {
      "text/plain": [
       "[1, 2, 3]"
      ]
     },
     "execution_count": 857,
     "metadata": {},
     "output_type": "execute_result"
    }
   ],
   "source": [
    "d['key1']['nestkey2']"
   ]
  },
  {
   "cell_type": "markdown",
   "id": "e647cd46",
   "metadata": {},
   "source": [
    "## A few Dictionary Methods\n",
    "\n",
    "There are a few methods we can call on a dictionary. Let's get a quick introduction to a few of them:"
   ]
  },
  {
   "cell_type": "code",
   "execution_count": 873,
   "id": "72ff3bba",
   "metadata": {},
   "outputs": [],
   "source": [
    "# Create a typical dictionary\n",
    "d = {'key1':[1,23,56],'key2':2,'key3':3}"
   ]
  },
  {
   "cell_type": "code",
   "execution_count": 875,
   "id": "ca876062",
   "metadata": {},
   "outputs": [
    {
     "data": {
      "text/plain": [
       "dict_keys(['key1', 'key2', 'key3'])"
      ]
     },
     "execution_count": 875,
     "metadata": {},
     "output_type": "execute_result"
    }
   ],
   "source": [
    "# Method to return a list of all keys \n",
    "d.keys()"
   ]
  },
  {
   "cell_type": "code",
   "execution_count": 877,
   "id": "0f6ba8e7",
   "metadata": {},
   "outputs": [
    {
     "data": {
      "text/plain": [
       "dict_values([[1, 23, 56], 2, 3])"
      ]
     },
     "execution_count": 877,
     "metadata": {},
     "output_type": "execute_result"
    }
   ],
   "source": [
    "# Method to grab all values\n",
    "d.values()"
   ]
  },
  {
   "cell_type": "code",
   "execution_count": 879,
   "id": "3bed3a5e",
   "metadata": {
    "scrolled": true
   },
   "outputs": [
    {
     "data": {
      "text/plain": [
       "dict_items([('key1', [1, 23, 56]), ('key2', 2), ('key3', 3)])"
      ]
     },
     "execution_count": 879,
     "metadata": {},
     "output_type": "execute_result"
    }
   ],
   "source": [
    "# Method to grab both key and value in the form of tuple\n",
    "d.items()"
   ]
  },
  {
   "cell_type": "code",
   "execution_count": 928,
   "id": "5b23b449",
   "metadata": {},
   "outputs": [
    {
     "data": {
      "text/plain": [
       "{'Students': ['Darshan', 'Manju', 'Hari', 'Tarun', 'Reshma', 'Rohit'],\n",
       " 'Marks': [85, 90, 91, 99, 100, 10],\n",
       " 'details': ['Pass', 'Fail']}"
      ]
     },
     "execution_count": 928,
     "metadata": {},
     "output_type": "execute_result"
    }
   ],
   "source": [
    "info"
   ]
  },
  {
   "cell_type": "code",
   "execution_count": 908,
   "id": "0394fddb",
   "metadata": {},
   "outputs": [
    {
     "name": "stdout",
     "output_type": "stream",
     "text": [
      "{'Students': ['Darshan', 'Manju', 'Hari', 'Tarun', 'Reshma'], 'Marks': [85, 90, 91, 99, 100, 10], 'details': ['Pass', 'Fail']}\n"
     ]
    },
    {
     "data": {
      "text/plain": [
       "{'Darshan': 85, 'Manju': 90, 'Hari': 91, 'Tarun': 99, 'Reshma': 100}"
      ]
     },
     "execution_count": 908,
     "metadata": {},
     "output_type": "execute_result"
    }
   ],
   "source": [
    "print(info)\n",
    "dict(zip(info['Students'],info['Marks']))"
   ]
  },
  {
   "cell_type": "code",
   "execution_count": 942,
   "id": "d4793272-2512-4576-81fe-33f6d1037589",
   "metadata": {},
   "outputs": [
    {
     "data": {
      "text/plain": [
       "{'Darshan': 85,\n",
       " 'Manju': 90,\n",
       " 'Hari': 91,\n",
       " 'Tarun': 99,\n",
       " 'Reshma': 100,\n",
       " 'Rohit': 100}"
      ]
     },
     "execution_count": 942,
     "metadata": {},
     "output_type": "execute_result"
    }
   ],
   "source": [
    "dict(zip(info['Students'],info['Marks']))"
   ]
  },
  {
   "cell_type": "code",
   "execution_count": 924,
   "id": "49bb27fc-5199-46f6-8564-0ba232a2d6ee",
   "metadata": {},
   "outputs": [
    {
     "data": {
      "text/plain": [
       "['Pass', 'Fail']"
      ]
     },
     "execution_count": 924,
     "metadata": {},
     "output_type": "execute_result"
    }
   ],
   "source": [
    "info['details']"
   ]
  },
  {
   "cell_type": "code",
   "execution_count": 946,
   "id": "06713f89-fcd4-4248-9733-0bea5e582525",
   "metadata": {},
   "outputs": [],
   "source": [
    "info['Students'].append('Rohit')"
   ]
  },
  {
   "cell_type": "code",
   "execution_count": 950,
   "id": "654f0e82",
   "metadata": {},
   "outputs": [],
   "source": [
    "info['Students'].append('Manoj')"
   ]
  },
  {
   "cell_type": "code",
   "execution_count": 958,
   "id": "169f6acb",
   "metadata": {},
   "outputs": [
    {
     "name": "stdout",
     "output_type": "stream",
     "text": [
      "10\n",
      "8\n"
     ]
    },
    {
     "data": {
      "text/plain": [
       "{'Darshan': 85,\n",
       " 'Manju': 90,\n",
       " 'Hari': 91,\n",
       " 'Tarun': 99,\n",
       " 'Reshma': 100,\n",
       " 'Rohit': 95,\n",
       " 'Manoj': 93}"
      ]
     },
     "execution_count": 958,
     "metadata": {},
     "output_type": "execute_result"
    }
   ],
   "source": [
    "# Manoj information is not displayed because we dont have marks for him\n",
    "print(len(info['Students']))\n",
    "print(len(info['Marks']))\n",
    "dict(zip(info['Students'],info['Marks']))"
   ]
  },
  {
   "cell_type": "code",
   "execution_count": 954,
   "id": "3dd6d774",
   "metadata": {},
   "outputs": [],
   "source": [
    "info['Marks'].extend([95,93])"
   ]
  },
  {
   "cell_type": "code",
   "execution_count": 956,
   "id": "2eb724ae",
   "metadata": {},
   "outputs": [
    {
     "data": {
      "text/plain": [
       "['Darshan',\n",
       " 'Manju',\n",
       " 'Hari',\n",
       " 'Tarun',\n",
       " 'Reshma',\n",
       " 'Rohit',\n",
       " 'Rohit',\n",
       " 'Manoj',\n",
       " 'Rohit',\n",
       " 'Manoj']"
      ]
     },
     "execution_count": 956,
     "metadata": {},
     "output_type": "execute_result"
    }
   ],
   "source": [
    "info['Students']"
   ]
  },
  {
   "cell_type": "code",
   "execution_count": 960,
   "id": "40d51950",
   "metadata": {},
   "outputs": [
    {
     "name": "stdout",
     "output_type": "stream",
     "text": [
      "10\n",
      "8\n",
      "{'Darshan': 85, 'Manju': 90, 'Hari': 91, 'Tarun': 99, 'Reshma': 100, 'Rohit': 95, 'Manoj': 93}\n"
     ]
    }
   ],
   "source": [
    "print(len(info['Students']))\n",
    "print(len(info['Marks']))\n",
    "print(dict(zip(info['Students'],info['Marks'])))"
   ]
  },
  {
   "cell_type": "markdown",
   "id": "f64d2f7c",
   "metadata": {},
   "source": [
    "## Sets\n",
    "\n",
    "Sets are an unordered collection of *unique* elements. We can construct them by using the set() function. Let's go ahead and make a set to see how it works"
   ]
  },
  {
   "cell_type": "code",
   "execution_count": 964,
   "id": "d16bd9ca",
   "metadata": {},
   "outputs": [
    {
     "data": {
      "text/plain": [
       "{1}"
      ]
     },
     "execution_count": 964,
     "metadata": {},
     "output_type": "execute_result"
    }
   ],
   "source": [
    "# Declaire the set\n",
    "x = set()\n",
    "# We add to sets with the add() method\n",
    "x.add(1)\n",
    "#Show\n",
    "x"
   ]
  },
  {
   "cell_type": "markdown",
   "id": "fcf1473d",
   "metadata": {},
   "source": [
    "Note the curly brackets. This does not indicate a dictionary! Although you can draw analogies as a set being a dictionary with only keys.\n",
    "\n",
    "We know that a set has only unique entries. So what happens when we try to add something that is already in a set?"
   ]
  },
  {
   "cell_type": "code",
   "execution_count": 976,
   "id": "9838d45f",
   "metadata": {},
   "outputs": [
    {
     "data": {
      "text/plain": [
       "{1, 2}"
      ]
     },
     "execution_count": 976,
     "metadata": {},
     "output_type": "execute_result"
    }
   ],
   "source": [
    "# Add a different element\n",
    "x.add(2)\n",
    "#Show\n",
    "x"
   ]
  },
  {
   "cell_type": "code",
   "execution_count": 396,
   "id": "c68f3ea7",
   "metadata": {},
   "outputs": [],
   "source": [
    "# Try to add the same element\n",
    "x.add(1)"
   ]
  },
  {
   "cell_type": "code",
   "execution_count": 397,
   "id": "2521da5e",
   "metadata": {},
   "outputs": [
    {
     "data": {
      "text/plain": [
       "{1, 2}"
      ]
     },
     "execution_count": 397,
     "metadata": {},
     "output_type": "execute_result"
    }
   ],
   "source": [
    "#Show\n",
    "x"
   ]
  },
  {
   "cell_type": "markdown",
   "id": "2d62c12d",
   "metadata": {},
   "source": [
    "Notice how it won't place another 1 there. That's because a set is only concerned with unique elements! We can cast a list with multiple repeat elements to a set to get the unique elements. For example:"
   ]
  },
  {
   "cell_type": "code",
   "execution_count": 982,
   "id": "aac12216",
   "metadata": {},
   "outputs": [],
   "source": [
    "# Create a list with repeats\n",
    "list1 = [1,1,2,2,3,4,5,6,1,1]"
   ]
  },
  {
   "cell_type": "code",
   "execution_count": 970,
   "id": "75206974",
   "metadata": {},
   "outputs": [
    {
     "name": "stdout",
     "output_type": "stream",
     "text": [
      "[1, 1, 2, 2, 3, 4, 5, 6, 1, 1]\n"
     ]
    }
   ],
   "source": [
    "print(list1)"
   ]
  },
  {
   "cell_type": "code",
   "execution_count": 984,
   "id": "ab9e4c21",
   "metadata": {},
   "outputs": [],
   "source": [
    "# Cast as set to get unique values\n",
    "s=set(list1)"
   ]
  },
  {
   "cell_type": "code",
   "execution_count": 986,
   "id": "8e84fc9e",
   "metadata": {},
   "outputs": [
    {
     "data": {
      "text/plain": [
       "[1, 2, 3, 4, 5, 6]"
      ]
     },
     "execution_count": 986,
     "metadata": {},
     "output_type": "execute_result"
    }
   ],
   "source": [
    "list(s)"
   ]
  },
  {
   "cell_type": "code",
   "execution_count": 408,
   "id": "65d367bb",
   "metadata": {
    "scrolled": true
   },
   "outputs": [
    {
     "data": {
      "text/plain": [
       "[1, 2, 3, 4, 5, 6]"
      ]
     },
     "execution_count": 408,
     "metadata": {},
     "output_type": "execute_result"
    }
   ],
   "source": [
    "list(s)\n",
    "# or\n",
    "list(set(list1))"
   ]
  },
  {
   "cell_type": "code",
   "execution_count": 409,
   "id": "7fb504eb",
   "metadata": {},
   "outputs": [
    {
     "data": {
      "text/plain": [
       "{1, 2, 3, 4, 5, 6}"
      ]
     },
     "execution_count": 409,
     "metadata": {},
     "output_type": "execute_result"
    }
   ],
   "source": [
    "s"
   ]
  },
  {
   "cell_type": "markdown",
   "id": "70ceb47d",
   "metadata": {},
   "source": [
    "## clear\n",
    "removes all elements from the set"
   ]
  },
  {
   "cell_type": "code",
   "execution_count": 988,
   "id": "03bccb22",
   "metadata": {},
   "outputs": [],
   "source": [
    "s.clear()"
   ]
  },
  {
   "cell_type": "code",
   "execution_count": 990,
   "id": "c9e7a740",
   "metadata": {
    "scrolled": true
   },
   "outputs": [
    {
     "data": {
      "text/plain": [
       "set()"
      ]
     },
     "execution_count": 990,
     "metadata": {},
     "output_type": "execute_result"
    }
   ],
   "source": [
    "s"
   ]
  },
  {
   "cell_type": "markdown",
   "id": "edbede5c",
   "metadata": {},
   "source": [
    "## copy\n",
    "returns a copy of the set. Note it is a copy, so changes to the original don't effect the copy.  \n",
    "Will Learn More about copy (There are 3 types of copy)\n",
    "1. 'Normal copy'\n",
    "2. 'Shallow copy'\n",
    "3. 'Deep copy'"
   ]
  },
  {
   "cell_type": "code",
   "execution_count": 1002,
   "id": "505cbcec",
   "metadata": {},
   "outputs": [],
   "source": [
    "s = {1,2,3}\n",
    "sd=s.copy()"
   ]
  },
  {
   "cell_type": "code",
   "execution_count": 1004,
   "id": "c55d9dd7",
   "metadata": {},
   "outputs": [
    {
     "data": {
      "text/plain": [
       "{1, 2, 3}"
      ]
     },
     "execution_count": 1004,
     "metadata": {},
     "output_type": "execute_result"
    }
   ],
   "source": [
    "sd"
   ]
  },
  {
   "cell_type": "code",
   "execution_count": 1006,
   "id": "c70d6a0f",
   "metadata": {
    "scrolled": true
   },
   "outputs": [
    {
     "data": {
      "text/plain": [
       "{1, 2, 3}"
      ]
     },
     "execution_count": 1006,
     "metadata": {},
     "output_type": "execute_result"
    }
   ],
   "source": [
    "s"
   ]
  },
  {
   "cell_type": "code",
   "execution_count": 1008,
   "id": "d18ad9ec",
   "metadata": {},
   "outputs": [],
   "source": [
    "s.add(4)"
   ]
  },
  {
   "cell_type": "code",
   "execution_count": 1010,
   "id": "996abb36",
   "metadata": {},
   "outputs": [
    {
     "data": {
      "text/plain": [
       "{1, 2, 3, 4}"
      ]
     },
     "execution_count": 1010,
     "metadata": {},
     "output_type": "execute_result"
    }
   ],
   "source": [
    "s"
   ]
  },
  {
   "cell_type": "code",
   "execution_count": 1012,
   "id": "c37ef8ab",
   "metadata": {},
   "outputs": [
    {
     "data": {
      "text/plain": [
       "{1, 2, 3, 4}"
      ]
     },
     "execution_count": 1012,
     "metadata": {},
     "output_type": "execute_result"
    }
   ],
   "source": [
    "s"
   ]
  },
  {
   "cell_type": "code",
   "execution_count": 1014,
   "id": "5f95d957",
   "metadata": {},
   "outputs": [
    {
     "data": {
      "text/plain": [
       "{1, 2, 3}"
      ]
     },
     "execution_count": 1014,
     "metadata": {},
     "output_type": "execute_result"
    }
   ],
   "source": [
    "sc"
   ]
  },
  {
   "cell_type": "markdown",
   "id": "055fc804",
   "metadata": {},
   "source": [
    "## difference\n",
    "difference returns the difference of two or more sets. The syntax is:\n",
    "\n",
    "    set1.difference(set2)\n",
    "For example:"
   ]
  },
  {
   "cell_type": "code",
   "execution_count": 1048,
   "id": "75927471",
   "metadata": {},
   "outputs": [
    {
     "data": {
      "text/plain": [
       "{2, 4}"
      ]
     },
     "execution_count": 1048,
     "metadata": {},
     "output_type": "execute_result"
    }
   ],
   "source": [
    "# Difference\n",
    "set1 = {2,4,5,6}\n",
    "set2 = {5,6,7,8}\n",
    "set1.difference(set2)      # It print only those data which are present in set1 and that are not present in set2"
   ]
  },
  {
   "cell_type": "markdown",
   "id": "19e228b7",
   "metadata": {},
   "source": [
    "## difference_update\n",
    "difference_update syntax is:\n",
    "\n",
    "    set1.difference_update(set2)\n",
    "the method returns set1 after removing elements found in set2"
   ]
  },
  {
   "cell_type": "code",
   "execution_count": 1192,
   "id": "f24ac46e",
   "metadata": {},
   "outputs": [],
   "source": [
    "s1 = {4,3,1}"
   ]
  },
  {
   "cell_type": "code",
   "execution_count": 1194,
   "id": "03ccd5a5",
   "metadata": {},
   "outputs": [],
   "source": [
    "s2 = {3,4,5}\n"
   ]
  },
  {
   "cell_type": "code",
   "execution_count": 1196,
   "id": "12fb989a",
   "metadata": {},
   "outputs": [],
   "source": [
    "s2.difference_update(s1)"
   ]
  },
  {
   "cell_type": "code",
   "execution_count": 1066,
   "id": "44651c88",
   "metadata": {},
   "outputs": [
    {
     "data": {
      "text/plain": [
       "{5}"
      ]
     },
     "execution_count": 1066,
     "metadata": {},
     "output_type": "execute_result"
    }
   ],
   "source": [
    "s2"
   ]
  },
  {
   "cell_type": "markdown",
   "id": "02466129",
   "metadata": {},
   "source": [
    "## discard\n",
    "Removes an element from a set if it is a member. If the element is not a member, do nothing."
   ]
  },
  {
   "cell_type": "code",
   "execution_count": 1068,
   "id": "4bb3f000",
   "metadata": {},
   "outputs": [
    {
     "data": {
      "text/plain": [
       "{1, 2, 3, 4, 5}"
      ]
     },
     "execution_count": 1068,
     "metadata": {},
     "output_type": "execute_result"
    }
   ],
   "source": [
    "s = {1,2,3,4,5}\n",
    "s"
   ]
  },
  {
   "cell_type": "code",
   "execution_count": 1074,
   "id": "19074ff2",
   "metadata": {},
   "outputs": [],
   "source": [
    "s.discard(7)"
   ]
  },
  {
   "cell_type": "code",
   "execution_count": 1076,
   "id": "e57a84e6",
   "metadata": {
    "scrolled": true
   },
   "outputs": [
    {
     "data": {
      "text/plain": [
       "{1, 3, 4, 5}"
      ]
     },
     "execution_count": 1076,
     "metadata": {},
     "output_type": "execute_result"
    }
   ],
   "source": [
    "s"
   ]
  },
  {
   "cell_type": "code",
   "execution_count": 1078,
   "id": "e84383b0",
   "metadata": {},
   "outputs": [
    {
     "data": {
      "text/plain": [
       "{1, 3, 4}"
      ]
     },
     "execution_count": 1078,
     "metadata": {},
     "output_type": "execute_result"
    }
   ],
   "source": [
    "s.discard(5)\n",
    "s"
   ]
  },
  {
   "cell_type": "code",
   "execution_count": 1080,
   "id": "f8805f8f",
   "metadata": {},
   "outputs": [],
   "source": [
    "s.discard(10)"
   ]
  },
  {
   "cell_type": "code",
   "execution_count": 1082,
   "id": "9b6fecbb",
   "metadata": {},
   "outputs": [
    {
     "data": {
      "text/plain": [
       "{1, 3, 4}"
      ]
     },
     "execution_count": 1082,
     "metadata": {},
     "output_type": "execute_result"
    }
   ],
   "source": [
    "s"
   ]
  },
  {
   "cell_type": "markdown",
   "id": "5d90d1ba",
   "metadata": {},
   "source": [
    "## intersection and intersection_update\n",
    "Returns the intersection of two or more sets as a new set.(i.e. elements that are common to all of the sets.)"
   ]
  },
  {
   "cell_type": "code",
   "execution_count": 1182,
   "id": "da705aaf",
   "metadata": {},
   "outputs": [],
   "source": [
    "s1 = {1,2,3,5}"
   ]
  },
  {
   "cell_type": "code",
   "execution_count": 1184,
   "id": "8999b0f3",
   "metadata": {},
   "outputs": [],
   "source": [
    "s2 = {1,2,4}"
   ]
  },
  {
   "cell_type": "code",
   "execution_count": 1186,
   "id": "06c9e159",
   "metadata": {},
   "outputs": [
    {
     "data": {
      "text/plain": [
       "{1, 2}"
      ]
     },
     "execution_count": 1186,
     "metadata": {},
     "output_type": "execute_result"
    }
   ],
   "source": [
    "s2.intersection(s1)"
   ]
  },
  {
   "cell_type": "code",
   "execution_count": 1188,
   "id": "3f329692",
   "metadata": {},
   "outputs": [],
   "source": [
    "s2.intersection_update(s1)      # intersection update will update the original set"
   ]
  },
  {
   "cell_type": "code",
   "execution_count": 1190,
   "id": "fc2d533b",
   "metadata": {},
   "outputs": [
    {
     "data": {
      "text/plain": [
       "{1, 2, 3, 5}"
      ]
     },
     "execution_count": 1190,
     "metadata": {},
     "output_type": "execute_result"
    }
   ],
   "source": [
    "s1"
   ]
  },
  {
   "cell_type": "code",
   "execution_count": 1142,
   "id": "88036af6",
   "metadata": {},
   "outputs": [
    {
     "data": {
      "text/plain": [
       "{1, 2}"
      ]
     },
     "execution_count": 1142,
     "metadata": {},
     "output_type": "execute_result"
    }
   ],
   "source": [
    "s2"
   ]
  },
  {
   "cell_type": "markdown",
   "id": "8cb5e580",
   "metadata": {},
   "source": [
    "### Union \n",
    "union will print you the unique records from both the variable"
   ]
  },
  {
   "cell_type": "code",
   "execution_count": 1162,
   "id": "6a7d3d84",
   "metadata": {},
   "outputs": [
    {
     "name": "stdout",
     "output_type": "stream",
     "text": [
      "{1, 2, 3, 5} {1, 2, 4}\n"
     ]
    }
   ],
   "source": [
    "print(s1,s2)"
   ]
  },
  {
   "cell_type": "code",
   "execution_count": 1164,
   "id": "e6423675",
   "metadata": {},
   "outputs": [
    {
     "data": {
      "text/plain": [
       "{1, 2, 3, 4, 5}"
      ]
     },
     "execution_count": 1164,
     "metadata": {},
     "output_type": "execute_result"
    }
   ],
   "source": [
    "s1.union(s2)"
   ]
  },
  {
   "cell_type": "code",
   "execution_count": 1154,
   "id": "c81fa462",
   "metadata": {},
   "outputs": [],
   "source": [
    "s1.add(3)"
   ]
  },
  {
   "cell_type": "code",
   "execution_count": 1156,
   "id": "716084b6",
   "metadata": {
    "scrolled": true
   },
   "outputs": [
    {
     "name": "stdout",
     "output_type": "stream",
     "text": [
      "s1 = {1, 2, 3}\n",
      "s2 = {1, 2, 4}\n"
     ]
    }
   ],
   "source": [
    "print('s1 =',s1)\n",
    "print('s2 =',s2)"
   ]
  },
  {
   "cell_type": "markdown",
   "id": "9a0c27d5",
   "metadata": {},
   "source": [
    "## symmetric_difference \n",
    "symmetric difference will print non common records from both the variables"
   ]
  },
  {
   "cell_type": "code",
   "execution_count": 1166,
   "id": "5a953bab",
   "metadata": {},
   "outputs": [
    {
     "name": "stdout",
     "output_type": "stream",
     "text": [
      "s1 = {1, 2, 3, 5}\n",
      "s2 = {1, 2, 4}\n"
     ]
    }
   ],
   "source": [
    "print('s1 =',s1)\n",
    "print('s2 =',s2)"
   ]
  },
  {
   "cell_type": "code",
   "execution_count": 1174,
   "id": "ba5fe60e",
   "metadata": {},
   "outputs": [
    {
     "data": {
      "text/plain": [
       "{3, 4, 5}"
      ]
     },
     "execution_count": 1174,
     "metadata": {},
     "output_type": "execute_result"
    }
   ],
   "source": [
    "s1.symmetric_difference(s2)"
   ]
  },
  {
   "cell_type": "markdown",
   "id": "32a6d0ea",
   "metadata": {},
   "source": [
    "### difference\n",
    "difference will print only difference from one variable to other variable"
   ]
  },
  {
   "cell_type": "code",
   "execution_count": 98,
   "id": "7806d1fb",
   "metadata": {},
   "outputs": [
    {
     "data": {
      "text/plain": [
       "{4}"
      ]
     },
     "execution_count": 98,
     "metadata": {},
     "output_type": "execute_result"
    }
   ],
   "source": [
    "s2.difference(s1)"
   ]
  },
  {
   "cell_type": "code",
   "execution_count": 99,
   "id": "088f1b3d",
   "metadata": {},
   "outputs": [
    {
     "data": {
      "text/plain": [
       "{3}"
      ]
     },
     "execution_count": 99,
     "metadata": {},
     "output_type": "execute_result"
    }
   ],
   "source": [
    "s1.difference(s2)"
   ]
  },
  {
   "cell_type": "code",
   "execution_count": 100,
   "id": "a7a8755e",
   "metadata": {},
   "outputs": [
    {
     "data": {
      "text/plain": [
       "{4}"
      ]
     },
     "execution_count": 100,
     "metadata": {},
     "output_type": "execute_result"
    }
   ],
   "source": [
    "s2 - s1"
   ]
  },
  {
   "cell_type": "markdown",
   "id": "e2475da5",
   "metadata": {},
   "source": [
    "## isdisjoint\n",
    "This method will return True if two sets have a null intersection."
   ]
  },
  {
   "cell_type": "code",
   "execution_count": 103,
   "id": "30bf8420",
   "metadata": {},
   "outputs": [],
   "source": [
    "s1 = {1,2}\n",
    "s2 = {1,2,4}\n",
    "s3 = {5}"
   ]
  },
  {
   "cell_type": "code",
   "execution_count": 104,
   "id": "1439a61b",
   "metadata": {},
   "outputs": [
    {
     "data": {
      "text/plain": [
       "False"
      ]
     },
     "execution_count": 104,
     "metadata": {},
     "output_type": "execute_result"
    }
   ],
   "source": [
    "s1.isdisjoint(s2)"
   ]
  },
  {
   "cell_type": "code",
   "execution_count": 105,
   "id": "568ec16b",
   "metadata": {},
   "outputs": [
    {
     "data": {
      "text/plain": [
       "True"
      ]
     },
     "execution_count": 105,
     "metadata": {},
     "output_type": "execute_result"
    }
   ],
   "source": [
    "s1.isdisjoint(s3)"
   ]
  },
  {
   "cell_type": "code",
   "execution_count": 106,
   "id": "8c67480e",
   "metadata": {
    "scrolled": true
   },
   "outputs": [
    {
     "data": {
      "text/plain": [
       "True"
      ]
     },
     "execution_count": 106,
     "metadata": {},
     "output_type": "execute_result"
    }
   ],
   "source": [
    "s2.isdisjoint(s3)"
   ]
  },
  {
   "cell_type": "markdown",
   "id": "ccc57fab",
   "metadata": {},
   "source": [
    "## issubset\n",
    "This method reports whether another set contains this set."
   ]
  },
  {
   "cell_type": "code",
   "execution_count": 31,
   "id": "8672acf4",
   "metadata": {},
   "outputs": [
    {
     "data": {
      "text/plain": [
       "{1, 2}"
      ]
     },
     "execution_count": 31,
     "metadata": {},
     "output_type": "execute_result"
    }
   ],
   "source": [
    "s1 = {1,2}\n",
    "s1"
   ]
  },
  {
   "cell_type": "code",
   "execution_count": 33,
   "id": "98910f04",
   "metadata": {},
   "outputs": [
    {
     "ename": "NameError",
     "evalue": "name 's2' is not defined",
     "output_type": "error",
     "traceback": [
      "\u001b[1;31m---------------------------------------------------------------------------\u001b[0m",
      "\u001b[1;31mNameError\u001b[0m                                 Traceback (most recent call last)",
      "Cell \u001b[1;32mIn[33], line 1\u001b[0m\n\u001b[1;32m----> 1\u001b[0m s2\n",
      "\u001b[1;31mNameError\u001b[0m: name 's2' is not defined"
     ]
    }
   ],
   "source": [
    "s2"
   ]
  },
  {
   "cell_type": "code",
   "execution_count": 450,
   "id": "8f8a784d",
   "metadata": {},
   "outputs": [
    {
     "data": {
      "text/plain": [
       "True"
      ]
     },
     "execution_count": 450,
     "metadata": {},
     "output_type": "execute_result"
    }
   ],
   "source": [
    "s1.issubset(s2)"
   ]
  },
  {
   "cell_type": "code",
   "execution_count": 29,
   "id": "2c87ec31",
   "metadata": {
    "scrolled": true
   },
   "outputs": [
    {
     "ename": "NameError",
     "evalue": "name 's2' is not defined",
     "output_type": "error",
     "traceback": [
      "\u001b[1;31m---------------------------------------------------------------------------\u001b[0m",
      "\u001b[1;31mNameError\u001b[0m                                 Traceback (most recent call last)",
      "Cell \u001b[1;32mIn[29], line 1\u001b[0m\n\u001b[1;32m----> 1\u001b[0m s2\u001b[38;5;241m.\u001b[39missuperset(s1)\n",
      "\u001b[1;31mNameError\u001b[0m: name 's2' is not defined"
     ]
    }
   ],
   "source": [
    "s2.issuperset(s1)"
   ]
  },
  {
   "cell_type": "code",
   "execution_count": 35,
   "id": "f6a479a4",
   "metadata": {},
   "outputs": [
    {
     "data": {
      "text/plain": [
       "True"
      ]
     },
     "execution_count": 35,
     "metadata": {},
     "output_type": "execute_result"
    }
   ],
   "source": [
    "s1 = {1,2}\n",
    "s3 = {1,2}\n",
    "s1.issubset(s3)"
   ]
  },
  {
   "cell_type": "markdown",
   "id": "67688990",
   "metadata": {},
   "source": [
    "## issuperset\n",
    "This method will report whether this set contains another set."
   ]
  },
  {
   "cell_type": "code",
   "execution_count": 37,
   "id": "e2f93377",
   "metadata": {},
   "outputs": [
    {
     "ename": "NameError",
     "evalue": "name 's2' is not defined",
     "output_type": "error",
     "traceback": [
      "\u001b[1;31m---------------------------------------------------------------------------\u001b[0m",
      "\u001b[1;31mNameError\u001b[0m                                 Traceback (most recent call last)",
      "Cell \u001b[1;32mIn[37], line 1\u001b[0m\n\u001b[1;32m----> 1\u001b[0m s2\u001b[38;5;241m.\u001b[39missuperset(s1)\n",
      "\u001b[1;31mNameError\u001b[0m: name 's2' is not defined"
     ]
    }
   ],
   "source": [
    "s2.issuperset(s1)"
   ]
  },
  {
   "cell_type": "code",
   "execution_count": 453,
   "id": "d0e30147",
   "metadata": {},
   "outputs": [
    {
     "data": {
      "text/plain": [
       "False"
      ]
     },
     "execution_count": 453,
     "metadata": {},
     "output_type": "execute_result"
    }
   ],
   "source": [
    "s1.issuperset(s2)"
   ]
  },
  {
   "cell_type": "markdown",
   "id": "0249eadf",
   "metadata": {},
   "source": [
    "## union\n",
    "Returns the union of two sets (i.e. all elements that are in either set.)"
   ]
  },
  {
   "cell_type": "code",
   "execution_count": 454,
   "id": "d9600d65",
   "metadata": {},
   "outputs": [
    {
     "data": {
      "text/plain": [
       "{1, 2, 4}"
      ]
     },
     "execution_count": 454,
     "metadata": {},
     "output_type": "execute_result"
    }
   ],
   "source": [
    "s1.union(s2)"
   ]
  },
  {
   "cell_type": "markdown",
   "id": "d76d9b2b",
   "metadata": {},
   "source": [
    "## update\n",
    "Update a set with the union of itself and others."
   ]
  },
  {
   "cell_type": "code",
   "execution_count": 115,
   "id": "2db6edf0",
   "metadata": {},
   "outputs": [],
   "source": [
    "s1.update(s2)"
   ]
  },
  {
   "cell_type": "code",
   "execution_count": 116,
   "id": "1115b7ea",
   "metadata": {
    "scrolled": true
   },
   "outputs": [
    {
     "data": {
      "text/plain": [
       "{1, 2, 4}"
      ]
     },
     "execution_count": 116,
     "metadata": {},
     "output_type": "execute_result"
    }
   ],
   "source": [
    "s1"
   ]
  },
  {
   "cell_type": "markdown",
   "id": "b39b8b84",
   "metadata": {},
   "source": [
    "**----------------------------------- Great You are done with Data types in Python -------------------------------------**    \n",
    "**-----------------------------------             Happy Learning                   -------------------------------------**"
   ]
  }
 ],
 "metadata": {
  "kernelspec": {
   "display_name": "Python [conda env:base] *",
   "language": "python",
   "name": "conda-base-py"
  },
  "language_info": {
   "codemirror_mode": {
    "name": "ipython",
    "version": 3
   },
   "file_extension": ".py",
   "mimetype": "text/x-python",
   "name": "python",
   "nbconvert_exporter": "python",
   "pygments_lexer": "ipython3",
   "version": "3.12.7"
  }
 },
 "nbformat": 4,
 "nbformat_minor": 5
}
