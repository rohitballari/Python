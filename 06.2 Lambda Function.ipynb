{
 "cells": [
  {
   "cell_type": "markdown",
   "id": "9a60f180",
   "metadata": {},
   "source": [
    "## what is Lambda Function\n",
    "#### A lambda function is an anonymous function (i.e., defined without a name) that can take any number of arguments but, unlike normal functions, evaluates and returns only one expression."
   ]
  },
  {
   "cell_type": "markdown",
   "id": "4b89fc5c",
   "metadata": {},
   "source": [
    "### Will look how to work on Map, Filter, Reduce"
   ]
  },
  {
   "cell_type": "markdown",
   "id": "e9d74488",
   "metadata": {},
   "source": [
    "### Syntax\n",
    "\n",
    "## lambda arguments : expression\n",
    "The expression is executed and the result is returned"
   ]
  },
  {
   "cell_type": "markdown",
   "id": "0bae2c2f",
   "metadata": {},
   "source": [
    "#### Example 1:"
   ]
  },
  {
   "cell_type": "code",
   "execution_count": 25,
   "id": "95938bcc-492e-4ab3-9c9b-190a3a5603d4",
   "metadata": {},
   "outputs": [],
   "source": [
    "addition = lambda x : x+2"
   ]
  },
  {
   "cell_type": "code",
   "execution_count": 3,
   "id": "4eea92d0-3d19-400e-a7cb-befac106d07b",
   "metadata": {},
   "outputs": [],
   "source": [
    "a=lambda  x: x-1"
   ]
  },
  {
   "cell_type": "code",
   "execution_count": 5,
   "id": "abf73037-265a-4156-b048-da7a2ea52478",
   "metadata": {},
   "outputs": [
    {
     "data": {
      "text/plain": [
       "6"
      ]
     },
     "execution_count": 5,
     "metadata": {},
     "output_type": "execute_result"
    }
   ],
   "source": [
    "a(7)"
   ]
  },
  {
   "cell_type": "code",
   "execution_count": 27,
   "id": "ae839828-595f-4366-8032-05b1f6300f25",
   "metadata": {},
   "outputs": [
    {
     "data": {
      "text/plain": [
       "10"
      ]
     },
     "execution_count": 27,
     "metadata": {},
     "output_type": "execute_result"
    }
   ],
   "source": [
    "addition(8)"
   ]
  },
  {
   "cell_type": "code",
   "execution_count": 29,
   "id": "f6274d9d",
   "metadata": {},
   "outputs": [
    {
     "data": {
      "text/plain": [
       "25"
      ]
     },
     "execution_count": 29,
     "metadata": {},
     "output_type": "execute_result"
    }
   ],
   "source": [
    "output = lambda x : x**2\n",
    "\n",
    "output(5)"
   ]
  },
  {
   "cell_type": "code",
   "execution_count": 11,
   "id": "33638a5c",
   "metadata": {},
   "outputs": [
    {
     "name": "stdout",
     "output_type": "stream",
     "text": [
      "50\n"
     ]
    }
   ],
   "source": [
    "# Add 10 to argument a, and return the result:\n",
    "\n",
    "x = lambda a : a * 10\n",
    "print(x(5))"
   ]
  },
  {
   "cell_type": "code",
   "execution_count": 6,
   "id": "72222d99",
   "metadata": {},
   "outputs": [
    {
     "name": "stdout",
     "output_type": "stream",
     "text": [
      "46\n"
     ]
    }
   ],
   "source": [
    "s = 23\n",
    "check = lambda a : a*2\n",
    "print(check(s))"
   ]
  },
  {
   "cell_type": "markdown",
   "id": "ede1cfe4",
   "metadata": {},
   "source": [
    "##### Example 2:\n",
    "Lambda functions can take any number of arguments:"
   ]
  },
  {
   "cell_type": "code",
   "execution_count": 7,
   "id": "0682c907-decd-4d69-b0af-d4360bf82d6e",
   "metadata": {},
   "outputs": [
    {
     "data": {
      "text/plain": [
       "11"
      ]
     },
     "execution_count": 7,
     "metadata": {},
     "output_type": "execute_result"
    }
   ],
   "source": [
    "2*3+2+3"
   ]
  },
  {
   "cell_type": "code",
   "execution_count": 15,
   "id": "369aaf78",
   "metadata": {},
   "outputs": [
    {
     "name": "stdout",
     "output_type": "stream",
     "text": [
      "11\n",
      "109\n"
     ]
    }
   ],
   "source": [
    "mul = lambda a,b : a*b+a+b\n",
    "print(mul(2,3))\n",
    "print(mul(9,10))"
   ]
  },
  {
   "cell_type": "code",
   "execution_count": null,
   "id": "d5ff4f70-2c2a-4eff-9268-ac1d8694284d",
   "metadata": {},
   "outputs": [],
   "source": [
    "mul(5,10)"
   ]
  },
  {
   "cell_type": "code",
   "execution_count": 39,
   "id": "0d3c08ec",
   "metadata": {},
   "outputs": [
    {
     "data": {
      "text/plain": [
       "21"
      ]
     },
     "execution_count": 39,
     "metadata": {},
     "output_type": "execute_result"
    }
   ],
   "source": [
    "power = lambda base,exp,addval : base**exp+addval\n",
    "power(2,4,5)"
   ]
  },
  {
   "cell_type": "code",
   "execution_count": 17,
   "id": "54281734",
   "metadata": {},
   "outputs": [
    {
     "data": {
      "text/plain": [
       "'JEEVAN'"
      ]
     },
     "execution_count": 17,
     "metadata": {},
     "output_type": "execute_result"
    }
   ],
   "source": [
    "name = 'jeevan'\n",
    "output = lambda a : a.upper()\n",
    "output(name)"
   ]
  },
  {
   "cell_type": "code",
   "execution_count": 13,
   "id": "134c9c20",
   "metadata": {},
   "outputs": [
    {
     "name": "stdout",
     "output_type": "stream",
     "text": [
      "30\n"
     ]
    }
   ],
   "source": [
    "# Multiply argument a with argument b and return the result:\n",
    "\n",
    "x = lambda a, b : a * b\n",
    "print(x(5, 6))"
   ]
  },
  {
   "cell_type": "code",
   "execution_count": 5,
   "id": "074378bd",
   "metadata": {},
   "outputs": [
    {
     "name": "stdout",
     "output_type": "stream",
     "text": [
      "13\n"
     ]
    }
   ],
   "source": [
    "# Summarize argument a, b, and c and return the result:\n",
    "\n",
    "x = lambda a, b, c : a + b + c\n",
    "print(x(5, 6, 2))"
   ]
  },
  {
   "cell_type": "markdown",
   "id": "958254a6",
   "metadata": {},
   "source": [
    "### Why Use Lambda Functions?\n",
    "The power of lambda is better shown when you use them as an anonymous function inside another function.\n",
    "\n",
    "Say you have a function definition that takes one argument, and that argument will be multiplied with an unknown number:"
   ]
  },
  {
   "cell_type": "code",
   "execution_count": 14,
   "id": "8e5dcbbb-4602-41b5-b892-e94bfb4da5b9",
   "metadata": {},
   "outputs": [
    {
     "data": {
      "text/plain": [
       "14"
      ]
     },
     "execution_count": 14,
     "metadata": {},
     "output_type": "execute_result"
    }
   ],
   "source": [
    "(5*2)+5-1"
   ]
  },
  {
   "cell_type": "code",
   "execution_count": 15,
   "id": "79ef513e",
   "metadata": {},
   "outputs": [
    {
     "data": {
      "text/plain": [
       "14"
      ]
     },
     "execution_count": 15,
     "metadata": {},
     "output_type": "execute_result"
    }
   ],
   "source": [
    "def double(a):\n",
    "    return lambda n,b: (a*n)+a-b      # a = 5, n = 2, b = 1\n",
    "\n",
    "dum = double(5)\n",
    "dum(2,1)"
   ]
  },
  {
   "cell_type": "code",
   "execution_count": 16,
   "id": "7e2a4d8b",
   "metadata": {},
   "outputs": [
    {
     "data": {
      "text/plain": [
       "22"
      ]
     },
     "execution_count": 16,
     "metadata": {},
     "output_type": "execute_result"
    }
   ],
   "source": [
    "def myfunc(n):\n",
    "    return lambda a:a*n\n",
    "mydoubler = myfunc(2)\n",
    "mydoubler(11)"
   ]
  },
  {
   "cell_type": "code",
   "execution_count": 17,
   "id": "19864978",
   "metadata": {},
   "outputs": [
    {
     "name": "stdout",
     "output_type": "stream",
     "text": [
      "33\n"
     ]
    }
   ],
   "source": [
    "def myfunc(n):\n",
    "    return lambda a : a*n\n",
    "tripler = myfunc(3)\n",
    "print(tripler(11))"
   ]
  },
  {
   "cell_type": "code",
   "execution_count": 18,
   "id": "97b17dd6",
   "metadata": {},
   "outputs": [
    {
     "name": "stdout",
     "output_type": "stream",
     "text": [
      "22\n",
      "33\n"
     ]
    }
   ],
   "source": [
    "def myfunc(n):\n",
    "    return lambda a : a * n\n",
    "\n",
    "mydoubler = myfunc(2)\n",
    "mytripler = myfunc(3)\n",
    "\n",
    "print(mydoubler(11))\n",
    "print(mytripler(11))"
   ]
  },
  {
   "cell_type": "markdown",
   "id": "78b284bb",
   "metadata": {},
   "source": [
    "### Lets Do More Hands-on"
   ]
  },
  {
   "cell_type": "code",
   "execution_count": 19,
   "id": "55ad849d",
   "metadata": {},
   "outputs": [
    {
     "data": {
      "text/plain": [
       "7"
      ]
     },
     "execution_count": 19,
     "metadata": {},
     "output_type": "execute_result"
    }
   ],
   "source": [
    "# Now will add 2 numbers using lambda function \n",
    "add = lambda x,y: x+y\n",
    "add(3,4)"
   ]
  },
  {
   "cell_type": "code",
   "execution_count": 2,
   "id": "af5a827e",
   "metadata": {},
   "outputs": [
    {
     "data": {
      "text/plain": [
       "6"
      ]
     },
     "execution_count": 2,
     "metadata": {},
     "output_type": "execute_result"
    }
   ],
   "source": [
    "# Now will double a number\n",
    "double = lambda x:x+x\n",
    "double(3)"
   ]
  },
  {
   "cell_type": "code",
   "execution_count": 3,
   "id": "e7da53f0",
   "metadata": {},
   "outputs": [
    {
     "data": {
      "text/plain": [
       "9"
      ]
     },
     "execution_count": 3,
     "metadata": {},
     "output_type": "execute_result"
    }
   ],
   "source": [
    "# Now will write a power of a number\n",
    "power = lambda x,y: x**y\n",
    "power(3,2)"
   ]
  },
  {
   "cell_type": "code",
   "execution_count": 45,
   "id": "a34ca553",
   "metadata": {},
   "outputs": [
    {
     "name": "stdout",
     "output_type": "stream",
     "text": [
      "Even\n"
     ]
    }
   ],
   "source": [
    "# Lambda function using conditional expression\n",
    "conditional_lambda = lambda x: \"Even\" if x % 2 == 0 else \"Odd\"\n",
    "\n",
    "# Test the lambda function\n",
    "result = conditional_lambda(4)\n",
    "print(result)  \n"
   ]
  },
  {
   "cell_type": "code",
   "execution_count": 47,
   "id": "6ddb2097-c831-4058-a594-739d5537d076",
   "metadata": {},
   "outputs": [],
   "source": [
    "output =  lambda a: (a,'Odd')  if a%2!=0 else (a,'even')"
   ]
  },
  {
   "cell_type": "code",
   "execution_count": 160,
   "id": "677aaa1e-6cac-45b2-8da7-582fb8aceaa1",
   "metadata": {},
   "outputs": [
    {
     "data": {
      "text/plain": [
       "'Odd'"
      ]
     },
     "execution_count": 160,
     "metadata": {},
     "output_type": "execute_result"
    }
   ],
   "source": [
    "conditional_lambda(3)"
   ]
  },
  {
   "cell_type": "code",
   "execution_count": 25,
   "id": "4c99cfb3-7c0c-48de-b4cb-b6fb35cc9aff",
   "metadata": {},
   "outputs": [
    {
     "data": {
      "text/plain": [
       "(80, 'is greater than 40')"
      ]
     },
     "execution_count": 25,
     "metadata": {},
     "output_type": "execute_result"
    }
   ],
   "source": [
    "info = lambda a:(a,\"is greater than 40\") if a>40 else (a,\"is less than 40\")\n",
    "info(80)"
   ]
  },
  {
   "cell_type": "code",
   "execution_count": 27,
   "id": "0b158d78-b6fa-490a-8871-26fc3b1ef6e6",
   "metadata": {},
   "outputs": [],
   "source": [
    "INFO = lambda a:(a,\"is even\")if a%2==0 else (a,\"is odd\")"
   ]
  },
  {
   "cell_type": "code",
   "execution_count": 33,
   "id": "a3514dde-9adb-4c95-b419-ca29d83d3fe4",
   "metadata": {},
   "outputs": [
    {
     "data": {
      "text/plain": [
       "(10, 'is even')"
      ]
     },
     "execution_count": 33,
     "metadata": {},
     "output_type": "execute_result"
    }
   ],
   "source": [
    "INFO(10)"
   ]
  },
  {
   "cell_type": "code",
   "execution_count": 170,
   "id": "47b020f0-55da-441d-a57b-9ea4fb22ac1d",
   "metadata": {},
   "outputs": [],
   "source": [
    "taxable_income = lambda x : 10000*0.10+(x-20000)*.20  if x > 20000 else ( (x-10000) *.10   if x > 10000 else 'TaxFree')"
   ]
  },
  {
   "cell_type": "code",
   "execution_count": 35,
   "id": "f46b0bee-1ba6-4eb5-90b4-0902184d1244",
   "metadata": {},
   "outputs": [],
   "source": [
    "tax= lambda a:'Tax Free' if a<10000 else (a-10000)*.1 if a>10000 and a<=20000 else ((10000*.1)+(a-20000)*.2)"
   ]
  },
  {
   "cell_type": "code",
   "execution_count": 39,
   "id": "b14092de-49d3-47f1-ad44-8a77f50cf2df",
   "metadata": {},
   "outputs": [
    {
     "data": {
      "text/plain": [
       "6000.0"
      ]
     },
     "execution_count": 39,
     "metadata": {},
     "output_type": "execute_result"
    }
   ],
   "source": [
    "tax(45000)"
   ]
  },
  {
   "cell_type": "code",
   "execution_count": 180,
   "id": "7c6b8921-a992-4b57-9ceb-eb5fc20501bd",
   "metadata": {},
   "outputs": [
    {
     "data": {
      "text/plain": [
       "6000.0"
      ]
     },
     "execution_count": 180,
     "metadata": {},
     "output_type": "execute_result"
    }
   ],
   "source": [
    "taxable_income(45000)"
   ]
  },
  {
   "cell_type": "code",
   "execution_count": 31,
   "id": "d36b971a-8f35-4622-b4e8-261845796625",
   "metadata": {},
   "outputs": [],
   "source": [
    "tax = lambda income : (10000*0) + (10000)*.10 + (income - 20000)*.20   if income >20000 else ( (income - 10000) * .10 if income >10000 else 'Tax Free' )"
   ]
  },
  {
   "cell_type": "code",
   "execution_count": 33,
   "id": "80772371-1d9b-433b-b746-d11c4eecfa5d",
   "metadata": {},
   "outputs": [
    {
     "data": {
      "text/plain": [
       "'Tax Free'"
      ]
     },
     "execution_count": 33,
     "metadata": {},
     "output_type": "execute_result"
    }
   ],
   "source": [
    "tax(45)"
   ]
  },
  {
   "cell_type": "code",
   "execution_count": 26,
   "id": "807825f6",
   "metadata": {},
   "outputs": [
    {
     "name": "stdout",
     "output_type": "stream",
     "text": [
      "Positive\n"
     ]
    }
   ],
   "source": [
    "# Lambda function with if-elif-else logic using nested ternary conditionals\n",
    "conditional_lambda = lambda x: \"Positive\" if x > 0 else (\"Zero\" if x == 0 else ('close to zero'  if x>-5  else 'Negative'))\n",
    "\n",
    "# Test the lambda function\n",
    "result = conditional_lambda(5)\n",
    "print(result)  # Output: Positive\n"
   ]
  },
  {
   "cell_type": "code",
   "execution_count": null,
   "id": "1f9f2e88-be56-4eef-802d-caca8972aac6",
   "metadata": {},
   "outputs": [],
   "source": []
  },
  {
   "cell_type": "code",
   "execution_count": 21,
   "id": "90f29f29-1844-4633-ba7a-f7ec8689d5ae",
   "metadata": {},
   "outputs": [
    {
     "name": "stdin",
     "output_type": "stream",
     "text": [
      "Enter your earnings:  45000\n"
     ]
    },
    {
     "name": "stdout",
     "output_type": "stream",
     "text": [
      "Interest = 6000.0\n"
     ]
    }
   ],
   "source": [
    "def interest(taxable_income):\n",
    "    if taxable_income <= 10000:\n",
    "        return 0\n",
    "    elif taxable_income <= 20000:\n",
    "        return (taxable_income - 10000) * 0.1\n",
    "    else:\n",
    "        return (taxable_income - 20000) * 0.2 + 10000 * 0.1\n",
    "\n",
    "taxable_income = int(input('Enter your earnings: '))\n",
    "output = interest(taxable_income)\n",
    "\n",
    "print('Interest =', output)"
   ]
  },
  {
   "attachments": {
    "image.png": {
     "image/png": "[encoded data removed]"
    }
   },
   "cell_type": "markdown",
   "id": "6d105611",
   "metadata": {},
   "source": [
    "![image.png](attachment:image.png)"
   ]
  },
  {
   "cell_type": "code",
   "execution_count": 186,
   "id": "61d82959-572a-4904-b2f8-f59198814db5",
   "metadata": {},
   "outputs": [],
   "source": [
    "taxable = lambda x: ((10000 * 0)+(10000 * .10)+(x-20000)*0.2) if x>20000 else ((x-10000)*.1 if x>10000 else \"Tax Free\")"
   ]
  },
  {
   "cell_type": "code",
   "execution_count": 188,
   "id": "6b6afada-c8d5-4929-98a8-c5a3a7cee12a",
   "metadata": {},
   "outputs": [
    {
     "data": {
      "text/plain": [
       "6000.0"
      ]
     },
     "execution_count": 188,
     "metadata": {},
     "output_type": "execute_result"
    }
   ],
   "source": [
    "taxable(45000)"
   ]
  },
  {
   "cell_type": "code",
   "execution_count": 26,
   "id": "eb93335a",
   "metadata": {},
   "outputs": [
    {
     "name": "stdout",
     "output_type": "stream",
     "text": [
      "7 is a prime no\n"
     ]
    }
   ],
   "source": [
    "def checkprime_no(b):\n",
    "    for i in range(2,b):\n",
    "        if b%i == 0:\n",
    "            print(b,\"is not a prime no\")\n",
    "            breaks\n",
    "    else:\n",
    "        print(b,\"is a prime no\")\n",
    "        \n",
    "checkprime_no(7)\n",
    "        "
   ]
  },
  {
   "cell_type": "code",
   "execution_count": 27,
   "id": "85b2076b",
   "metadata": {},
   "outputs": [
    {
     "name": "stdout",
     "output_type": "stream",
     "text": [
      "4 is not a prime no\n"
     ]
    }
   ],
   "source": [
    "checkprime_no(4)\n",
    "        "
   ]
  },
  {
   "cell_type": "code",
   "execution_count": 11,
   "id": "4097971a",
   "metadata": {},
   "outputs": [
    {
     "name": "stdout",
     "output_type": "stream",
     "text": [
      "Enter your income5000\n"
     ]
    },
    {
     "data": {
      "text/plain": [
       "'Tax Free'"
      ]
     },
     "execution_count": 11,
     "metadata": {},
     "output_type": "execute_result"
    }
   ],
   "source": [
    "# Try to solve above problem using lambda function\n",
    "\n",
    "income = int(input('Enter your income'))\n",
    "\n",
    "output = lambda x:  'Tax Free'  if x <= 10000 else((x-10000)*.1  if x <= 20000 else (x-20000)*.2+10000*.1)\n",
    "output(income)"
   ]
  },
  {
   "cell_type": "markdown",
   "id": "936605a4",
   "metadata": {},
   "source": [
    "### Now will Perform Map in Lambda Function\n",
    "\n",
    "Map in Python is a function that works as an iterator to return a result after applying a function to every item of an iterable"
   ]
  },
  {
   "cell_type": "markdown",
   "id": "0063a473",
   "metadata": {},
   "source": [
    "### Syntax\n",
    "\n",
    "### map(func,*iterables)"
   ]
  },
  {
   "cell_type": "code",
   "execution_count": 4,
   "id": "03e3ce76",
   "metadata": {},
   "outputs": [
    {
     "data": {
      "text/plain": [
       "[4, 16, 36, 64, 100]"
      ]
     },
     "execution_count": 4,
     "metadata": {},
     "output_type": "execute_result"
    }
   ],
   "source": [
    "# Now will square the number using lambda function \n",
    "num = [2,4,6,8,10]\n",
    "square_output = list(map(lambda x:x**2,num))\n",
    "square_output"
   ]
  },
  {
   "cell_type": "code",
   "execution_count": 57,
   "id": "ac097ca7-e13c-4320-8d4d-65422d4b652b",
   "metadata": {},
   "outputs": [],
   "source": [
    "num = [2,4,6,8,10]\n",
    "a= list(map(lambda x: x+2,num))"
   ]
  },
  {
   "cell_type": "code",
   "execution_count": 59,
   "id": "2db1d0a8-8cbd-4643-8946-02f8d4ee607e",
   "metadata": {},
   "outputs": [
    {
     "data": {
      "text/plain": [
       "[4, 6, 8, 10, 12]"
      ]
     },
     "execution_count": 59,
     "metadata": {},
     "output_type": "execute_result"
    }
   ],
   "source": [
    "a"
   ]
  },
  {
   "cell_type": "code",
   "execution_count": 41,
   "id": "fd555524-aeb7-4beb-8063-5d48814c5894",
   "metadata": {},
   "outputs": [
    {
     "data": {
      "text/plain": [
       "[8, 64, 216, 512, 1000]"
      ]
     },
     "execution_count": 41,
     "metadata": {},
     "output_type": "execute_result"
    }
   ],
   "source": [
    "num = [2,4,6,8,10]\n",
    "list(map(lambda x: x**3,num))"
   ]
  },
  {
   "cell_type": "code",
   "execution_count": 202,
   "id": "4272e415-2240-426c-ac18-14a7fc72a804",
   "metadata": {},
   "outputs": [
    {
     "data": {
      "text/plain": [
       "[6, 14, 57, 18, 12, 3]"
      ]
     },
     "execution_count": 202,
     "metadata": {},
     "output_type": "execute_result"
    }
   ],
   "source": [
    "info = [1,9,56,13,7,2]\n",
    "# if the number is even number add 1 if it is odd add 5\n",
    "list(map(lambda x:x+1 if x%2==0 else x+5,info))"
   ]
  },
  {
   "cell_type": "code",
   "execution_count": 204,
   "id": "9432bf73",
   "metadata": {},
   "outputs": [
    {
     "data": {
      "text/plain": [
       "[(2, 'Even'),\n",
       " (29, 'Odd'),\n",
       " (14, 'Even'),\n",
       " (26, 'Even'),\n",
       " (98, 'Even'),\n",
       " (31, 'Odd'),\n",
       " (89, 'Odd')]"
      ]
     },
     "execution_count": 204,
     "metadata": {},
     "output_type": "execute_result"
    }
   ],
   "source": [
    "# Now will find even or odd using lambda function (using conditional statement in lambda fuction)\n",
    "num = [2,29,14,26,98,31,89]\n",
    "list(map(lambda x:(x,'Even') if x%2==0 else (x,'Odd'), num))"
   ]
  },
  {
   "cell_type": "code",
   "execution_count": 69,
   "id": "d8ae4a9d-044f-48ec-be52-f92a7aae59b3",
   "metadata": {},
   "outputs": [
    {
     "name": "stdout",
     "output_type": "stream",
     "text": [
      "[(2, 'even'), (29, 'odd'), (14, 'even'), (26, 'even'), (98, 'even'), (31, 'odd'), (89, 'odd')]\n"
     ]
    }
   ],
   "source": [
    "num = [2,29,14,26,98,31,89]\n",
    "print(list(map(lambda x:(x,'even')if  x%2==0 else (x,'odd'),num)))"
   ]
  },
  {
   "cell_type": "code",
   "execution_count": 10,
   "id": "984e03f1",
   "metadata": {},
   "outputs": [
    {
     "data": {
      "text/plain": [
       "['JEEVAN', 'RAHUL', 'SAM', 'SHRAVANI']"
      ]
     },
     "execution_count": 10,
     "metadata": {},
     "output_type": "execute_result"
    }
   ],
   "source": [
    "# Now will make a list of words in capital letter\n",
    "Names = ['Jeevan','Rahul','Sam','Shravani']\n",
    "cap_output=list(map(lambda x: x.upper(),Names))\n",
    "cap_output"
   ]
  },
  {
   "cell_type": "code",
   "execution_count": 228,
   "id": "1a9e852f-5ab7-43c1-9a48-61d1101981a1",
   "metadata": {},
   "outputs": [
    {
     "data": {
      "text/plain": [
       "[('amrutha', 45), ('mita', 50)]"
      ]
     },
     "execution_count": 228,
     "metadata": {},
     "output_type": "execute_result"
    }
   ],
   "source": [
    "#Extract the student name with marks<=50\n",
    "student_details = [('raju',90),('varun',89),('akash',70),('lokesh',92),('amrutha',45),('chandana',80),('mita',50)]\n",
    "[i for i in student_details if i[1]<=50]\n",
    "\n"
   ]
  },
  {
   "cell_type": "code",
   "execution_count": null,
   "id": "f7fbfd16-bde6-4e26-b437-2873559cd189",
   "metadata": {},
   "outputs": [],
   "source": []
  },
  {
   "cell_type": "code",
   "execution_count": null,
   "id": "82481807-bbf3-4fc7-9136-c456cd328df1",
   "metadata": {},
   "outputs": [],
   "source": []
  },
  {
   "cell_type": "markdown",
   "id": "92a80cfd",
   "metadata": {},
   "source": [
    "### Sorting with lambda function\n",
    "Sorting can be done in 2 types\n",
    "1. sort will directly affect the original list\n",
    "2. sorted sort the list but it does not affect the original list you can save to the different variable"
   ]
  },
  {
   "cell_type": "code",
   "execution_count": 71,
   "id": "1cfa3762",
   "metadata": {},
   "outputs": [],
   "source": [
    "student_details = [('raju',90),('varun',89),('akash',70),('lokesh',92),('amrutha',45),('chandana',80),('mita',50)]"
   ]
  },
  {
   "cell_type": "code",
   "execution_count": 73,
   "id": "a15f6c51-8e91-4b01-a201-4bc290ff8ca5",
   "metadata": {},
   "outputs": [
    {
     "data": {
      "text/plain": [
       "['raju', 'varun', 'akash', 'lokesh', 'chandana']"
      ]
     },
     "execution_count": 73,
     "metadata": {},
     "output_type": "execute_result"
    }
   ],
   "source": [
    "[i[0]  for i in student_details  if i[1]>=60]"
   ]
  },
  {
   "cell_type": "code",
   "execution_count": null,
   "id": "88430ca3-4bbc-43a6-aa9a-62eed0e3ff4a",
   "metadata": {},
   "outputs": [],
   "source": []
  },
  {
   "cell_type": "code",
   "execution_count": 75,
   "id": "369d4130-71ff-44f9-880b-c043618551ff",
   "metadata": {},
   "outputs": [],
   "source": [
    "student_details.sort()"
   ]
  },
  {
   "cell_type": "code",
   "execution_count": 77,
   "id": "8d51b703-5133-4134-9bed-b9214f4b9457",
   "metadata": {},
   "outputs": [
    {
     "data": {
      "text/plain": [
       "[('akash', 70),\n",
       " ('amrutha', 45),\n",
       " ('chandana', 80),\n",
       " ('lokesh', 92),\n",
       " ('mita', 50),\n",
       " ('raju', 90),\n",
       " ('varun', 89)]"
      ]
     },
     "execution_count": 77,
     "metadata": {},
     "output_type": "execute_result"
    }
   ],
   "source": [
    "student_details"
   ]
  },
  {
   "cell_type": "code",
   "execution_count": 79,
   "id": "b77794f1-ac27-4380-8c6f-294155aa7d2c",
   "metadata": {},
   "outputs": [
    {
     "data": {
      "text/plain": [
       "[('lokesh', 92),\n",
       " ('raju', 90),\n",
       " ('varun', 89),\n",
       " ('chandana', 80),\n",
       " ('akash', 70),\n",
       " ('mita', 50),\n",
       " ('amrutha', 45)]"
      ]
     },
     "execution_count": 79,
     "metadata": {},
     "output_type": "execute_result"
    }
   ],
   "source": [
    "sorted(student_details, key= lambda x:x[1], reverse=True)"
   ]
  },
  {
   "cell_type": "code",
   "execution_count": 4,
   "id": "daf05faf",
   "metadata": {},
   "outputs": [
    {
     "data": {
      "text/plain": [
       "[('lokesh', 92),\n",
       " ('raju', 90),\n",
       " ('varun', 89),\n",
       " ('chandana', 80),\n",
       " ('akash', 70),\n",
       " ('mita', 50),\n",
       " ('amrutha', 45)]"
      ]
     },
     "execution_count": 4,
     "metadata": {},
     "output_type": "execute_result"
    }
   ],
   "source": [
    "sorted(student_details,key=lambda x:x[1],reverse = True)"
   ]
  },
  {
   "cell_type": "code",
   "execution_count": 5,
   "id": "5e2eea76",
   "metadata": {},
   "outputs": [
    {
     "data": {
      "text/plain": [
       "[('raju', 90),\n",
       " ('varun', 89),\n",
       " ('akash', 70),\n",
       " ('lokesh', 92),\n",
       " ('amrutha', 45),\n",
       " ('chandana', 80),\n",
       " ('mita', 50)]"
      ]
     },
     "execution_count": 5,
     "metadata": {},
     "output_type": "execute_result"
    }
   ],
   "source": [
    "student_details"
   ]
  },
  {
   "cell_type": "code",
   "execution_count": 51,
   "id": "ccfd04e8",
   "metadata": {},
   "outputs": [
    {
     "data": {
      "text/plain": [
       "[('varun', 89),\n",
       " ('raju', 90),\n",
       " ('mita', 50),\n",
       " ('lokesh', 92),\n",
       " ('chandana', 80),\n",
       " ('amrutha', 45),\n",
       " ('akash', 70)]"
      ]
     },
     "execution_count": 51,
     "metadata": {},
     "output_type": "execute_result"
    }
   ],
   "source": [
    "sorted(student_details,key= lambda x:x[0] ,reverse=True)"
   ]
  },
  {
   "cell_type": "code",
   "execution_count": 25,
   "id": "f59d33a9",
   "metadata": {},
   "outputs": [
    {
     "data": {
      "text/plain": [
       "[('akash', 70),\n",
       " ('amrutha', 45),\n",
       " ('chandana', 80),\n",
       " ('lokesh', 92),\n",
       " ('mita', 50),\n",
       " ('raju', 90),\n",
       " ('varun', 89)]"
      ]
     },
     "execution_count": 25,
     "metadata": {},
     "output_type": "execute_result"
    }
   ],
   "source": [
    "# Now will perform sorted to sort the values\n",
    "sorted(student_details)"
   ]
  },
  {
   "cell_type": "code",
   "execution_count": 26,
   "id": "46648de2",
   "metadata": {
    "scrolled": true
   },
   "outputs": [
    {
     "data": {
      "text/plain": [
       "[('raju', 90),\n",
       " ('varun', 89),\n",
       " ('akash', 70),\n",
       " ('lokesh', 92),\n",
       " ('amrutha', 45),\n",
       " ('chandana', 80),\n",
       " ('mita', 50)]"
      ]
     },
     "execution_count": 26,
     "metadata": {},
     "output_type": "execute_result"
    }
   ],
   "source": [
    "# Note you can see it is not affecting the original list\n",
    "student_details"
   ]
  },
  {
   "cell_type": "code",
   "execution_count": 27,
   "id": "246b4c62",
   "metadata": {},
   "outputs": [],
   "source": [
    "# Now will perform using sort function\n",
    "student_details.sort()"
   ]
  },
  {
   "cell_type": "code",
   "execution_count": 28,
   "id": "55f92695",
   "metadata": {},
   "outputs": [
    {
     "data": {
      "text/plain": [
       "[('akash', 70),\n",
       " ('amrutha', 45),\n",
       " ('chandana', 80),\n",
       " ('lokesh', 92),\n",
       " ('mita', 50),\n",
       " ('raju', 90),\n",
       " ('varun', 89)]"
      ]
     },
     "execution_count": 28,
     "metadata": {},
     "output_type": "execute_result"
    }
   ],
   "source": [
    "# Now you can see the original list got affected \n",
    "student_details"
   ]
  },
  {
   "cell_type": "code",
   "execution_count": 29,
   "id": "668d7b77",
   "metadata": {},
   "outputs": [
    {
     "data": {
      "text/plain": [
       "[('amrutha', 45),\n",
       " ('mita', 50),\n",
       " ('akash', 70),\n",
       " ('chandana', 80),\n",
       " ('varun', 89),\n",
       " ('raju', 90),\n",
       " ('lokesh', 92)]"
      ]
     },
     "execution_count": 29,
     "metadata": {},
     "output_type": "execute_result"
    }
   ],
   "source": [
    "# Now i want to sort based on student marks not by names so will use lambda function to perform the operation\n",
    "sorted(student_details,key=lambda x:x[1])\n"
   ]
  },
  {
   "cell_type": "code",
   "execution_count": 58,
   "id": "28006d88",
   "metadata": {},
   "outputs": [
    {
     "data": {
      "text/plain": [
       "[('lokesh', 92),\n",
       " ('raju', 90),\n",
       " ('varun', 89),\n",
       " ('chandana', 80),\n",
       " ('akash', 70),\n",
       " ('mita', 50),\n",
       " ('amrutha', 45)]"
      ]
     },
     "execution_count": 58,
     "metadata": {},
     "output_type": "execute_result"
    }
   ],
   "source": [
    "# Now if you want to sort the marks based on higest to lowest use reverse = True, By default it is false\n",
    "Top_students_details = sorted(student_details,key=lambda x:x[1],reverse=True)\n",
    "Top_students_details"
   ]
  },
  {
   "cell_type": "markdown",
   "id": "2d36570b",
   "metadata": {},
   "source": [
    "### Now will understand Filter in Lambda Function\n",
    "filter out all the elements of a sequence"
   ]
  },
  {
   "cell_type": "markdown",
   "id": "b6348f54",
   "metadata": {},
   "source": [
    "### Syntax\n",
    "\n",
    "### filter(function,iterable)"
   ]
  },
  {
   "cell_type": "markdown",
   "id": "d765f510",
   "metadata": {},
   "source": [
    "### Example 1:"
   ]
  },
  {
   "cell_type": "code",
   "execution_count": 64,
   "id": "230ff773",
   "metadata": {
    "scrolled": true
   },
   "outputs": [
    {
     "data": {
      "text/plain": [
       "[2,\n",
       " 4,\n",
       " 6,\n",
       " 8,\n",
       " 10,\n",
       " 12,\n",
       " 14,\n",
       " 16,\n",
       " 18,\n",
       " 20,\n",
       " 22,\n",
       " 24,\n",
       " 26,\n",
       " 28,\n",
       " 30,\n",
       " 32,\n",
       " 34,\n",
       " 36,\n",
       " 38,\n",
       " 40,\n",
       " 42,\n",
       " 44,\n",
       " 46,\n",
       " 48,\n",
       " 50,\n",
       " 52,\n",
       " 54,\n",
       " 56,\n",
       " 58,\n",
       " 60,\n",
       " 62,\n",
       " 64,\n",
       " 66,\n",
       " 68,\n",
       " 70,\n",
       " 72,\n",
       " 74,\n",
       " 76,\n",
       " 78,\n",
       " 80,\n",
       " 82,\n",
       " 84,\n",
       " 86,\n",
       " 88,\n",
       " 90,\n",
       " 92,\n",
       " 94,\n",
       " 96,\n",
       " 98]"
      ]
     },
     "execution_count": 64,
     "metadata": {},
     "output_type": "execute_result"
    }
   ],
   "source": [
    "#list(range(2,100,2))\n",
    "# [i  for i in range(1,100) if i%2==0]\n",
    "\n",
    "even = []\n",
    "for i in range(1,100):\n",
    "    if i%2==0:\n",
    "        even.append(i)\n",
    "even\n",
    "\n",
    "lis = list(range(2,100))\n",
    "\n",
    "list(filter(lambda x:x%2==0,lis))"
   ]
  },
  {
   "cell_type": "code",
   "execution_count": 54,
   "id": "c6a3328c-d011-4560-a3b6-643ad1c8cd7d",
   "metadata": {},
   "outputs": [
    {
     "data": {
      "text/plain": [
       "[('raju', 90),\n",
       " ('varun', 89),\n",
       " ('akash', 70),\n",
       " ('lokesh', 92),\n",
       " ('amrutha', 45),\n",
       " ('chandana', 80),\n",
       " ('mita', 50)]"
      ]
     },
     "execution_count": 54,
     "metadata": {},
     "output_type": "execute_result"
    }
   ],
   "source": [
    "student_details"
   ]
  },
  {
   "cell_type": "code",
   "execution_count": 55,
   "id": "e809eba3-8aa3-4bb6-ac3f-3efd268d309b",
   "metadata": {},
   "outputs": [
    {
     "data": {
      "text/plain": [
       "[95, 94, 75, 97, 50, 85, 55]"
      ]
     },
     "execution_count": 55,
     "metadata": {},
     "output_type": "execute_result"
    }
   ],
   "source": [
    "# grace 5\n",
    "\n",
    "list(map( lambda x: x[1]+5,student_details))"
   ]
  },
  {
   "cell_type": "code",
   "execution_count": 246,
   "id": "78427da4-6add-439c-b700-d8f9a75a5b9d",
   "metadata": {},
   "outputs": [
    {
     "data": {
      "text/plain": [
       "[('raju', 90), ('Ramesh', 89), ('rahul', 92)]"
      ]
     },
     "execution_count": 246,
     "metadata": {},
     "output_type": "execute_result"
    }
   ],
   "source": [
    "student_details = [('raju',90),('Ramesh',89),('akash',70),('rahul',92),('amrutha',45),('chandana',80),('mita',50)]\n",
    "list(filter(lambda x: x[0][0].lower() == 'r',student_details))"
   ]
  },
  {
   "cell_type": "code",
   "execution_count": 85,
   "id": "f9a9158e-eeac-4858-8236-676e73586d75",
   "metadata": {},
   "outputs": [
    {
     "data": {
      "text/plain": [
       "[('raju', 90), ('Ramesh', 89), ('rahul', 92)]"
      ]
     },
     "execution_count": 85,
     "metadata": {},
     "output_type": "execute_result"
    }
   ],
   "source": [
    "student_details = [('raju',90),('Ramesh',89),('akash',70),('rahul',92),('amrutha',45),('chandana',80),('mita',50)]\n",
    "list(filter(lambda x: x[0][0].lower()=='r',student_details))"
   ]
  },
  {
   "cell_type": "code",
   "execution_count": 97,
   "id": "5d14737f-874d-474f-ba71-afe0aba72a82",
   "metadata": {},
   "outputs": [
    {
     "data": {
      "text/plain": [
       "<zip at 0x19a31559080>"
      ]
     },
     "execution_count": 97,
     "metadata": {},
     "output_type": "execute_result"
    }
   ],
   "source": [
    "zip(list(filter(lambda x: x[0][0] == 'r',student_details)))"
   ]
  },
  {
   "cell_type": "code",
   "execution_count": 31,
   "id": "45a9e445",
   "metadata": {},
   "outputs": [
    {
     "name": "stdout",
     "output_type": "stream",
     "text": [
      "even = [56, 24, 66, 4, 54, 34]\n",
      "odd = [1, 23, 7, 3, 67]\n",
      "square = [1, 529, 3136, 49, 9, 576, 4356, 16, 4489, 2916, 1156]\n"
     ]
    }
   ],
   "source": [
    "# Now will find only even numbers using filters\n",
    "lis=[1,23,56,7,3,24,66,4,67,54,34]\n",
    "square = list(map(lambda x:x**2,lis))\n",
    "even = list(filter(lambda x:x%2==0,lis))\n",
    "odd = list(filter(lambda x:x%2!=0,lis))\n",
    "print('even =',even)\n",
    "print('odd =',odd)\n",
    "print('square =',square)"
   ]
  },
  {
   "cell_type": "markdown",
   "id": "0b1a1c65",
   "metadata": {},
   "source": [
    "### Example 2:"
   ]
  },
  {
   "cell_type": "code",
   "execution_count": 37,
   "id": "e1bfadcb",
   "metadata": {
    "scrolled": true
   },
   "outputs": [
    {
     "data": {
      "text/plain": [
       "[('akash', 70),\n",
       " ('amrutha', 45),\n",
       " ('chandana', 80),\n",
       " ('lokesh', 92),\n",
       " ('mita', 50),\n",
       " ('raju', 90),\n",
       " ('varun', 89)]"
      ]
     },
     "execution_count": 37,
     "metadata": {},
     "output_type": "execute_result"
    }
   ],
   "source": [
    "student_details"
   ]
  },
  {
   "cell_type": "code",
   "execution_count": 56,
   "id": "8bace96d",
   "metadata": {
    "scrolled": true
   },
   "outputs": [
    {
     "data": {
      "text/plain": [
       "[('raju', 90), ('varun', 89), ('akash', 70), ('lokesh', 92), ('chandana', 80)]"
      ]
     },
     "execution_count": 56,
     "metadata": {},
     "output_type": "execute_result"
    }
   ],
   "source": [
    "# Now if we want to print only passed student which is greater than 60 marks \n",
    "passed_student = list(filter(lambda x: x[1]>60,student_details))\n",
    "passed_student"
   ]
  },
  {
   "cell_type": "code",
   "execution_count": 57,
   "id": "c8890ed1-eac3-414b-9fee-6726cfedc440",
   "metadata": {},
   "outputs": [
    {
     "data": {
      "text/plain": [
       "[('raju', 90),\n",
       " ('varun', 89),\n",
       " ('akash', 70),\n",
       " ('lokesh', 92),\n",
       " ('amrutha', 45),\n",
       " ('chandana', 80),\n",
       " ('mita', 50)]"
      ]
     },
     "execution_count": 57,
     "metadata": {},
     "output_type": "execute_result"
    }
   ],
   "source": [
    "student_details"
   ]
  },
  {
   "cell_type": "code",
   "execution_count": 58,
   "id": "0191e41e-df0f-4fa1-b424-4e254998cadb",
   "metadata": {},
   "outputs": [
    {
     "name": "stdout",
     "output_type": "stream",
     "text": [
      "('akash', 70)\n",
      "('amrutha', 45)\n"
     ]
    }
   ],
   "source": [
    "for i in student_details:\n",
    "    if i[0][0] == 'a':\n",
    "        print(i)"
   ]
  },
  {
   "cell_type": "code",
   "execution_count": 12,
   "id": "78faf6a9",
   "metadata": {},
   "outputs": [
    {
     "data": {
      "text/plain": [
       "[('akash', 70), ('amrutha', 45)]"
      ]
     },
     "execution_count": 12,
     "metadata": {},
     "output_type": "execute_result"
    }
   ],
   "source": [
    "list(filter(lambda x: x[0][0]=='a',student_details))"
   ]
  },
  {
   "cell_type": "markdown",
   "id": "59d9f3c2",
   "metadata": {},
   "source": [
    "### Reduce Function\n",
    "Reduce returns a single output value from a sequence data structure because it reduces the elements by applying a given function it is used to perform some aggregate function"
   ]
  },
  {
   "cell_type": "markdown",
   "id": "5dcf54b9",
   "metadata": {},
   "source": [
    "Syntax:-           \n",
    "reduce(function, iterable)"
   ]
  },
  {
   "cell_type": "code",
   "execution_count": 89,
   "id": "92b3be45",
   "metadata": {},
   "outputs": [],
   "source": [
    "from functools import reduce            # Always if you want to use Reduce function you want to import reduce from functools library "
   ]
  },
  {
   "cell_type": "code",
   "execution_count": 91,
   "id": "b5870ed6",
   "metadata": {},
   "outputs": [],
   "source": [
    "nums = [1,2,3,4,5,6,7,8,9,12,19,10]"
   ]
  },
  {
   "cell_type": "code",
   "execution_count": 95,
   "id": "4528fe37-c86f-4d87-b28e-ad2e5e45fbf5",
   "metadata": {},
   "outputs": [
    {
     "data": {
      "text/plain": [
       "86"
      ]
     },
     "execution_count": 95,
     "metadata": {},
     "output_type": "execute_result"
    }
   ],
   "source": [
    "reduce(lambda a,b:a+b,nums)"
   ]
  },
  {
   "cell_type": "code",
   "execution_count": 260,
   "id": "ad7ba6e3",
   "metadata": {},
   "outputs": [
    {
     "data": {
      "text/plain": [
       "86"
      ]
     },
     "execution_count": 260,
     "metadata": {},
     "output_type": "execute_result"
    }
   ],
   "source": [
    "summed_up = reduce(lambda x,y:x+y,nums)\n",
    "summed_up"
   ]
  },
  {
   "cell_type": "code",
   "execution_count": 266,
   "id": "129fafc0",
   "metadata": {},
   "outputs": [
    {
     "data": {
      "text/plain": [
       "19"
      ]
     },
     "execution_count": 266,
     "metadata": {},
     "output_type": "execute_result"
    }
   ],
   "source": [
    "# Now to find the max values from the list \n",
    "max_values = reduce(lambda x,y: x if x>y else y,nums)\n",
    "max_values"
   ]
  },
  {
   "cell_type": "code",
   "execution_count": 9,
   "id": "f0d3a684",
   "metadata": {},
   "outputs": [
    {
     "data": {
      "text/plain": [
       "1"
      ]
     },
     "execution_count": 9,
     "metadata": {},
     "output_type": "execute_result"
    }
   ],
   "source": [
    "# Now to find the min values from the list \n",
    "min_values = reduce(lambda x,y: x if x<y else y,nums)\n",
    "min_values"
   ]
  }
 ],
 "metadata": {
  "kernelspec": {
   "display_name": "Python [conda env:base] *",
   "language": "python",
   "name": "conda-base-py"
  },
  "language_info": {
   "codemirror_mode": {
    "name": "ipython",
    "version": 3
   },
   "file_extension": ".py",
   "mimetype": "text/x-python",
   "name": "python",
   "nbconvert_exporter": "python",
   "pygments_lexer": "ipython3",
   "version": "3.12.7"
  }
 },
 "nbformat": 4,
 "nbformat_minor": 5
}
