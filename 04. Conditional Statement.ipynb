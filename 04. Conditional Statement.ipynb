{
 "cells": [
  {
   "cell_type": "markdown",
   "id": "029a813f",
   "metadata": {},
   "source": [
    "# if, elif, else Statements\n",
    "\n",
    "<code>if</code> Statements in Python allows us to tell the computer to perform alternative actions based on a certain set of results.\n",
    "\n",
    "Verbally, we can imagine we are telling the computer:\n",
    "\n",
    "\"Hey if this case happens, perform some action\"\n",
    "\n",
    "We can then expand the idea further with <code>elif</code> and <code>else</code> statements, which allow us to tell the computer:\n",
    "\n",
    "\"Hey if this case happens, perform some action. Else, if another case happens, perform some other action. Else, if *none* of the above cases happened, perform this action.\"\n",
    "\n",
    "Let's go ahead and look at the syntax format for <code>if</code> statements to get a better idea of this:\n",
    "\n",
    "    if case1:\n",
    "        perform action1\n",
    "    elif case2:\n",
    "        perform action2\n",
    "    else: \n",
    "        perform action3"
   ]
  },
  {
   "cell_type": "raw",
   "id": "bee57845-2021-4e9a-8e40-df6f32c76ffc",
   "metadata": {},
   "source": []
  },
  {
   "cell_type": "code",
   "execution_count": 8,
   "id": "308cba59-bc33-415a-9cf5-6a4930a7bf9f",
   "metadata": {},
   "outputs": [
    {
     "name": "stdout",
     "output_type": "stream",
     "text": [
      "75  = T2\n",
      "84  = T2\n",
      "61  = T3\n",
      "42  = T4\n",
      "39  = T4\n",
      "91  = T1\n"
     ]
    }
   ],
   "source": [
    "score = [75,84,61,42,39,91]\n",
    "for marks in score:\n",
    "    if marks>=90:\n",
    "        print(marks,\" = T1\")\n",
    "    elif marks>=70:\n",
    "        print(marks,\" = T2\")\n",
    "    elif marks>=50:\n",
    "        print(marks,\" = T3\")\n",
    "    else:\n",
    "        print(marks,\" = T4\")"
   ]
  },
  {
   "cell_type": "markdown",
   "id": "69f83ee7",
   "metadata": {},
   "source": [
    "## First Example\n",
    "\n",
    "Let's see a quick example of this:"
   ]
  },
  {
   "cell_type": "raw",
   "id": "501261ca",
   "metadata": {},
   "source": [
    "syntax\n",
    "\n",
    "if condition:           \n",
    "    statement"
   ]
  },
  {
   "cell_type": "code",
   "execution_count": 10,
   "id": "b473d994",
   "metadata": {},
   "outputs": [
    {
     "name": "stdout",
     "output_type": "stream",
     "text": [
      "It was true!\n"
     ]
    }
   ],
   "source": [
    "if True:\n",
    "    print('It was true!')"
   ]
  },
  {
   "cell_type": "markdown",
   "id": "260a3a62",
   "metadata": {},
   "source": [
    "Let's add in some else logic:"
   ]
  },
  {
   "cell_type": "code",
   "execution_count": 2,
   "id": "0f8e38ae",
   "metadata": {},
   "outputs": [
    {
     "name": "stdout",
     "output_type": "stream",
     "text": [
      "I will be printed in any case where x is not true\n"
     ]
    }
   ],
   "source": [
    "x = False\n",
    "\n",
    "if x:\n",
    "    print('x was True!')\n",
    "else:\n",
    "    print('I will be printed in any case where x is not true')"
   ]
  },
  {
   "cell_type": "markdown",
   "id": "ac95f6ab",
   "metadata": {},
   "source": [
    "### Multiple Branches\n",
    "\n",
    "Let's get a fuller picture of how far <code>if</code>, <code>elif</code>, and <code>else</code> can take us!\n",
    "\n",
    "We write this out in a nested structure. Take note of how the <code>if</code>, <code>elif</code>, and <code>else</code> line up in the code. This can help you see what <code>if</code> is related to what <code>elif</code> or <code>else</code> statements.\n",
    "\n",
    "We'll reintroduce a comparison syntax for Python."
   ]
  },
  {
   "cell_type": "code",
   "execution_count": 3,
   "id": "a821dc8d",
   "metadata": {},
   "outputs": [
    {
     "name": "stdin",
     "output_type": "stream",
     "text": [
      "Enter Your Name Jeevan\n",
      "Which batch you are from ? PGDA 38\n"
     ]
    },
    {
     "name": "stdout",
     "output_type": "stream",
     "text": [
      "Hi Jeevan Welcome to Imarticus PGDA 38\n"
     ]
    }
   ],
   "source": [
    "Name = input('Enter Your Name')\n",
    "info = input('Which batch you are from ?')\n",
    "\n",
    "if info == 'PGDA 34':\n",
    "    print(f'Hi {Name} Welcome to Imarticus PGDA 34')\n",
    "else:\n",
    "    print(f'Hi {Name} Welcome to Imarticus {info}')"
   ]
  },
  {
   "cell_type": "code",
   "execution_count": 4,
   "id": "5e233dac",
   "metadata": {},
   "outputs": [
    {
     "name": "stdin",
     "output_type": "stream",
     "text": [
      "enter the location pub\n"
     ]
    },
    {
     "name": "stdout",
     "output_type": "stream",
     "text": [
      "come,lets dance\n"
     ]
    }
   ],
   "source": [
    "loc=input('enter the location')\n",
    "\n",
    "if loc=='autoshop':\n",
    "    print('welcome to shop')\n",
    "elif loc.lower()=='pub':\n",
    "    print('come,lets dance')\n",
    "elif loc=='bank':\n",
    "    print('welcome to bank')\n",
    "else:\n",
    "    print('where the hell are you')"
   ]
  },
  {
   "cell_type": "code",
   "execution_count": 8,
   "id": "7958f3c1-9d03-4ad7-a0e7-2a5e26965829",
   "metadata": {},
   "outputs": [
    {
     "name": "stdin",
     "output_type": "stream",
     "text": [
      "Enter the Marks 85\n"
     ]
    },
    {
     "name": "stdout",
     "output_type": "stream",
     "text": [
      "85  ---> T2\n"
     ]
    }
   ],
   "source": [
    "marks = int(input('Enter the Marks'))\n",
    "if marks >=90:\n",
    "    print(marks,' ---> T1')\n",
    "elif marks >=70 :\n",
    "    print(marks,' ---> T2')\n",
    "elif marks >=60 :\n",
    "    print(marks,' ---> T3')\n",
    "else:\n",
    "    print(marks,' ---> T4')"
   ]
  },
  {
   "cell_type": "code",
   "execution_count": null,
   "id": "d59e7993-aa81-4c87-8702-f9a78f11cb42",
   "metadata": {},
   "outputs": [],
   "source": []
  },
  {
   "cell_type": "code",
   "execution_count": 7,
   "id": "decbba0b",
   "metadata": {},
   "outputs": [
    {
     "name": "stdout",
     "output_type": "stream",
     "text": [
      "Enter LocationInstitute\n",
      "Welcome to institute\n"
     ]
    }
   ],
   "source": [
    "#loc = 'Institute'\n",
    "loc = input(\"Enter Location\")\n",
    "\n",
    "if loc == 'Auto Shop':\n",
    "    print('Welcome to the Auto Shop!')\n",
    "elif loc == 'Bank':\n",
    "    print('Welcome to the bank!')\n",
    "elif loc=='Institute':\n",
    "    print(\"Welcome to institute\")\n",
    "else:\n",
    "    print('Where are you?')"
   ]
  },
  {
   "cell_type": "code",
   "execution_count": 15,
   "id": "745fc321",
   "metadata": {
    "scrolled": true
   },
   "outputs": [
    {
     "name": "stdout",
     "output_type": "stream",
     "text": [
      "Enter LocationImarticus\n",
      "Welcome to Imarticus\n"
     ]
    }
   ],
   "source": [
    "loc = input(\"Enter Location\")\n",
    "\n",
    "if loc == 'Auto Shop':\n",
    "    print('Welcome to the Auto Shop!')\n",
    "elif loc == 'Bank':\n",
    "    print('Welcome to the bank!')\n",
    "elif loc=='Institute':\n",
    "    print(\"Welcome to institute\")\n",
    "else:\n",
    "    print('Welcome to',loc)"
   ]
  },
  {
   "cell_type": "code",
   "execution_count": 9,
   "id": "232b8642",
   "metadata": {},
   "outputs": [
    {
     "name": "stdout",
     "output_type": "stream",
     "text": [
      "Enter the number221\n",
      "Its an Odd Number\n"
     ]
    }
   ],
   "source": [
    "data = int(input('Enter the number'))\n",
    "if data % 2 == 0:\n",
    "    print('Its an Even Number')\n",
    "else:\n",
    "    print('Its an Odd Number')"
   ]
  },
  {
   "cell_type": "markdown",
   "id": "52f3f1b2",
   "metadata": {},
   "source": [
    "### Python is case sensitive so we want to be careful while giving the condition statement"
   ]
  },
  {
   "cell_type": "code",
   "execution_count": 4,
   "id": "b123f9cd",
   "metadata": {},
   "outputs": [
    {
     "name": "stdout",
     "output_type": "stream",
     "text": [
      "Enter LocationInstitute\n",
      "Welcome to institute\n"
     ]
    }
   ],
   "source": [
    "loc = input(\"Enter Location\")\n",
    "\n",
    "if loc.lower() == 'auto shop':\n",
    "    print('Welcome to the Auto Shop!')\n",
    "elif loc.lower() == 'bank':\n",
    "    print('Welcome to the bank!')\n",
    "elif loc.lower() =='institute':\n",
    "    print(\"Welcome to institute\")\n",
    "else:\n",
    "    print('Where are you?')"
   ]
  },
  {
   "cell_type": "markdown",
   "id": "1535b875",
   "metadata": {},
   "source": [
    "Note how the nested <code>if</code> statements are each checked until a True boolean causes the nested code below it to run. You should also note that you can put in as many <code>elif</code> statements as you want before you close off with an <code>else</code>.\n",
    "\n",
    "Let's create two more simple examples for the <code>if</code>, <code>elif</code>, and <code>else</code> statements:"
   ]
  },
  {
   "cell_type": "code",
   "execution_count": 5,
   "id": "5c77e4ab",
   "metadata": {},
   "outputs": [
    {
     "name": "stdout",
     "output_type": "stream",
     "text": [
      "Welcome Jeevan!\n"
     ]
    }
   ],
   "source": [
    "person = 'Jeevan'\n",
    "\n",
    "if person == 'Jeevan':\n",
    "    print('Welcome Jeevan!')\n",
    "else:\n",
    "    print(\"Welcome, what's your name?\")"
   ]
  },
  {
   "cell_type": "code",
   "execution_count": 6,
   "id": "47281889",
   "metadata": {},
   "outputs": [
    {
     "name": "stdout",
     "output_type": "stream",
     "text": [
      "Enter your nameJeevan Raj\n",
      "Welcome Jeevan Raj\n"
     ]
    }
   ],
   "source": [
    "Name = input('Enter your name')\n",
    "\n",
    "if Name == 'Raju':\n",
    "    print('Welcome Raju')\n",
    "else:\n",
    "    print('Welcome',Name)"
   ]
  },
  {
   "cell_type": "markdown",
   "id": "8507c227",
   "metadata": {},
   "source": [
    "## Indentation\n",
    "\n",
    "It is important to keep a good understanding of how indentation works in Python to maintain the structure and order of your code. We will touch on this topic again when we start building out functions!"
   ]
  },
  {
   "cell_type": "markdown",
   "id": "8f12d6c6",
   "metadata": {},
   "source": [
    "## Assingment Questions"
   ]
  },
  {
   "cell_type": "code",
   "execution_count": 9,
   "id": "941f2102",
   "metadata": {},
   "outputs": [
    {
     "name": "stdout",
     "output_type": "stream",
     "text": [
      "Enter your earnings45000\n",
      "Intrest = 6000.0\n"
     ]
    }
   ],
   "source": [
    "taxable_income=int(input('Enter your earnings'))\n",
    "if taxable_income <=10000:\n",
    "    print('Zero Intrest')\n",
    "elif taxable_income>10000 and taxable_income<=20000:\n",
    "    print('Intrest =',(taxable_income-10000)*0.1)\n",
    "else:\n",
    "    print('Intrest =',(taxable_income-20000)*0.2+(10000*.1)+(10000*0))"
   ]
  },
  {
   "attachments": {
    "image.png": {
     "image/png": "[encoded data removed]"
    }
   },
   "cell_type": "markdown",
   "id": "6d105611",
   "metadata": {},
   "source": [
    "![image.png](attachment:image.png)"
   ]
  },
  {
   "cell_type": "markdown",
   "id": "3e4cd9ad",
   "metadata": {},
   "source": [
    "### Expected Output:\n",
    "\n",
    "For example, suppose the taxable income is 45000 the income tax payable is\n",
    "\n",
    "10000  *0% + 10000*    10%  + 25000    20% = $6000."
   ]
  },
  {
   "cell_type": "code",
   "execution_count": 1,
   "id": "36ab4a51",
   "metadata": {},
   "outputs": [
    {
     "name": "stdout",
     "output_type": "stream",
     "text": [
      "Enter your income45000\n",
      "the interest =  6000.0\n"
     ]
    }
   ],
   "source": [
    "income = int(input('Enter your income'))\n",
    "if income <=10000:\n",
    "    print('Zero interest')\n",
    "elif income<= 20000:\n",
    "    print('the interest =',(income-10000)*.1)\n",
    "else:\n",
    "    print('the interest = ',(income-20000)*.2 + 10000*.1)"
   ]
  },
  {
   "cell_type": "markdown",
   "id": "82a1b367",
   "metadata": {},
   "source": [
    "or"
   ]
  },
  {
   "cell_type": "code",
   "execution_count": 2,
   "id": "fc56d52e",
   "metadata": {},
   "outputs": [
    {
     "name": "stdout",
     "output_type": "stream",
     "text": [
      "Enter your income45000\n",
      "6000.0\n"
     ]
    }
   ],
   "source": [
    "income = int(input('Enter your income'))\n",
    "if income<=10000:\n",
    "    print('Tax Free')\n",
    "elif income>10000 and income <=20000:\n",
    "    print((income-10000)*.10)\n",
    "else:\n",
    "    print((10000)*0+(10000)*.10+(income-20000)*.20)"
   ]
  },
  {
   "cell_type": "code",
   "execution_count": 10,
   "id": "b1880628",
   "metadata": {},
   "outputs": [
    {
     "name": "stdout",
     "output_type": "stream",
     "text": [
      "Tax Amount = 9000.0\n"
     ]
    }
   ],
   "source": [
    "def taxpayable(a):\n",
    "    if a<=10000:\n",
    "        print('No Tax')\n",
    "    elif a>10000 and a<=20000:\n",
    "        print('Tax Amount =',(a-10000)*0.1)\n",
    "    else:\n",
    "        print('Tax Amount =',(a-20000)*0.2+(10000)*0.1)\n",
    "taxpayable(60000)"
   ]
  }
 ],
 "metadata": {
  "kernelspec": {
   "display_name": "Python 3 (ipykernel)",
   "language": "python",
   "name": "python3"
  },
  "language_info": {
   "codemirror_mode": {
    "name": "ipython",
    "version": 3
   },
   "file_extension": ".py",
   "mimetype": "text/x-python",
   "name": "python",
   "nbconvert_exporter": "python",
   "pygments_lexer": "ipython3",
   "version": "3.12.7"
  }
 },
 "nbformat": 4,
 "nbformat_minor": 5
}
