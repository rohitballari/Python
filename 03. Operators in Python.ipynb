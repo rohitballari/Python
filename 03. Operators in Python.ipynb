{
 "cells": [
  {
   "cell_type": "markdown",
   "id": "53ef5a69",
   "metadata": {},
   "source": [
    "### What is Operator?\n",
    "Ans: An operator is used to perform operations between two values or variables "
   ]
  },
  {
   "cell_type": "markdown",
   "id": "5039693e",
   "metadata": {},
   "source": [
    "### Different type of Operators in Python\n",
    "\n",
    "1. Arithmetic Operator\n",
    "2. Assignment Operator\n",
    "3. Comparison Operator (Relational Operator)\n",
    "4. Logical Operator\n",
    "5. Membership Operator\n",
    "6. Identity Operator\n",
    "7. Bitwise Operator"
   ]
  },
  {
   "cell_type": "markdown",
   "id": "299a5ddc",
   "metadata": {},
   "source": [
    "### Arithmetic Operator: Arithmetic operators are used to perform arithmetic operations between variables\n",
    "1. Addition (+)\n",
    "2. Subtraction (-)\n",
    "3. Multiplication (*)\n",
    "4. Division (/)\n",
    "5. Modulus (%)\n",
    "6. Exponentiation (**)\n",
    "7. Floor Division(//)"
   ]
  },
  {
   "cell_type": "code",
   "execution_count": 5,
   "id": "39410915",
   "metadata": {},
   "outputs": [
    {
     "name": "stdout",
     "output_type": "stream",
     "text": [
      "Addition = 14\n"
     ]
    }
   ],
   "source": [
    "# Addition\n",
    "\n",
    "x = 8\n",
    "y = 6\n",
    "print('Addition =',x+y)"
   ]
  },
  {
   "cell_type": "code",
   "execution_count": 7,
   "id": "3d941b8a",
   "metadata": {},
   "outputs": [
    {
     "name": "stdout",
     "output_type": "stream",
     "text": [
      "Subtraction = 2\n"
     ]
    }
   ],
   "source": [
    "# Subtraction \n",
    "print('Subtraction =',x-y)"
   ]
  },
  {
   "cell_type": "code",
   "execution_count": 9,
   "id": "c790b92f",
   "metadata": {},
   "outputs": [
    {
     "name": "stdout",
     "output_type": "stream",
     "text": [
      "Multiplication = 48\n"
     ]
    }
   ],
   "source": [
    "# Multiplication \n",
    "print('Multiplication =',x*y)"
   ]
  },
  {
   "cell_type": "code",
   "execution_count": 11,
   "id": "513bbd6a",
   "metadata": {},
   "outputs": [
    {
     "name": "stdout",
     "output_type": "stream",
     "text": [
      "Division = 1.3333333333333333\n"
     ]
    }
   ],
   "source": [
    "# Division                 # division will gives you the quotient\n",
    "print('Division =',x/y)"
   ]
  },
  {
   "cell_type": "code",
   "execution_count": 13,
   "id": "787c0d9a",
   "metadata": {},
   "outputs": [
    {
     "name": "stdout",
     "output_type": "stream",
     "text": [
      "Modulus = 2\n"
     ]
    }
   ],
   "source": [
    "# Modulus                 # modulus will gives you the reminder\n",
    "print('Modulus =',x%y)"
   ]
  },
  {
   "cell_type": "code",
   "execution_count": 15,
   "id": "72168f8c",
   "metadata": {},
   "outputs": [
    {
     "name": "stdout",
     "output_type": "stream",
     "text": [
      "Exponentation = 262144\n"
     ]
    }
   ],
   "source": [
    "# Exponentation\n",
    "print('Exponentation =',x**y)"
   ]
  },
  {
   "cell_type": "code",
   "execution_count": 17,
   "id": "7b0c61d9",
   "metadata": {},
   "outputs": [
    {
     "name": "stdout",
     "output_type": "stream",
     "text": [
      "Floor Division = 1\n"
     ]
    }
   ],
   "source": [
    "# Floor Division          # Divide first argument by the second and round the result down to the nearest whole number\n",
    "print('Floor Division =',x//y)"
   ]
  },
  {
   "cell_type": "code",
   "execution_count": 37,
   "id": "369063e6-3fbd-403e-8844-3fda8a9c39cf",
   "metadata": {},
   "outputs": [],
   "source": [
    "def even_odd(a):\n",
    "    if a%2 == 0:\n",
    "        print(f'{a} is Even Number')\n",
    "    else:\n",
    "        print(f'{a} is Odd Number')"
   ]
  },
  {
   "cell_type": "code",
   "execution_count": 39,
   "id": "eeee0705-5003-47a5-9ec3-08702f3108c3",
   "metadata": {},
   "outputs": [
    {
     "name": "stdout",
     "output_type": "stream",
     "text": [
      "8 is Even Number\n"
     ]
    }
   ],
   "source": [
    "even_odd(8)"
   ]
  },
  {
   "cell_type": "code",
   "execution_count": 41,
   "id": "642b88e9-412e-4c72-a6d2-45665e5ceb55",
   "metadata": {},
   "outputs": [],
   "source": [
    "a=[2,4,57,12,3,65,2,3,55]"
   ]
  },
  {
   "cell_type": "code",
   "execution_count": null,
   "id": "c9b51d51-0802-4b23-8022-9262c2063e22",
   "metadata": {},
   "outputs": [],
   "source": [
    "2 ---> Even Number\n",
    "4 ---> Even Number\n",
    "57 ---> odd Number"
   ]
  },
  {
   "cell_type": "code",
   "execution_count": 59,
   "id": "7984d5a4-eb0d-4ba2-8796-632b43463951",
   "metadata": {},
   "outputs": [
    {
     "name": "stdout",
     "output_type": "stream",
     "text": [
      "2 ---> Even Number\n",
      "4 ---> Even Number\n",
      "57 ---> Odd Number\n",
      "12 ---> Even Number\n",
      "3 ---> Odd Number\n",
      "65 ---> Odd Number\n",
      "2 ---> Even Number\n",
      "3 ---> Odd Number\n",
      "55 ---> Odd Number\n"
     ]
    }
   ],
   "source": [
    "for i in a:\n",
    "    if i%2 ==0:\n",
    "        print(f'{i} ---> Even Number')\n",
    "    else:\n",
    "        print(f'{i} ---> Odd Number')\n",
    " "
   ]
  },
  {
   "cell_type": "code",
   "execution_count": null,
   "id": "097c0581-47db-4602-9f1b-0c39196473ed",
   "metadata": {},
   "outputs": [],
   "source": [
    "first $10000  0\n",
    "Next $10000   10\n",
    "The remaining 20 45000 tax 6000 ans"
   ]
  },
  {
   "cell_type": "code",
   "execution_count": 85,
   "id": "5db7e73d-985b-42d0-aefd-5f68b8d5d3dc",
   "metadata": {},
   "outputs": [
    {
     "name": "stdin",
     "output_type": "stream",
     "text": [
      "Enter The Amount: 45000\n"
     ]
    },
    {
     "name": "stdout",
     "output_type": "stream",
     "text": [
      "Interest : 6000.0\n"
     ]
    }
   ],
   "source": [
    "x = int(input('Enter The Amount:'))\n",
    "if x<=10000:\n",
    "    print('0 Interest')\n",
    "elif x > 10000 and x <=20000:\n",
    "    print('Interest :',(x-10000)*10/100)\n",
    "else:\n",
    "    print('Interest :',(x-20000)*20/100+10000*10/100)             "
   ]
  },
  {
   "cell_type": "code",
   "execution_count": 93,
   "id": "984e1b81-a463-4e7b-9ca0-85c9119180e9",
   "metadata": {},
   "outputs": [],
   "source": [
    "def tax(Rohit_salary):\n",
    "    if Rohit_salary<10000:\n",
    "        print('Tax Free')\n",
    "    elif Rohit_salary<20000:\n",
    "        print((Rohit_salary - 10000)*0.1)\n",
    "    else:\n",
    "        print((10000 * 0) + (10000) * 0.1 + (Rohit_salary - 20000)*0.2)\n"
   ]
  },
  {
   "cell_type": "code",
   "execution_count": 95,
   "id": "6916d1f2-99f8-4a44-8191-f089454da2de",
   "metadata": {},
   "outputs": [
    {
     "name": "stdout",
     "output_type": "stream",
     "text": [
      "6000.0\n"
     ]
    }
   ],
   "source": [
    "tax(45000)"
   ]
  },
  {
   "cell_type": "raw",
   "id": "531274a1-025b-4280-b4ab-1a97bad7a1d8",
   "metadata": {},
   "source": [
    "1.write a query to print the student details who have scored greater than 50"
   ]
  },
  {
   "cell_type": "code",
   "execution_count": 97,
   "id": "99046186-5752-42cc-8bd0-a3b8a11fb9ee",
   "metadata": {},
   "outputs": [
    {
     "data": {
      "text/plain": [
       "{'student_details': ['Rohit', 'Varun', 'Tarun'], 'marks': [45, 95, 35]}"
      ]
     },
     "execution_count": 97,
     "metadata": {},
     "output_type": "execute_result"
    }
   ],
   "source": [
    "info = {'student_details':['Rohit','Varun','Tarun'],'marks':[45,95,35]}\n",
    "info"
   ]
  },
  {
   "cell_type": "code",
   "execution_count": 99,
   "id": "2ea4133e-f44b-4530-9732-7599513b347c",
   "metadata": {},
   "outputs": [
    {
     "data": {
      "text/plain": [
       "{'student_details': ['Rohit', 'Varun', 'Tarun'], 'marks': [45, 95, 35]}"
      ]
     },
     "execution_count": 99,
     "metadata": {},
     "output_type": "execute_result"
    }
   ],
   "source": [
    "{'student_details':['Rohit','Varun','Tarun'],'marks':[45,95,35]}"
   ]
  },
  {
   "cell_type": "code",
   "execution_count": 101,
   "id": "82ea4f28-cb01-4e95-9680-a98d5a5f31a1",
   "metadata": {},
   "outputs": [
    {
     "data": {
      "text/plain": [
       "{'Rohit': 45, 'Varun': 95, 'Tarun': 35}"
      ]
     },
     "execution_count": 101,
     "metadata": {},
     "output_type": "execute_result"
    }
   ],
   "source": [
    "dict(zip(info['student_details'],info['marks']))"
   ]
  },
  {
   "cell_type": "code",
   "execution_count": 105,
   "id": "65d5a58e-8177-4685-9647-599e95250c04",
   "metadata": {},
   "outputs": [
    {
     "name": "stdout",
     "output_type": "stream",
     "text": [
      "Varun 95\n"
     ]
    }
   ],
   "source": [
    "for i,j in dict(zip(info['student_details'],info['marks'])).items():\n",
    "    if j>50:\n",
    "        print(i,j)"
   ]
  },
  {
   "cell_type": "code",
   "execution_count": 107,
   "id": "6c5e57e1-1b67-42ba-b759-4ffbc78791cb",
   "metadata": {},
   "outputs": [
    {
     "data": {
      "text/plain": [
       "dict_items([('student_details', ['Rohit', 'Varun', 'Tarun']), ('marks', [45, 95, 35])])"
      ]
     },
     "execution_count": 107,
     "metadata": {},
     "output_type": "execute_result"
    }
   ],
   "source": [
    "info.items()"
   ]
  },
  {
   "cell_type": "code",
   "execution_count": null,
   "id": "fadcef2e-348b-40e6-b112-7710873b2779",
   "metadata": {},
   "outputs": [],
   "source": [
    "2.write a query to print the fruits which are small  in size."
   ]
  },
  {
   "cell_type": "code",
   "execution_count": 159,
   "id": "b1c21e9d-7985-45d2-a8d6-6b2928bc4c23",
   "metadata": {},
   "outputs": [],
   "source": [
    "fruits = ['Apple','Mango','Grapes','banana']\n",
    "properties = ['Small','SMALL','big','SmaLL']"
   ]
  },
  {
   "cell_type": "code",
   "execution_count": 161,
   "id": "e1a03523-784b-4c90-bba1-8cdaaf415d3d",
   "metadata": {},
   "outputs": [
    {
     "name": "stdout",
     "output_type": "stream",
     "text": [
      "Apple Small\n",
      "Mango SMALL\n",
      "banana SmaLL\n"
     ]
    }
   ],
   "source": [
    "info= {'fruits':fruits,'Properties':properties}\n",
    "for i,j in dict(zip(info['fruits'],info['Properties'])).items():\n",
    "    if j.lower() == 'small':\n",
    "        print(i,j)"
   ]
  },
  {
   "cell_type": "code",
   "execution_count": null,
   "id": "d7a2ac52-a86e-403f-b4c6-e43e69c659ef",
   "metadata": {},
   "outputs": [],
   "source": []
  },
  {
   "cell_type": "code",
   "execution_count": null,
   "id": "493ba4df-b406-40cd-95ee-dfb9c8af8ada",
   "metadata": {},
   "outputs": [],
   "source": []
  },
  {
   "cell_type": "code",
   "execution_count": null,
   "id": "0d80f8da-c860-44d8-b004-d267b7e9b6a5",
   "metadata": {},
   "outputs": [],
   "source": [
    "\n",
    "    "
   ]
  },
  {
   "cell_type": "raw",
   "id": "3f169d1e-0f0b-4cd7-8a43-85f6eccf8c69",
   "metadata": {},
   "source": []
  },
  {
   "cell_type": "markdown",
   "id": "ccbf91d4",
   "metadata": {},
   "source": [
    "### Assignment Operator : Assignment operators are used to assign values (This is a Short Hand Writting)\n",
    "\n",
    "1. =\n",
    "2. +=\n",
    "3. -=\n",
    "4. *=\n",
    "5. %=\n",
    "6. **=\n",
    "7. //="
   ]
  },
  {
   "cell_type": "code",
   "execution_count": 17,
   "id": "788efb81",
   "metadata": {},
   "outputs": [
    {
     "name": "stdout",
     "output_type": "stream",
     "text": [
      "30\n"
     ]
    }
   ],
   "source": [
    "# Example \n",
    "\n",
    "num1 = 10\n",
    "num2 = 20\n",
    "num3 = num1 + num2\n",
    "print(num3)"
   ]
  },
  {
   "cell_type": "code",
   "execution_count": 18,
   "id": "63ff3381",
   "metadata": {},
   "outputs": [
    {
     "name": "stdout",
     "output_type": "stream",
     "text": [
      "50\n"
     ]
    }
   ],
   "source": [
    "# Now will see the example of assigment operators\n",
    "num3 = num3 + num2        # Insted of writing like this we can use assigment operators \n",
    "print(num3)"
   ]
  },
  {
   "cell_type": "code",
   "execution_count": 19,
   "id": "a1075356",
   "metadata": {},
   "outputs": [
    {
     "name": "stdout",
     "output_type": "stream",
     "text": [
      "70\n"
     ]
    }
   ],
   "source": [
    "# Insted of assigning separately we can use assignment operator for short hand writting\n",
    "num3 += num2            # internaly it work like num3 = num3+num2\n",
    "print(num3)"
   ]
  },
  {
   "cell_type": "markdown",
   "id": "f9ea17df",
   "metadata": {},
   "source": [
    "### Perform the same operation for rest of the operators"
   ]
  },
  {
   "cell_type": "markdown",
   "id": "255c3ee1",
   "metadata": {},
   "source": [
    "## Comparision Operators [Relationship Operator]\n",
    "Comparision Operators are used to compare two values and Output of Comparision operator is always an Boolean value"
   ]
  },
  {
   "cell_type": "markdown",
   "id": "3c495b74",
   "metadata": {},
   "source": [
    "# Type of Comparision Operators \n",
    "1. Equal-to (==)\n",
    "2. Not Equal-to (!=)\n",
    "3. Greater Than (>)\n",
    "4. Less Than (<)\n",
    "5. Greater Than or Equal-to (>=)\n",
    "6. Less Than or Equal-to (<=)"
   ]
  },
  {
   "cell_type": "code",
   "execution_count": 166,
   "id": "32c0b731",
   "metadata": {},
   "outputs": [],
   "source": [
    "x = 20\n",
    "y = 25"
   ]
  },
  {
   "cell_type": "code",
   "execution_count": 168,
   "id": "caefd560",
   "metadata": {},
   "outputs": [
    {
     "name": "stdout",
     "output_type": "stream",
     "text": [
      "comparing x is equal-to y = False\n"
     ]
    }
   ],
   "source": [
    "# Equal-to\n",
    "compare = x == y\n",
    "print('comparing x is equal-to y =',compare)"
   ]
  },
  {
   "cell_type": "code",
   "execution_count": 3,
   "id": "92da8cb5",
   "metadata": {},
   "outputs": [
    {
     "name": "stdout",
     "output_type": "stream",
     "text": [
      "comparing x is not equal-to y = True\n"
     ]
    }
   ],
   "source": [
    "# Not Equal-to\n",
    "compare = x != y\n",
    "print('comparing x is not equal-to y =',compare)"
   ]
  },
  {
   "cell_type": "code",
   "execution_count": 4,
   "id": "8e1703fe",
   "metadata": {},
   "outputs": [
    {
     "name": "stdout",
     "output_type": "stream",
     "text": [
      "comparing x is Greater Than y = False\n"
     ]
    }
   ],
   "source": [
    "# Greater Than\n",
    "compare = x > y\n",
    "print('comparing x is Greater Than y =',compare)"
   ]
  },
  {
   "cell_type": "code",
   "execution_count": 5,
   "id": "4bdd7293",
   "metadata": {},
   "outputs": [
    {
     "name": "stdout",
     "output_type": "stream",
     "text": [
      "comparing x is Less Than y = True\n"
     ]
    }
   ],
   "source": [
    "# Less Than\n",
    "compare = x < y\n",
    "print('comparing x is Less Than y =',compare)"
   ]
  },
  {
   "cell_type": "code",
   "execution_count": 6,
   "id": "0f5dc2ac",
   "metadata": {},
   "outputs": [
    {
     "name": "stdout",
     "output_type": "stream",
     "text": [
      "comparing x is Greater than or equal-to y = False\n"
     ]
    }
   ],
   "source": [
    "# Greater Than Equal-to\n",
    "compare = x >= y\n",
    "print('comparing x is Greater than or equal-to y =',compare)"
   ]
  },
  {
   "cell_type": "code",
   "execution_count": 7,
   "id": "935895fc",
   "metadata": {},
   "outputs": [
    {
     "name": "stdout",
     "output_type": "stream",
     "text": [
      "comparing x is Less Than or equal-to y = True\n"
     ]
    }
   ],
   "source": [
    "# Equal-to\n",
    "compare = x <= y\n",
    "print('comparing x is Less Than or equal-to y =',compare)"
   ]
  },
  {
   "cell_type": "code",
   "execution_count": 170,
   "id": "697ee5fa-17bb-4066-ab14-3ea1228295af",
   "metadata": {},
   "outputs": [
    {
     "name": "stdout",
     "output_type": "stream",
     "text": [
      "False\n",
      "True\n",
      "False\n",
      "True\n",
      "True\n",
      "False\n"
     ]
    }
   ],
   "source": [
    "a=5\n",
    "b=10\n",
    "\n",
    "print(a==b)\n",
    "print(a!=b)\n",
    "print(a>b)\n",
    "print(a<b)\n",
    "print(a<=b)\n",
    "print(a>=b)\n"
   ]
  },
  {
   "cell_type": "code",
   "execution_count": null,
   "id": "f72a6b8e-9472-4148-bceb-4c11966683fa",
   "metadata": {},
   "outputs": [],
   "source": []
  },
  {
   "cell_type": "code",
   "execution_count": null,
   "id": "8a04b3b2-db6a-49f4-8245-4f6a99e98192",
   "metadata": {},
   "outputs": [],
   "source": []
  },
  {
   "cell_type": "markdown",
   "id": "3b86e9ff",
   "metadata": {},
   "source": [
    "## Logical Operators\n",
    "Logical Operators are used to combine conditional statements\n",
    "\n",
    "Will first understand what is conditional statements before going to logical operators  \n",
    "Type of Conditional Statement in Python: \n",
    "Basically we have 3 Conditional Statements in Python\n",
    "1. if\n",
    "2. elif\n",
    "3. else\n"
   ]
  },
  {
   "cell_type": "code",
   "execution_count": 24,
   "id": "e44a64e1",
   "metadata": {},
   "outputs": [
    {
     "name": "stdout",
     "output_type": "stream",
     "text": [
      "we are doing great\n"
     ]
    }
   ],
   "source": [
    "if True:\n",
    "    print('we are doing great')\n",
    "else:\n",
    "    print('worst')"
   ]
  },
  {
   "cell_type": "code",
   "execution_count": 25,
   "id": "3d281973",
   "metadata": {},
   "outputs": [
    {
     "name": "stdout",
     "output_type": "stream",
     "text": [
      "i am doing double great\n"
     ]
    }
   ],
   "source": [
    "if False:\n",
    "    print('we are doing great')\n",
    "else:\n",
    "    print('i am doing double great')"
   ]
  },
  {
   "cell_type": "code",
   "execution_count": 172,
   "id": "2c2b1b72",
   "metadata": {},
   "outputs": [
    {
     "name": "stdout",
     "output_type": "stream",
     "text": [
      "Smaller\n"
     ]
    }
   ],
   "source": [
    "x = 20\n",
    "y = 25\n",
    "\n",
    "# Conditional Statement\n",
    "if x == y:                \n",
    "    print('Equal')\n",
    "elif x > y:\n",
    "    print('Greater')\n",
    "else:\n",
    "    print('Smaller')"
   ]
  },
  {
   "cell_type": "markdown",
   "id": "53d3d746",
   "metadata": {},
   "source": [
    "### Type of Logical Operators:\n",
    "1. and (Logical and)\n",
    "2. or (Logical or)\n",
    "3. not (Logical not)"
   ]
  },
  {
   "cell_type": "code",
   "execution_count": 174,
   "id": "2c99c6b7",
   "metadata": {},
   "outputs": [],
   "source": [
    "x=8"
   ]
  },
  {
   "cell_type": "code",
   "execution_count": 11,
   "id": "54169e3e",
   "metadata": {},
   "outputs": [
    {
     "data": {
      "text/plain": [
       "True"
      ]
     },
     "execution_count": 11,
     "metadata": {},
     "output_type": "execute_result"
    }
   ],
   "source": [
    "# Logical and operator\n",
    "x > 5 and x > 4           # In Logical and operator both the condition should be True"
   ]
  },
  {
   "cell_type": "code",
   "execution_count": 13,
   "id": "9cc78471",
   "metadata": {},
   "outputs": [
    {
     "data": {
      "text/plain": [
       "True"
      ]
     },
     "execution_count": 13,
     "metadata": {},
     "output_type": "execute_result"
    }
   ],
   "source": [
    "# Logical or operator\n",
    "x > 5 or x > 10            # In Logical or operator if any one of the condition should be True"
   ]
  },
  {
   "cell_type": "code",
   "execution_count": 176,
   "id": "a1678891",
   "metadata": {
    "scrolled": true
   },
   "outputs": [
    {
     "data": {
      "text/plain": [
       "True"
      ]
     },
     "execution_count": 176,
     "metadata": {},
     "output_type": "execute_result"
    }
   ],
   "source": [
    "# Logical not operator\n",
    "not(x>5 and x>10)          # In Logical not operator it prints opposit of the given condition"
   ]
  },
  {
   "cell_type": "markdown",
   "id": "1d866047",
   "metadata": {},
   "source": [
    "## Identity Operators\n",
    "Identity operators are used to compare objects   \n",
    "1. is  --> returns True if both variables are same object\n",
    "2. is not  ---> returns True if both variables are not same object "
   ]
  },
  {
   "cell_type": "code",
   "execution_count": 182,
   "id": "f58ef369-29d2-4047-9e29-f57c929cab55",
   "metadata": {},
   "outputs": [
    {
     "data": {
      "text/plain": [
       "False"
      ]
     },
     "execution_count": 182,
     "metadata": {},
     "output_type": "execute_result"
    }
   ],
   "source": [
    "a=[1,2,3]\n",
    "b=[1,2,3]\n",
    "\n",
    "a is b"
   ]
  },
  {
   "cell_type": "code",
   "execution_count": 186,
   "id": "9468c06d-581d-4f41-86f3-2af2650af3c1",
   "metadata": {},
   "outputs": [
    {
     "name": "stdout",
     "output_type": "stream",
     "text": [
      "2000473933248 2000473936000\n"
     ]
    }
   ],
   "source": [
    "print(id(a),id(b))"
   ]
  },
  {
   "cell_type": "code",
   "execution_count": 184,
   "id": "e15a18aa-2ef0-446f-ad4e-68c5e7305aae",
   "metadata": {},
   "outputs": [
    {
     "name": "stdout",
     "output_type": "stream",
     "text": [
      "False\n"
     ]
    }
   ],
   "source": [
    "print(id(a) == id(b))"
   ]
  },
  {
   "cell_type": "code",
   "execution_count": 190,
   "id": "0ef30b2f-7ac4-4aff-87b0-1f0d121cb9cd",
   "metadata": {},
   "outputs": [],
   "source": [
    "c = a"
   ]
  },
  {
   "cell_type": "code",
   "execution_count": 192,
   "id": "d5edc8b5-38c4-4bea-a50c-4b3344e7803f",
   "metadata": {},
   "outputs": [
    {
     "name": "stdout",
     "output_type": "stream",
     "text": [
      "2000473933248 2000473933248\n"
     ]
    }
   ],
   "source": [
    "print(id(a),id(c))"
   ]
  },
  {
   "cell_type": "code",
   "execution_count": 194,
   "id": "daa1aa58-7043-42b4-8ab5-996add7cca3e",
   "metadata": {},
   "outputs": [
    {
     "data": {
      "text/plain": [
       "True"
      ]
     },
     "execution_count": 194,
     "metadata": {},
     "output_type": "execute_result"
    }
   ],
   "source": [
    "a is c"
   ]
  },
  {
   "cell_type": "code",
   "execution_count": 196,
   "id": "7f40f15a",
   "metadata": {},
   "outputs": [],
   "source": [
    "list1 = [10,20,30]\n",
    "list2 = [10,20,30]"
   ]
  },
  {
   "cell_type": "code",
   "execution_count": 198,
   "id": "655da3a1",
   "metadata": {},
   "outputs": [],
   "source": [
    "list3 = list1"
   ]
  },
  {
   "cell_type": "code",
   "execution_count": 200,
   "id": "844948b2",
   "metadata": {},
   "outputs": [
    {
     "data": {
      "text/plain": [
       "True"
      ]
     },
     "execution_count": 200,
     "metadata": {},
     "output_type": "execute_result"
    }
   ],
   "source": [
    "list1 is list3"
   ]
  },
  {
   "cell_type": "code",
   "execution_count": 202,
   "id": "3c86669c",
   "metadata": {},
   "outputs": [
    {
     "data": {
      "text/plain": [
       "False"
      ]
     },
     "execution_count": 202,
     "metadata": {},
     "output_type": "execute_result"
    }
   ],
   "source": [
    "id(list1)== id(list2)"
   ]
  },
  {
   "cell_type": "code",
   "execution_count": 204,
   "id": "07d5fffc",
   "metadata": {},
   "outputs": [
    {
     "name": "stdout",
     "output_type": "stream",
     "text": [
      "list1 and list3 are storing in same memory location\n"
     ]
    }
   ],
   "source": [
    "# Backend working of identity operator\n",
    "\n",
    "if id(list1) == id(list2):\n",
    "    print('list1 and list2 are storing in same memory location')\n",
    "elif id(list2) == id(list3):\n",
    "    print('list2 and list3 are storing in same memory location')\n",
    "elif id(list1) == id(list3):\n",
    "    print('list1 and list3 are storing in same memory location')"
   ]
  },
  {
   "cell_type": "code",
   "execution_count": 16,
   "id": "740317d5",
   "metadata": {},
   "outputs": [
    {
     "data": {
      "text/plain": [
       "2485355475776"
      ]
     },
     "execution_count": 16,
     "metadata": {},
     "output_type": "execute_result"
    }
   ],
   "source": [
    "id(list1)"
   ]
  },
  {
   "cell_type": "code",
   "execution_count": 17,
   "id": "84da7811",
   "metadata": {},
   "outputs": [
    {
     "data": {
      "text/plain": [
       "2485355588992"
      ]
     },
     "execution_count": 17,
     "metadata": {},
     "output_type": "execute_result"
    }
   ],
   "source": [
    "id(list2)"
   ]
  },
  {
   "cell_type": "code",
   "execution_count": 36,
   "id": "00049289",
   "metadata": {},
   "outputs": [],
   "source": [
    "list3 = list1"
   ]
  },
  {
   "cell_type": "code",
   "execution_count": 37,
   "id": "f0640358",
   "metadata": {},
   "outputs": [
    {
     "data": {
      "text/plain": [
       "True"
      ]
     },
     "execution_count": 37,
     "metadata": {},
     "output_type": "execute_result"
    }
   ],
   "source": [
    "# Is operator      # It prints True because it is storing in same memory location\n",
    "list3 is list1   "
   ]
  },
  {
   "cell_type": "code",
   "execution_count": 38,
   "id": "4e382298",
   "metadata": {},
   "outputs": [
    {
     "data": {
      "text/plain": [
       "False"
      ]
     },
     "execution_count": 38,
     "metadata": {},
     "output_type": "execute_result"
    }
   ],
   "source": [
    "list3 is list2     # It prints False because it is not storing in same memory location"
   ]
  },
  {
   "cell_type": "code",
   "execution_count": 39,
   "id": "a8a4396a",
   "metadata": {},
   "outputs": [
    {
     "data": {
      "text/plain": [
       "True"
      ]
     },
     "execution_count": 39,
     "metadata": {},
     "output_type": "execute_result"
    }
   ],
   "source": [
    "list3 is not list2     # Now it prints True"
   ]
  },
  {
   "cell_type": "code",
   "execution_count": 60,
   "id": "cc0d2b1f",
   "metadata": {},
   "outputs": [
    {
     "name": "stdout",
     "output_type": "stream",
     "text": [
      "Memory Location for list1 = 2033695915776\n",
      "Memory Location for list2 = 2035811657024\n",
      "Memory Location for list3 = 2033695915776\n",
      "List1 and list3 store in same memory location\n"
     ]
    }
   ],
   "source": [
    "# Now will check for memory location \n",
    "print('Memory Location for list1 =',id(list1))\n",
    "print('Memory Location for list2 =',id(list2))\n",
    "print('Memory Location for list3 =',id(list3))\n",
    "\n",
    "if id(list1) == id(list2):\n",
    "    print('List1 mand list2 store in same memory location')\n",
    "elif id(list2) == id(list3):\n",
    "    print('List2 and list3 store in same memory location')\n",
    "elif id(list1) == id(list3):\n",
    "    print('List1 and list3 store in same memory location')"
   ]
  },
  {
   "cell_type": "markdown",
   "id": "337b8430",
   "metadata": {},
   "source": [
    "## Membership Operators\n",
    "Membership Operators are used to check if the certain value is present in a list    \n",
    "1. in\n",
    "2. not in\n"
   ]
  },
  {
   "cell_type": "code",
   "execution_count": 28,
   "id": "6afbc905",
   "metadata": {},
   "outputs": [],
   "source": [
    "list1 = [2,4,23,5]\n",
    "a=19"
   ]
  },
  {
   "cell_type": "code",
   "execution_count": 30,
   "id": "5e174b40",
   "metadata": {},
   "outputs": [
    {
     "data": {
      "text/plain": [
       "False"
      ]
     },
     "execution_count": 30,
     "metadata": {},
     "output_type": "execute_result"
    }
   ],
   "source": [
    "24 in list1       # it will check if 19 is present in list1 or not if it is not present it return False else it prints True"
   ]
  },
  {
   "cell_type": "code",
   "execution_count": 70,
   "id": "de70e013",
   "metadata": {},
   "outputs": [
    {
     "data": {
      "text/plain": [
       "True"
      ]
     },
     "execution_count": 70,
     "metadata": {},
     "output_type": "execute_result"
    }
   ],
   "source": [
    "b = 5\n",
    "\n",
    "b in list1       # you can see 5 is present in list1 so it is printing as True"
   ]
  },
  {
   "cell_type": "markdown",
   "id": "309cea57",
   "metadata": {},
   "source": [
    "## Bitwise Operators\n",
    "Bitwise operators are used to compare binary numbers\n",
    "\n",
    "Type of Bitwise Operators\n",
    "1. Bitwise AND (&)   -- Sets each bit to 1 if both bits are 1\n",
    "2. Bitwise OR (|)    -- Sets each bit to 1 if one of the bits is 1\n",
    "3. Bitwise XOR (^)   -- Sets each bit to 1 if only one of the bits is 1\n",
    "4. Bitwise NOT (~)   -- Inverts all bits\n",
    "5. Left Shift (<<)   -- Shift left by pushing in zeros from the right and let the leftmost bits fell off\n",
    "6. Right Shift (>>)  -- shift right by pushing copies of the leftmost bit by adding zero"
   ]
  },
  {
   "cell_type": "code",
   "execution_count": 40,
   "id": "aa0e0ede",
   "metadata": {},
   "outputs": [
    {
     "data": {
      "text/plain": [
       "8"
      ]
     },
     "execution_count": 40,
     "metadata": {},
     "output_type": "execute_result"
    }
   ],
   "source": [
    "10 & 12"
   ]
  },
  {
   "cell_type": "code",
   "execution_count": 82,
   "id": "77441804",
   "metadata": {},
   "outputs": [
    {
     "name": "stdout",
     "output_type": "stream",
     "text": [
      "0b1010\n",
      "0b1100\n"
     ]
    }
   ],
   "source": [
    "# Example for bit wise and(&) operator\n",
    "print(bin(10))\n",
    "print(bin(12))"
   ]
  },
  {
   "cell_type": "code",
   "execution_count": 41,
   "id": "02f3f91f",
   "metadata": {},
   "outputs": [
    {
     "data": {
      "text/plain": [
       "8"
      ]
     },
     "execution_count": 41,
     "metadata": {},
     "output_type": "execute_result"
    }
   ],
   "source": [
    "# You can cross verify the output\n",
    "int(0b1000)"
   ]
  },
  {
   "cell_type": "code",
   "execution_count": 72,
   "id": "721578af",
   "metadata": {},
   "outputs": [
    {
     "data": {
      "text/plain": [
       "14"
      ]
     },
     "execution_count": 72,
     "metadata": {},
     "output_type": "execute_result"
    }
   ],
   "source": [
    "10 | 12"
   ]
  },
  {
   "cell_type": "code",
   "execution_count": 84,
   "id": "5fec6b6e",
   "metadata": {
    "scrolled": true
   },
   "outputs": [
    {
     "name": "stdout",
     "output_type": "stream",
     "text": [
      "0b1010\n",
      "0b1100\n"
     ]
    }
   ],
   "source": [
    "# Example for bit wise or(|) operator\n",
    "print(bin(10))\n",
    "print(bin(12))"
   ]
  },
  {
   "cell_type": "code",
   "execution_count": 85,
   "id": "cd511a2c",
   "metadata": {},
   "outputs": [
    {
     "data": {
      "text/plain": [
       "14"
      ]
     },
     "execution_count": 85,
     "metadata": {},
     "output_type": "execute_result"
    }
   ],
   "source": [
    "# You can cross verify the output\n",
    "int(0b1110)"
   ]
  },
  {
   "cell_type": "code",
   "execution_count": 109,
   "id": "85842f98",
   "metadata": {
    "scrolled": true
   },
   "outputs": [
    {
     "data": {
      "text/plain": [
       "6"
      ]
     },
     "execution_count": 109,
     "metadata": {},
     "output_type": "execute_result"
    }
   ],
   "source": [
    "# Example for Bitwise XOR (^) operator\n",
    "10^12"
   ]
  },
  {
   "cell_type": "code",
   "execution_count": 110,
   "id": "a9775972",
   "metadata": {},
   "outputs": [
    {
     "name": "stdout",
     "output_type": "stream",
     "text": [
      "0b1010\n",
      "0b1100\n"
     ]
    }
   ],
   "source": [
    "print(bin(10))\n",
    "print(bin(12))"
   ]
  },
  {
   "cell_type": "code",
   "execution_count": 111,
   "id": "fcb2df43",
   "metadata": {},
   "outputs": [
    {
     "data": {
      "text/plain": [
       "6"
      ]
     },
     "execution_count": 111,
     "metadata": {},
     "output_type": "execute_result"
    }
   ],
   "source": [
    "# You can cross verify the output\n",
    "int(0b0110)"
   ]
  },
  {
   "cell_type": "code",
   "execution_count": 114,
   "id": "7735b7ba",
   "metadata": {},
   "outputs": [
    {
     "data": {
      "text/plain": [
       "-11"
      ]
     },
     "execution_count": 114,
     "metadata": {},
     "output_type": "execute_result"
    }
   ],
   "source": [
    "~10"
   ]
  },
  {
   "cell_type": "code",
   "execution_count": 116,
   "id": "e354e880",
   "metadata": {},
   "outputs": [
    {
     "data": {
      "text/plain": [
       "-11"
      ]
     },
     "execution_count": 116,
     "metadata": {},
     "output_type": "execute_result"
    }
   ],
   "source": [
    "# The presence of the most significant bit is used to express negative integers. Bitwise NOT (~) -- Inverts all bits\n",
    "-(10+1)      # it performs -(x+1)"
   ]
  },
  {
   "cell_type": "code",
   "execution_count": 117,
   "id": "fbac8cc4",
   "metadata": {},
   "outputs": [
    {
     "data": {
      "text/plain": [
       "5"
      ]
     },
     "execution_count": 117,
     "metadata": {},
     "output_type": "execute_result"
    }
   ],
   "source": [
    "~-6"
   ]
  },
  {
   "cell_type": "code",
   "execution_count": 118,
   "id": "64572e37",
   "metadata": {},
   "outputs": [
    {
     "data": {
      "text/plain": [
       "5"
      ]
     },
     "execution_count": 118,
     "metadata": {},
     "output_type": "execute_result"
    }
   ],
   "source": [
    "-(-6+1)"
   ]
  },
  {
   "cell_type": "code",
   "execution_count": 73,
   "id": "5297c528",
   "metadata": {},
   "outputs": [
    {
     "data": {
      "text/plain": [
       "2"
      ]
     },
     "execution_count": 73,
     "metadata": {},
     "output_type": "execute_result"
    }
   ],
   "source": [
    "# right shift\n",
    "10 >> 2"
   ]
  },
  {
   "cell_type": "code",
   "execution_count": 86,
   "id": "31b6e142",
   "metadata": {
    "scrolled": true
   },
   "outputs": [
    {
     "name": "stdout",
     "output_type": "stream",
     "text": [
      "0b1010\n"
     ]
    }
   ],
   "source": [
    "# right shift  \n",
    "print(bin(10))"
   ]
  },
  {
   "cell_type": "code",
   "execution_count": 98,
   "id": "d0bf626a",
   "metadata": {},
   "outputs": [
    {
     "name": "stdout",
     "output_type": "stream",
     "text": [
      "2\n"
     ]
    }
   ],
   "source": [
    "# after shifting right for 2 place\n",
    "print(int(0b10))"
   ]
  },
  {
   "cell_type": "code",
   "execution_count": 74,
   "id": "a5d2b1cb",
   "metadata": {
    "scrolled": true
   },
   "outputs": [
    {
     "data": {
      "text/plain": [
       "40"
      ]
     },
     "execution_count": 74,
     "metadata": {},
     "output_type": "execute_result"
    }
   ],
   "source": [
    "# left shift\n",
    "10 << 2"
   ]
  },
  {
   "cell_type": "code",
   "execution_count": 101,
   "id": "39684dcc",
   "metadata": {},
   "outputs": [
    {
     "name": "stdout",
     "output_type": "stream",
     "text": [
      "0b1010\n"
     ]
    }
   ],
   "source": [
    "# right shift  \n",
    "print(bin(10))"
   ]
  },
  {
   "cell_type": "code",
   "execution_count": 102,
   "id": "2e8aa9e3",
   "metadata": {
    "scrolled": true
   },
   "outputs": [
    {
     "name": "stdout",
     "output_type": "stream",
     "text": [
      "40\n"
     ]
    }
   ],
   "source": [
    "# after shifting left\" for 2 place\n",
    "print(int(0b101000))"
   ]
  }
 ],
 "metadata": {
  "kernelspec": {
   "display_name": "Python 3 (ipykernel)",
   "language": "python",
   "name": "python3"
  },
  "language_info": {
   "codemirror_mode": {
    "name": "ipython",
    "version": 3
   },
   "file_extension": ".py",
   "mimetype": "text/x-python",
   "name": "python",
   "nbconvert_exporter": "python",
   "pygments_lexer": "ipython3",
   "version": "3.12.7"
  }
 },
 "nbformat": 4,
 "nbformat_minor": 5
}
