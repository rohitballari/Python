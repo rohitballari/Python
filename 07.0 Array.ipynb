{
 "cells": [
  {
   "cell_type": "markdown",
   "id": "f95deafd",
   "metadata": {},
   "source": [
    "##  Array"
   ]
  },
  {
   "cell_type": "markdown",
   "id": "e85d6653",
   "metadata": {},
   "source": [
    "An array is a collection of items.      \n",
    "The idea is to store multiple items of the same type together (so its work faster than list)"
   ]
  },
  {
   "cell_type": "markdown",
   "id": "2b48ee2b",
   "metadata": {},
   "source": [
    "### Creating a Array\n",
    "\n",
    "Array in Python can be created by importing array module. \n",
    "\n",
    "syntax:     \n",
    "array(data_type,value_list)"
   ]
  },
  {
   "cell_type": "code",
   "execution_count": 1,
   "id": "76050cd8",
   "metadata": {},
   "outputs": [],
   "source": [
    "# Importing array package\n",
    "\n",
    "import array as arr"
   ]
  },
  {
   "cell_type": "code",
   "execution_count": 3,
   "id": "7be3e1f7",
   "metadata": {},
   "outputs": [
    {
     "data": {
      "text/plain": [
       "array('i', [2, 1, 3])"
      ]
     },
     "execution_count": 3,
     "metadata": {},
     "output_type": "execute_result"
    }
   ],
   "source": [
    "# array with int datatype\n",
    "# Create an array of signed integers (typecode 'i')\n",
    "num = arr.array('i',[2,1,3])\n",
    "num"
   ]
  },
  {
   "cell_type": "code",
   "execution_count": 5,
   "id": "6b4765fc",
   "metadata": {},
   "outputs": [
    {
     "name": "stdout",
     "output_type": "stream",
     "text": [
      "<class 'array.array'>\n"
     ]
    }
   ],
   "source": [
    "print(type(num))"
   ]
  },
  {
   "cell_type": "markdown",
   "id": "2f1f9732",
   "metadata": {},
   "source": [
    "### Accessing elements in the array - Array Indexing"
   ]
  },
  {
   "cell_type": "code",
   "execution_count": 7,
   "id": "e4a009f2",
   "metadata": {},
   "outputs": [
    {
     "data": {
      "text/plain": [
       "3"
      ]
     },
     "execution_count": 7,
     "metadata": {},
     "output_type": "execute_result"
    }
   ],
   "source": [
    "num[2]"
   ]
  },
  {
   "cell_type": "code",
   "execution_count": 9,
   "id": "cbc0b99e-ff67-4cb5-997b-d28a6da9d8d6",
   "metadata": {},
   "outputs": [
    {
     "data": {
      "text/plain": [
       "2"
      ]
     },
     "execution_count": 9,
     "metadata": {},
     "output_type": "execute_result"
    }
   ],
   "source": [
    "num[0]"
   ]
  },
  {
   "cell_type": "markdown",
   "id": "f6df9e55",
   "metadata": {},
   "source": [
    "### Array Slicing"
   ]
  },
  {
   "cell_type": "code",
   "execution_count": 11,
   "id": "528a1c69",
   "metadata": {},
   "outputs": [
    {
     "data": {
      "text/plain": [
       "array('i', [1, 3])"
      ]
     },
     "execution_count": 11,
     "metadata": {},
     "output_type": "execute_result"
    }
   ],
   "source": [
    "num[1:3]"
   ]
  },
  {
   "cell_type": "code",
   "execution_count": 13,
   "id": "09f4bcad",
   "metadata": {},
   "outputs": [
    {
     "ename": "TypeError",
     "evalue": "'list' object cannot be interpreted as an integer",
     "output_type": "error",
     "traceback": [
      "\u001b[1;31m---------------------------------------------------------------------------\u001b[0m",
      "\u001b[1;31mTypeError\u001b[0m                                 Traceback (most recent call last)",
      "Cell \u001b[1;32mIn[13], line 2\u001b[0m\n\u001b[0;32m      1\u001b[0m \u001b[38;5;66;03m# now will try to create multi dimentional array\u001b[39;00m\n\u001b[1;32m----> 2\u001b[0m num1 \u001b[38;5;241m=\u001b[39m arr\u001b[38;5;241m.\u001b[39marray(\u001b[38;5;124m'\u001b[39m\u001b[38;5;124mi\u001b[39m\u001b[38;5;124m'\u001b[39m,[[\u001b[38;5;241m1\u001b[39m,\u001b[38;5;241m23\u001b[39m,\u001b[38;5;241m5\u001b[39m],[\u001b[38;5;241m9\u001b[39m,\u001b[38;5;241m2\u001b[39m,\u001b[38;5;241m32\u001b[39m]])\n",
      "\u001b[1;31mTypeError\u001b[0m: 'list' object cannot be interpreted as an integer"
     ]
    }
   ],
   "source": [
    "# now will try to create multi dimentional array\n",
    "num1 = arr.array('i',[[1,23,5],[9,2,32]])      "
   ]
  },
  {
   "cell_type": "markdown",
   "id": "7591783a",
   "metadata": {
    "jp-MarkdownHeadingCollapsed": true
   },
   "source": [
    "### Note: If you want to create multidimentional array you want to use numpy library"
   ]
  }
 ],
 "metadata": {
  "kernelspec": {
   "display_name": "Python 3 (ipykernel)",
   "language": "python",
   "name": "python3"
  },
  "language_info": {
   "codemirror_mode": {
    "name": "ipython",
    "version": 3
   },
   "file_extension": ".py",
   "mimetype": "text/x-python",
   "name": "python",
   "nbconvert_exporter": "python",
   "pygments_lexer": "ipython3",
   "version": "3.12.7"
  }
 },
 "nbformat": 4,
 "nbformat_minor": 5
}
