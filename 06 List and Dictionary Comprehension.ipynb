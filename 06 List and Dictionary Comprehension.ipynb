{
 "cells": [
  {
   "cell_type": "markdown",
   "id": "3f4e3174",
   "metadata": {},
   "source": [
    "## List Comprehension"
   ]
  },
  {
   "cell_type": "code",
   "execution_count": null,
   "id": "4b9c1457-326c-4f16-92ed-a42f8d06feb0",
   "metadata": {},
   "outputs": [],
   "source": [
    "output = []\n",
    "subjects = ['excel','MySQL','EPython','Machine Learning']\n",
    "for i in subjects:\n",
    "    if i[0].lower() == 'e':\n",
    "        output.append(i)\n",
    "print(output)"
   ]
  },
  {
   "cell_type": "code",
   "execution_count": null,
   "id": "6f0d63df-cf12-4f3b-88aa-49971330363a",
   "metadata": {},
   "outputs": [],
   "source": [
    "output = [i for i in subjects  if i[0].lower() == 'e']\n",
    "print(output)"
   ]
  },
  {
   "cell_type": "code",
   "execution_count": null,
   "id": "b4a9f7c1-1982-43eb-b80e-653a575fef6a",
   "metadata": {},
   "outputs": [],
   "source": [
    "output  = [] \n",
    "a = [23,44,45,85,42,24,77,42,45,90]\n",
    "for i in a:\n",
    "    if i%2==0:\n",
    "        output.append('even')\n",
    "    else:\n",
    "        output.append('odd')\n",
    "output"
   ]
  },
  {
   "cell_type": "code",
   "execution_count": null,
   "id": "1c4f9a7e-e527-4489-ac1b-b96e9bed18fd",
   "metadata": {},
   "outputs": [],
   "source": [
    "output1 = [(i,'even') if i%2==0  else (i,'odd') for i in a]\n",
    "print(output1)"
   ]
  },
  {
   "cell_type": "code",
   "execution_count": null,
   "id": "7f644d07-1701-49cd-be42-2b25c6d4d4c9",
   "metadata": {},
   "outputs": [],
   "source": [
    "output  = [] \n",
    "a = [23,44,45,85,42,24,77,42,45,90]\n",
    "for i in a:\n",
    "    if i%2==0:\n",
    "        output.append((i,'even'))\n",
    "    else:\n",
    "        output.append((i,'odd'))\n",
    "print(output)"
   ]
  },
  {
   "cell_type": "code",
   "execution_count": 3,
   "id": "daae7bef-f741-499a-9b11-231b343dec0f",
   "metadata": {},
   "outputs": [
    {
     "name": "stdin",
     "output_type": "stream",
     "text": [
      "enter the marks 50\n"
     ]
    },
    {
     "name": "stdout",
     "output_type": "stream",
     "text": [
      "T4\n"
     ]
    }
   ],
   "source": [
    "marks = int(input('enter the marks'))\n",
    "\n",
    "if marks >=90:\n",
    "    print('T1')\n",
    "elif marks >=70:\n",
    "    print('T2')\n",
    "elif marks >=60:\n",
    "    print('T3')\n",
    "else:\n",
    "    print('T4')"
   ]
  },
  {
   "cell_type": "code",
   "execution_count": 5,
   "id": "efc88a16-01fe-4ee8-b5f1-62c916f6f5ba",
   "metadata": {},
   "outputs": [
    {
     "name": "stdin",
     "output_type": "stream",
     "text": [
      "enter the marks 95\n"
     ]
    },
    {
     "data": {
      "text/plain": [
       "['T1']"
      ]
     },
     "execution_count": 5,
     "metadata": {},
     "output_type": "execute_result"
    }
   ],
   "source": [
    "marks = int(input('enter the marks'))\n",
    "['T1'  if marks >=90 else 'T2'  if marks >=70 else 'T3'  if marks >=60 else 'T4']"
   ]
  },
  {
   "cell_type": "code",
   "execution_count": 10,
   "id": "88801001-ed9b-4e47-8747-48a22a1b5dd4",
   "metadata": {},
   "outputs": [
    {
     "data": {
      "text/plain": [
       "[(85, 'T2'),\n",
       " (65, 'T3'),\n",
       " (42, 'T4'),\n",
       " (89, 'T2'),\n",
       " (22, 'T4'),\n",
       " (78, 'T2'),\n",
       " (98, 'T1')]"
      ]
     },
     "execution_count": 10,
     "metadata": {},
     "output_type": "execute_result"
    }
   ],
   "source": [
    "#newlist = [expression if condition == True else expression if condition == True else expression for item in iterable] # using if elif and else statement\n",
    "a=[85,65,42,89,22,78,98]\n",
    "[(i,\"T1\") if i>90 else (i,\"T2\") if i>70 else (i,\"T3\") if i>50 else (i,\"T4\") for i in a]"
   ]
  },
  {
   "cell_type": "code",
   "execution_count": 1,
   "id": "932c3ea0-4c27-459b-8429-969650141700",
   "metadata": {},
   "outputs": [],
   "source": [
    "marks=[40,20,50,60,70]"
   ]
  },
  {
   "cell_type": "code",
   "execution_count": 19,
   "id": "68ace84e-d8ea-4681-9969-6fd96be1cd47",
   "metadata": {},
   "outputs": [
    {
     "data": {
      "text/plain": [
       "['fail', 'fail', 'pass', 'pass', 'pass']"
      ]
     },
     "execution_count": 19,
     "metadata": {},
     "output_type": "execute_result"
    }
   ],
   "source": [
    "[ \"pass\" if i>40 else \"fail\" for i in marks]"
   ]
  },
  {
   "cell_type": "code",
   "execution_count": null,
   "id": "ff5f6454-883f-4d54-af5e-16c448abe408",
   "metadata": {},
   "outputs": [],
   "source": []
  },
  {
   "cell_type": "code",
   "execution_count": null,
   "id": "8c93e772-08e1-4c1e-8429-80792d67fbeb",
   "metadata": {},
   "outputs": [],
   "source": []
  },
  {
   "cell_type": "code",
   "execution_count": null,
   "id": "f882f70e-7bbf-4636-9a2f-f9f57dd877a1",
   "metadata": {},
   "outputs": [],
   "source": []
  },
  {
   "cell_type": "code",
   "execution_count": null,
   "id": "49c5c9de-81d4-4f50-8822-d364029116c5",
   "metadata": {},
   "outputs": [],
   "source": []
  },
  {
   "cell_type": "code",
   "execution_count": 21,
   "id": "f3db2d9f-2f74-4576-9763-873fe4a1e7dd",
   "metadata": {},
   "outputs": [],
   "source": [
    "marks=[40,20,50,60,70]"
   ]
  },
  {
   "cell_type": "code",
   "execution_count": 35,
   "id": "6b0ba7f2-678e-451a-865c-4fd0c14a06ac",
   "metadata": {},
   "outputs": [
    {
     "data": {
      "text/plain": [
       "[(40, 'fail'), (20, 'fail'), (50, 'pass'), (60, 'pass'), (70, 'pass')]"
      ]
     },
     "execution_count": 35,
     "metadata": {},
     "output_type": "execute_result"
    }
   ],
   "source": [
    "[ (i,\"pass\" )if i>40 else (i,\"fail\")for i in marks] "
   ]
  },
  {
   "cell_type": "code",
   "execution_count": null,
   "id": "6c833f59-b5ed-49c3-b450-9598ea1af6b8",
   "metadata": {},
   "outputs": [],
   "source": []
  },
  {
   "cell_type": "code",
   "execution_count": null,
   "id": "9da5269c-91d4-4263-98fc-ec08b9518531",
   "metadata": {},
   "outputs": [],
   "source": []
  },
  {
   "cell_type": "code",
   "execution_count": null,
   "id": "5b5f556a-5937-43b7-9f9e-141819ea7cf6",
   "metadata": {},
   "outputs": [],
   "source": []
  },
  {
   "cell_type": "code",
   "execution_count": null,
   "id": "ca298db4-8852-47fd-8eb3-d8ba0299fa84",
   "metadata": {},
   "outputs": [],
   "source": []
  },
  {
   "cell_type": "code",
   "execution_count": null,
   "id": "4b4979a1-6b68-4e1a-b08d-78b4b649eef1",
   "metadata": {},
   "outputs": [],
   "source": []
  },
  {
   "cell_type": "code",
   "execution_count": null,
   "id": "1cfead50-b5b0-4653-a43e-11bbadea5f6e",
   "metadata": {},
   "outputs": [],
   "source": []
  },
  {
   "cell_type": "code",
   "execution_count": null,
   "id": "457af911-fc60-48ab-9ad3-275468bfa262",
   "metadata": {},
   "outputs": [],
   "source": []
  },
  {
   "cell_type": "code",
   "execution_count": null,
   "id": "c2f16dee-3f2c-4c01-a35b-2177587b1a27",
   "metadata": {},
   "outputs": [],
   "source": []
  },
  {
   "cell_type": "code",
   "execution_count": null,
   "id": "04723c8c-f446-4e7d-b710-402798c7612f",
   "metadata": {},
   "outputs": [],
   "source": []
  },
  {
   "cell_type": "code",
   "execution_count": null,
   "id": "bc145aa2-ac78-40de-b074-03b0446a073e",
   "metadata": {},
   "outputs": [],
   "source": []
  },
  {
   "cell_type": "code",
   "execution_count": null,
   "id": "2ef485ad-ea65-44fa-a7d4-2dfb117946e2",
   "metadata": {},
   "outputs": [],
   "source": []
  },
  {
   "cell_type": "code",
   "execution_count": null,
   "id": "e5b15f26-1d32-42c8-88d9-00d3ab9f8ecd",
   "metadata": {},
   "outputs": [],
   "source": []
  },
  {
   "cell_type": "code",
   "execution_count": 18,
   "id": "87f71d04-1bf0-408b-a8be-e54f6fc90964",
   "metadata": {},
   "outputs": [
    {
     "name": "stdin",
     "output_type": "stream",
     "text": [
      "Enter your earnings:  45000\n"
     ]
    },
    {
     "name": "stdout",
     "output_type": "stream",
     "text": [
      "Interest = 6000.0\n"
     ]
    }
   ],
   "source": [
    "#Assignment\n",
    "taxable_income = int(input('Enter your earnings: '))\n",
    "interest = [0 if taxable_income <= 10000 else (taxable_income - 10000) * 0.1 if taxable_income <= 20000 else\n",
    "            (taxable_income - 20000) * 0.2 + 10000 * 0.1\n",
    "][0]\n",
    "\n",
    "print('Interest =', interest)"
   ]
  },
  {
   "cell_type": "code",
   "execution_count": null,
   "id": "8442fe1a-6536-4bcc-9d79-1ba2c12abd1a",
   "metadata": {},
   "outputs": [],
   "source": [
    "tax="
   ]
  },
  {
   "cell_type": "code",
   "execution_count": null,
   "id": "d4158cb4-f078-44af-8275-777ada9be949",
   "metadata": {},
   "outputs": [],
   "source": []
  },
  {
   "cell_type": "code",
   "execution_count": null,
   "id": "ccc8fc5a-3c28-41e6-b15b-433e534aaf00",
   "metadata": {},
   "outputs": [],
   "source": [
    "marks = int(input('enter your marks'))\n",
    "if marks >= 90:\n",
    "    print('t1')\n",
    "elif marks >= 70:\n",
    "    print('t2')\n",
    "elif marks>=60:\n",
    "    print('t3')\n",
    "else:\n",
    "    print('t4')"
   ]
  },
  {
   "cell_type": "markdown",
   "id": "ed12cb01",
   "metadata": {},
   "source": [
    "### Syntax\n",
    "\n",
    "newlist = [expression for item in iterable]    # without any condition      \n",
    "newlist = [expression for item in iterable if condition == True]     # with one condition             \n",
    "newlist = [expression if condition == True else expression for item in iterable]    # using if and else statement     \n",
    "newlist = [expression if condition == True else expression  if condition == True else expression  for item in iterable]   # using if elif and else statement     \n",
    "\n",
    "Python List comprehension provides a much more short syntax for creating a new list based on the values of an existing list."
   ]
  },
  {
   "cell_type": "code",
   "execution_count": 1,
   "id": "abc9eaa1-106e-4f92-941c-2514ac14cc8b",
   "metadata": {},
   "outputs": [
    {
     "data": {
      "text/plain": [
       "[0, 4, 16, 36, 64]"
      ]
     },
     "execution_count": 1,
     "metadata": {},
     "output_type": "execute_result"
    }
   ],
   "source": [
    "[i**2 for i in range(10) if i%2 == 0]"
   ]
  },
  {
   "cell_type": "code",
   "execution_count": null,
   "id": "3ba09909-4142-49ae-8ef2-87a8285c7b16",
   "metadata": {},
   "outputs": [],
   "source": [
    "[expression if condition == True else expression for item in iterable}"
   ]
  },
  {
   "cell_type": "code",
   "execution_count": 7,
   "id": "62cb6adc-fdbb-4fa6-a8e3-61dd599e2997",
   "metadata": {},
   "outputs": [
    {
     "data": {
      "text/plain": [
       "[(85, 'odd'),\n",
       " (65, 'odd'),\n",
       " (43, 'odd'),\n",
       " (89, 'odd'),\n",
       " (22, 'even'),\n",
       " (78, 'even')]"
      ]
     },
     "execution_count": 7,
     "metadata": {},
     "output_type": "execute_result"
    }
   ],
   "source": [
    "a = [85,65,43,89,22,78]\n",
    "[(i,'even') if i%2==0 else (i,'odd') for i in a]"
   ]
  },
  {
   "cell_type": "code",
   "execution_count": null,
   "id": "e7cc625f-e901-4d55-9345-10dbb1e0564c",
   "metadata": {},
   "outputs": [],
   "source": []
  },
  {
   "cell_type": "code",
   "execution_count": null,
   "id": "77ed6f1d-06ec-4b48-b3dd-da28feeb63b1",
   "metadata": {},
   "outputs": [],
   "source": [
    "lis = [2,8,12,36,4]\n",
    "output = []\n",
    "for i in lis:\n",
    "    output.append(i**2)\n",
    "print(output)"
   ]
  },
  {
   "cell_type": "code",
   "execution_count": null,
   "id": "5fa61ac7-d8b7-44a2-863c-a3dd5c0153c5",
   "metadata": {},
   "outputs": [],
   "source": [
    "[i**2 for i in lis]"
   ]
  },
  {
   "cell_type": "code",
   "execution_count": null,
   "id": "17d65788-1495-4d1e-a123-0af95b72b764",
   "metadata": {},
   "outputs": [],
   "source": []
  },
  {
   "cell_type": "code",
   "execution_count": null,
   "id": "08ddc65f-c7b8-4958-b7c8-55cb1d16d4a6",
   "metadata": {},
   "outputs": [],
   "source": []
  },
  {
   "cell_type": "code",
   "execution_count": 12,
   "id": "7ccaf5c0",
   "metadata": {},
   "outputs": [
    {
     "name": "stdout",
     "output_type": "stream",
     "text": [
      "excel\n",
      "EPython\n"
     ]
    }
   ],
   "source": [
    "subjects = ['excel','MySQL','EPython','Machine Learning']\n",
    "for i in subjects:\n",
    "    if i.lower()[0]=='e':\n",
    "        print(i)"
   ]
  },
  {
   "cell_type": "code",
   "execution_count": 14,
   "id": "3ddb747f",
   "metadata": {},
   "outputs": [
    {
     "data": {
      "text/plain": [
       "['excel', 'EPython']"
      ]
     },
     "execution_count": 14,
     "metadata": {},
     "output_type": "execute_result"
    }
   ],
   "source": [
    "subjects = ['excel','MySQL','EPython','Machine Learning']\n",
    "[i   for i in subjects if i.lower()[0]=='e']"
   ]
  },
  {
   "cell_type": "code",
   "execution_count": null,
   "id": "2e140786",
   "metadata": {},
   "outputs": [],
   "source": [
    "# Will use formal for loop and will compare with list comprehension\n",
    "# will convert all the element in the list in upper case\n",
    "\n",
    "subjects = ['Excel','MySQL','Python','Machine Learning']\n",
    "new_subject = []\n",
    "\n",
    "for i in subjects:\n",
    "    new_subject.append(i.upper())\n",
    "print(new_subject)"
   ]
  },
  {
   "cell_type": "code",
   "execution_count": null,
   "id": "ed7da1e9",
   "metadata": {},
   "outputs": [],
   "source": [
    "# Now will use list comprehension to write the code in much more easier way\n",
    "\n",
    "new_subject = [i.upper()  for i in subjects]\n",
    "print(new_subject)"
   ]
  },
  {
   "cell_type": "markdown",
   "id": "7771fd54",
   "metadata": {},
   "source": [
    "### Condition\n",
    "\n",
    "The condition is like a filter that only accepts the items that valuate to True.\n"
   ]
  },
  {
   "cell_type": "code",
   "execution_count": null,
   "id": "4a29f74d",
   "metadata": {},
   "outputs": [],
   "source": [
    "# Lets print all the subjects which contains E in it    \n",
    "for i in subjects:\n",
    "    if 'E' in i:\n",
    "        print(i)     # You can see that it is printing only Excel because it is case sensitive "
   ]
  },
  {
   "cell_type": "code",
   "execution_count": null,
   "id": "7a6bcae8",
   "metadata": {},
   "outputs": [],
   "source": [
    "# Will write the same code in different way\n",
    "for i in subjects:\n",
    "    if 'E' in i.upper():\n",
    "        print(i)"
   ]
  },
  {
   "cell_type": "code",
   "execution_count": null,
   "id": "45c7cf9f",
   "metadata": {},
   "outputs": [],
   "source": [
    "# Now will use list comprehension to write the code in more consize way\n",
    "[i   for i in subjects if 'E' in i.upper()]"
   ]
  },
  {
   "cell_type": "markdown",
   "id": "9e010731",
   "metadata": {},
   "source": [
    "### Now will try to use if and else statement "
   ]
  },
  {
   "cell_type": "code",
   "execution_count": null,
   "id": "d8b4b310",
   "metadata": {},
   "outputs": [],
   "source": [
    "for i in range(1,11):\n",
    "    if i%2==0:\n",
    "        print(i,'Even')\n",
    "    else :\n",
    "        print(i,'Odd')"
   ]
  },
  {
   "cell_type": "code",
   "execution_count": null,
   "id": "1ee35024",
   "metadata": {},
   "outputs": [],
   "source": [
    "odd_even_check = [(i,'Even') if i%2==0 else (i,'Odd') for i in range(1,11)]\n",
    "print(odd_even_check)"
   ]
  },
  {
   "cell_type": "markdown",
   "id": "91eea6db",
   "metadata": {},
   "source": [
    "## Assingment Question"
   ]
  },
  {
   "attachments": {
    "image.png": {
     "image/png": "[encoded data removed]"
    }
   },
   "cell_type": "markdown",
   "id": "6d105611",
   "metadata": {},
   "source": [
    "![image.png](attachment:image.png)"
   ]
  },
  {
   "cell_type": "code",
   "execution_count": null,
   "id": "1b74fd00-3769-43e1-b37f-87af98e94bf7",
   "metadata": {},
   "outputs": [],
   "source": [
    "tax = if "
   ]
  },
  {
   "cell_type": "code",
   "execution_count": null,
   "id": "f9afdb8b",
   "metadata": {},
   "outputs": [],
   "source": [
    "def tax(income):\n",
    "    output = ['Tax Free Enjoy'  if income<=10000 else (income-10000)*.10  if income>10000 and income<=20000 else ((income-10000)*0+(10000)*.10+(income-20000)*.20)]\n",
    "    print(output)"
   ]
  },
  {
   "cell_type": "code",
   "execution_count": null,
   "id": "3fafdbef-a6b5-42e6-b87b-c8566d18e2df",
   "metadata": {},
   "outputs": [],
   "source": [
    "[ ]"
   ]
  },
  {
   "cell_type": "code",
   "execution_count": null,
   "id": "c1bc9c5b",
   "metadata": {},
   "outputs": [],
   "source": [
    "tax(7000000)"
   ]
  },
  {
   "cell_type": "markdown",
   "id": "3e4cd9ad",
   "metadata": {},
   "source": [
    "### Expected Output:\n",
    "\n",
    "For example, suppose the taxable income is 45000 the income tax payable is\n",
    "\n",
    "10000  *0% + 10000*    10%  + 25000    20% = $6000."
   ]
  },
  {
   "cell_type": "code",
   "execution_count": null,
   "id": "bd0530d2",
   "metadata": {
    "scrolled": true
   },
   "outputs": [],
   "source": [
    "taxable_income = int(input('Enter your salary'))\n",
    "\n",
    "if taxable_income <=10000:\n",
    "    print('Zero Tax')\n",
    "elif taxable_income >10000 and taxable_income <=20000:\n",
    "    print('intrest amount =',(taxable_income -10000)*0.1)\n",
    "else:\n",
    "    print('intrest amount =',(taxable_income-20000)*.2+(10000)*.1)"
   ]
  },
  {
   "cell_type": "code",
   "execution_count": 37,
   "id": "9551e76d",
   "metadata": {},
   "outputs": [
    {
     "name": "stdin",
     "output_type": "stream",
     "text": [
      "Enter the income 45000\n"
     ]
    },
    {
     "data": {
      "text/plain": [
       "[6000.0]"
      ]
     },
     "execution_count": 37,
     "metadata": {},
     "output_type": "execute_result"
    }
   ],
   "source": [
    "#lis = [expression if condition == True else expression if condition == True else expression for item in iterable]\n",
    "a=int(input('Enter the income'))\n",
    "\n",
    "[ 'No Tax' if a<=10000 else (a-10000)*.1 if a>10000 and a<=20000 else ((10000*0.1)+(a-20000)*.2)]"
   ]
  },
  {
   "cell_type": "code",
   "execution_count": 43,
   "id": "825dbb8d-8ecd-4480-98a2-c35614f3524d",
   "metadata": {},
   "outputs": [
    {
     "name": "stdin",
     "output_type": "stream",
     "text": [
      "Enter the income 45000\n"
     ]
    },
    {
     "data": {
      "text/plain": [
       "[6000.0]"
      ]
     },
     "execution_count": 43,
     "metadata": {},
     "output_type": "execute_result"
    }
   ],
   "source": [
    "a=int(input('Enter the income'))\n",
    "['No Tax' if a<=10000 else (a-10000)*.1 if a>10000 and a<=20000 else ((10000*0.1)+(a-20000)*.2)]"
   ]
  },
  {
   "cell_type": "code",
   "execution_count": 49,
   "id": "19f14cd5-5209-46a2-8b0e-0681f33538e0",
   "metadata": {},
   "outputs": [
    {
     "name": "stdin",
     "output_type": "stream",
     "text": [
      "Enter the income 45000\n"
     ]
    },
    {
     "data": {
      "text/plain": [
       "[6000.0]"
      ]
     },
     "execution_count": 49,
     "metadata": {},
     "output_type": "execute_result"
    }
   ],
   "source": [
    "a=int(input('Enter the income'))\n",
    "[' No Tax' if a<=10000 else (a-10000)*.1 if a>10000 and a<=20000 else ((10000*.1)+(a-20000)*.2)]"
   ]
  },
  {
   "cell_type": "code",
   "execution_count": 53,
   "id": "e869ba7d-65f7-4049-b7ba-b87275e8f389",
   "metadata": {},
   "outputs": [
    {
     "name": "stdin",
     "output_type": "stream",
     "text": [
      "Enter the Income: 45000\n"
     ]
    },
    {
     "data": {
      "text/plain": [
       "[6000.0]"
      ]
     },
     "execution_count": 53,
     "metadata": {},
     "output_type": "execute_result"
    }
   ],
   "source": [
    "a=int(input(\"Enter the Income:\"))\n",
    "['Tax Free' if a<=10000 else (a-10000)*0.1 if a>10000 and a<=20000 else ((10000*0.1)+(a-20000)*0.2)]"
   ]
  },
  {
   "cell_type": "code",
   "execution_count": 55,
   "id": "c60ffb2d-aa1f-418c-81d0-079e72913618",
   "metadata": {},
   "outputs": [
    {
     "name": "stdin",
     "output_type": "stream",
     "text": [
      "Enter the Income: 45000\n"
     ]
    },
    {
     "data": {
      "text/plain": [
       "[6000.0]"
      ]
     },
     "execution_count": 55,
     "metadata": {},
     "output_type": "execute_result"
    }
   ],
   "source": [
    "a=int(input(\"Enter the Income:\"))\n",
    "['Tax Free' if a<=10000 else (a-10000)*0.1 if a<=10000 and a<=20000 else ((10000*.1)+(a-20000)*0.2) ]"
   ]
  },
  {
   "cell_type": "markdown",
   "id": "4c735d6d",
   "metadata": {},
   "source": [
    "## Assingments "
   ]
  },
  {
   "cell_type": "code",
   "execution_count": null,
   "id": "732880c3",
   "metadata": {},
   "outputs": [],
   "source": [
    "string = \"Practice Problems to Drill List Comprehension in Your Head.\""
   ]
  },
  {
   "cell_type": "raw",
   "id": "74383290",
   "metadata": {},
   "source": [
    "1.\tFind all of the numbers from 1–1000 that are divisible by 8\n",
    "2.\tFind all of the numbers from 1–1000 that have a 6 in them\n",
    "3.\tCount the number of spaces in a string (use string above)\n",
    "4.\tRemove all of the vowels in a string (use string above)\n",
    "5.\tFind all of the words in a string that are less than 5 letters (use string above)\n",
    "6.\tUse a dictionary comprehension to count the length of each word in a sentence (use string above)"
   ]
  },
  {
   "cell_type": "code",
   "execution_count": 22,
   "id": "d958733e-4eae-4591-900d-8df2dc3ff4fb",
   "metadata": {},
   "outputs": [
    {
     "name": "stdout",
     "output_type": "stream",
     "text": [
      "[8, 16, 24, 32, 40, 48, 56, 64, 72, 80, 88, 96, 104, 112, 120, 128, 136, 144, 152, 160, 168, 176, 184, 192, 200, 208, 216, 224, 232, 240, 248, 256, 264, 272, 280, 288, 296, 304, 312, 320, 328, 336, 344, 352, 360, 368, 376, 384, 392, 400, 408, 416, 424, 432, 440, 448, 456, 464, 472, 480, 488, 496, 504, 512, 520, 528, 536, 544, 552, 560, 568, 576, 584, 592, 600, 608, 616, 624, 632, 640, 648, 656, 664, 672, 680, 688, 696, 704, 712, 720, 728, 736, 744, 752, 760, 768, 776, 784, 792, 800, 808, 816, 824, 832, 840, 848, 856, 864, 872, 880, 888, 896, 904, 912, 920, 928, 936, 944, 952, 960, 968, 976, 984, 992, 1000]\n"
     ]
    }
   ],
   "source": [
    "#Find all of the numbers from 1-1000 that are divisible by 8\n",
    "print([i for i in range(1,1001) if i%8==0])"
   ]
  },
  {
   "cell_type": "code",
   "execution_count": 32,
   "id": "7ee9a79e-7bf7-45aa-a732-71997df55233",
   "metadata": {},
   "outputs": [
    {
     "name": "stdout",
     "output_type": "stream",
     "text": [
      "[6, 16, 26, 36, 46, 56, 60, 61, 62, 63, 64, 65, 66, 67, 68, 69, 76, 86, 96, 106, 116, 126, 136, 146, 156, 160, 161, 162, 163, 164, 165, 166, 167, 168, 169, 176, 186, 196, 206, 216, 226, 236, 246, 256, 260, 261, 262, 263, 264, 265, 266, 267, 268, 269, 276, 286, 296, 306, 316, 326, 336, 346, 356, 360, 361, 362, 363, 364, 365, 366, 367, 368, 369, 376, 386, 396, 406, 416, 426, 436, 446, 456, 460, 461, 462, 463, 464, 465, 466, 467, 468, 469, 476, 486, 496, 506, 516, 526, 536, 546, 556, 560, 561, 562, 563, 564, 565, 566, 567, 568, 569, 576, 586, 596, 600, 601, 602, 603, 604, 605, 606, 607, 608, 609, 610, 611, 612, 613, 614, 615, 616, 617, 618, 619, 620, 621, 622, 623, 624, 625, 626, 627, 628, 629, 630, 631, 632, 633, 634, 635, 636, 637, 638, 639, 640, 641, 642, 643, 644, 645, 646, 647, 648, 649, 650, 651, 652, 653, 654, 655, 656, 657, 658, 659, 660, 661, 662, 663, 664, 665, 666, 667, 668, 669, 670, 671, 672, 673, 674, 675, 676, 677, 678, 679, 680, 681, 682, 683, 684, 685, 686, 687, 688, 689, 690, 691, 692, 693, 694, 695, 696, 697, 698, 699, 706, 716, 726, 736, 746, 756, 760, 761, 762, 763, 764, 765, 766, 767, 768, 769, 776, 786, 796, 806, 816, 826, 836, 846, 856, 860, 861, 862, 863, 864, 865, 866, 867, 868, 869, 876, 886, 896, 906, 916, 926, 936, 946, 956, 960, 961, 962, 963, 964, 965, 966, 967, 968, 969, 976, 986, 996]\n",
      "271\n"
     ]
    }
   ],
   "source": [
    "#.Find all the numbers from 1-1000 that have a 6 in a item\n",
    "print([i for i in range(1,1001) if '6' in str(i)])\n",
    "print(len([i for i in range(1,1001) if '6' in str(i)]))"
   ]
  },
  {
   "cell_type": "code",
   "execution_count": 50,
   "id": "25c53388-7e72-46bc-a80f-250923faa789",
   "metadata": {},
   "outputs": [],
   "source": [
    "#3.\tCount the number of spaces in a string (use string above)\n",
    "string = \"Practice Problems to Drill List Comprehension in Your Head.\"\n"
   ]
  },
  {
   "cell_type": "code",
   "execution_count": 44,
   "id": "db8500fc-401d-4846-900f-233556796b7b",
   "metadata": {},
   "outputs": [
    {
     "data": {
      "text/plain": [
       "8"
      ]
     },
     "execution_count": 44,
     "metadata": {},
     "output_type": "execute_result"
    }
   ],
   "source": [
    "string.count(' ')"
   ]
  },
  {
   "cell_type": "code",
   "execution_count": 48,
   "id": "b01f9f69-75c1-4971-870d-8415170e8dfb",
   "metadata": {},
   "outputs": [
    {
     "data": {
      "text/plain": [
       "8"
      ]
     },
     "execution_count": 48,
     "metadata": {},
     "output_type": "execute_result"
    }
   ],
   "source": [
    "len([i  for i in string if i == ' '])"
   ]
  },
  {
   "cell_type": "code",
   "execution_count": null,
   "id": "7d7b4303-388c-4fc1-bc77-cce8b53221e1",
   "metadata": {},
   "outputs": [],
   "source": []
  },
  {
   "cell_type": "code",
   "execution_count": 3,
   "id": "6f042792-2257-4459-977f-d9e93d3bd90e",
   "metadata": {},
   "outputs": [
    {
     "name": "stdout",
     "output_type": "stream",
     "text": [
      "[8, 16, 24, 32, 40, 48, 56, 64, 72, 80, 88, 96, 104, 112, 120, 128, 136, 144, 152, 160, 168, 176, 184, 192, 200, 208, 216, 224, 232, 240, 248, 256, 264, 272, 280, 288, 296, 304, 312, 320, 328, 336, 344, 352, 360, 368, 376, 384, 392, 400, 408, 416, 424, 432, 440, 448, 456, 464, 472, 480, 488, 496, 504, 512, 520, 528, 536, 544, 552, 560, 568, 576, 584, 592, 600, 608, 616, 624, 632, 640, 648, 656, 664, 672, 680, 688, 696, 704, 712, 720, 728, 736, 744, 752, 760, 768, 776, 784, 792, 800, 808, 816, 824, 832, 840, 848, 856, 864, 872, 880, 888, 896, 904, 912, 920, 928, 936, 944, 952, 960, 968, 976, 984, 992, 1000]\n"
     ]
    }
   ],
   "source": [
    "# 1.\tFind all of the numbers from 1–1000 that are divisible by 8\n",
    "\n",
    "output = []\n",
    "for i in range(1,1001):\n",
    "    if i%8 == 0:\n",
    "        output.append(i)\n",
    "print(output)"
   ]
  },
  {
   "cell_type": "code",
   "execution_count": 5,
   "id": "83f92732-c07b-4249-b3c6-ea07758fcb93",
   "metadata": {},
   "outputs": [
    {
     "name": "stdout",
     "output_type": "stream",
     "text": [
      "[8, 16, 24, 32, 40, 48, 56, 64, 72, 80, 88, 96, 104, 112, 120, 128, 136, 144, 152, 160, 168, 176, 184, 192, 200, 208, 216, 224, 232, 240, 248, 256, 264, 272, 280, 288, 296, 304, 312, 320, 328, 336, 344, 352, 360, 368, 376, 384, 392, 400, 408, 416, 424, 432, 440, 448, 456, 464, 472, 480, 488, 496, 504, 512, 520, 528, 536, 544, 552, 560, 568, 576, 584, 592, 600, 608, 616, 624, 632, 640, 648, 656, 664, 672, 680, 688, 696, 704, 712, 720, 728, 736, 744, 752, 760, 768, 776, 784, 792, 800, 808, 816, 824, 832, 840, 848, 856, 864, 872, 880, 888, 896, 904, 912, 920, 928, 936, 944, 952, 960, 968, 976, 984, 992, 1000]\n"
     ]
    }
   ],
   "source": [
    "output = [i  for i in range(1,1001) if i%8==0]\n",
    "print(output)"
   ]
  },
  {
   "cell_type": "code",
   "execution_count": 7,
   "id": "d60b1f4f-01cc-413e-8798-afcfcf13f1e2",
   "metadata": {},
   "outputs": [
    {
     "name": "stdout",
     "output_type": "stream",
     "text": [
      "[6, 16, 26, 36, 46, 56, 60, 61, 62, 63, 64, 65, 66, 67, 68, 69, 76, 86, 96, 106, 116, 126, 136, 146, 156, 160, 161, 162, 163, 164, 165, 166, 167, 168, 169, 176, 186, 196, 206, 216, 226, 236, 246, 256, 260, 261, 262, 263, 264, 265, 266, 267, 268, 269, 276, 286, 296, 306, 316, 326, 336, 346, 356, 360, 361, 362, 363, 364, 365, 366, 367, 368, 369, 376, 386, 396, 406, 416, 426, 436, 446, 456, 460, 461, 462, 463, 464, 465, 466, 467, 468, 469, 476, 486, 496, 506, 516, 526, 536, 546, 556, 560, 561, 562, 563, 564, 565, 566, 567, 568, 569, 576, 586, 596, 600, 601, 602, 603, 604, 605, 606, 607, 608, 609, 610, 611, 612, 613, 614, 615, 616, 617, 618, 619, 620, 621, 622, 623, 624, 625, 626, 627, 628, 629, 630, 631, 632, 633, 634, 635, 636, 637, 638, 639, 640, 641, 642, 643, 644, 645, 646, 647, 648, 649, 650, 651, 652, 653, 654, 655, 656, 657, 658, 659, 660, 661, 662, 663, 664, 665, 666, 667, 668, 669, 670, 671, 672, 673, 674, 675, 676, 677, 678, 679, 680, 681, 682, 683, 684, 685, 686, 687, 688, 689, 690, 691, 692, 693, 694, 695, 696, 697, 698, 699, 706, 716, 726, 736, 746, 756, 760, 761, 762, 763, 764, 765, 766, 767, 768, 769, 776, 786, 796, 806, 816, 826, 836, 846, 856, 860, 861, 862, 863, 864, 865, 866, 867, 868, 869, 876, 886, 896, 906, 916, 926, 936, 946, 956, 960, 961, 962, 963, 964, 965, 966, 967, 968, 969, 976, 986, 996]\n"
     ]
    }
   ],
   "source": [
    "# 2.\tFind all of the numbers from 1–1000 that have a 6 in them\n",
    "output = [i  for i in range(1,1001) if '6' in str(i)]\n",
    "print(output)"
   ]
  },
  {
   "cell_type": "code",
   "execution_count": 8,
   "id": "b73f7c1d-0c0d-452f-9c94-58647aa2fb23",
   "metadata": {},
   "outputs": [
    {
     "name": "stdout",
     "output_type": "stream",
     "text": [
      "8\n"
     ]
    }
   ],
   "source": [
    "# 3.\tCount the number of spaces in a string (use string above)\n",
    "string = \"Practice Problems to Drill List Comprehension in Your Head.\"\n",
    "\n",
    "a = 0\n",
    "for i in string:\n",
    "    if i ==' ':\n",
    "        a+=1\n",
    "print(a)"
   ]
  },
  {
   "cell_type": "code",
   "execution_count": 12,
   "id": "1f358ee9-158c-4981-967a-09c6dc407d68",
   "metadata": {},
   "outputs": [
    {
     "data": {
      "text/plain": [
       "8"
      ]
     },
     "execution_count": 12,
     "metadata": {},
     "output_type": "execute_result"
    }
   ],
   "source": [
    "string.count(' ')"
   ]
  },
  {
   "cell_type": "code",
   "execution_count": 18,
   "id": "da715328-004d-4049-8528-74a3afa6ee49",
   "metadata": {},
   "outputs": [
    {
     "name": "stdout",
     "output_type": "stream",
     "text": [
      "8\n"
     ]
    }
   ],
   "source": [
    "b = 0\n",
    "for i in string:\n",
    "    if i == ' ':\n",
    "        b+=1\n",
    "print(b)"
   ]
  },
  {
   "cell_type": "code",
   "execution_count": 20,
   "id": "e363d1b5-46a1-4d67-b197-36e232a42e8f",
   "metadata": {},
   "outputs": [
    {
     "data": {
      "text/plain": [
       "8"
      ]
     },
     "execution_count": 20,
     "metadata": {},
     "output_type": "execute_result"
    }
   ],
   "source": [
    "b = [] \n",
    "for i in string:\n",
    "    if i ==\" \":\n",
    "        b.append(i)\n",
    "len(b)"
   ]
  },
  {
   "cell_type": "code",
   "execution_count": 21,
   "id": "b5602354-b92a-42aa-b40f-4737fe73c682",
   "metadata": {},
   "outputs": [
    {
     "data": {
      "text/plain": [
       "[' ', ' ', ' ', ' ', ' ', ' ', ' ', ' ']"
      ]
     },
     "execution_count": 21,
     "metadata": {},
     "output_type": "execute_result"
    }
   ],
   "source": [
    "b"
   ]
  },
  {
   "cell_type": "code",
   "execution_count": 52,
   "id": "73249e54-37d7-47d7-b888-75a8b292c5f1",
   "metadata": {},
   "outputs": [
    {
     "data": {
      "text/plain": [
       "'Practice Problems to Drill List Comprehension in Your Head.'"
      ]
     },
     "execution_count": 52,
     "metadata": {},
     "output_type": "execute_result"
    }
   ],
   "source": [
    "# 4.\tRemove all of the vowels in a string (use string above)\n",
    "string"
   ]
  },
  {
   "cell_type": "code",
   "execution_count": 29,
   "id": "efcdfc57-abf2-48d5-b22f-d672486180a5",
   "metadata": {},
   "outputs": [
    {
     "data": {
      "text/plain": [
       "'Prctc Prblms t Drll Lst Cmprhnsn n Yr Hd.'"
      ]
     },
     "execution_count": 29,
     "metadata": {},
     "output_type": "execute_result"
    }
   ],
   "source": [
    "a = []\n",
    "for i in string:\n",
    "    if i.lower() not in 'aeiou':\n",
    "        a.append(i)\n",
    "''.join(a)"
   ]
  },
  {
   "cell_type": "code",
   "execution_count": 54,
   "id": "d8ac7973-06cf-4112-8b44-66e849b8192e",
   "metadata": {},
   "outputs": [
    {
     "data": {
      "text/plain": [
       "'Prctc Prblms t Drll Lst Cmprhnsn n Yr Hd.'"
      ]
     },
     "execution_count": 54,
     "metadata": {},
     "output_type": "execute_result"
    }
   ],
   "source": [
    "''.join([i  for i in string if i.lower() not in 'aeiou'])"
   ]
  },
  {
   "cell_type": "code",
   "execution_count": 34,
   "id": "83d1cafa-d48e-4c05-b836-cb9c86d896f9",
   "metadata": {},
   "outputs": [
    {
     "data": {
      "text/plain": [
       "'Practice Problems to Drill List Comprehension in Your Head.'"
      ]
     },
     "execution_count": 34,
     "metadata": {},
     "output_type": "execute_result"
    }
   ],
   "source": [
    "# 5.\tFind all of the words in a string that are less than 5 letters (use string above)\n",
    "\n",
    "string"
   ]
  },
  {
   "cell_type": "code",
   "execution_count": 36,
   "id": "998eaacf-001e-4c46-a605-588959a45758",
   "metadata": {},
   "outputs": [
    {
     "data": {
      "text/plain": [
       "['Practice',\n",
       " 'Problems',\n",
       " 'to',\n",
       " 'Drill',\n",
       " 'List',\n",
       " 'Comprehension',\n",
       " 'in',\n",
       " 'Your',\n",
       " 'Head.']"
      ]
     },
     "execution_count": 36,
     "metadata": {},
     "output_type": "execute_result"
    }
   ],
   "source": [
    "string.split()"
   ]
  },
  {
   "cell_type": "code",
   "execution_count": 38,
   "id": "7ec55081-002b-4b78-b7d8-d3523508710d",
   "metadata": {},
   "outputs": [
    {
     "name": "stdout",
     "output_type": "stream",
     "text": [
      "to\n",
      "List\n",
      "in\n",
      "Your\n"
     ]
    }
   ],
   "source": [
    "for i in string.split():\n",
    "    if len(i) <5:\n",
    "        print(i)"
   ]
  },
  {
   "cell_type": "code",
   "execution_count": 58,
   "id": "a1306aa1-7772-49ca-948c-3694a76f9f98",
   "metadata": {},
   "outputs": [
    {
     "data": {
      "text/plain": [
       "[(2, 'to'), (4, 'List'), (2, 'in'), (4, 'Your'), (4, 'Head')]"
      ]
     },
     "execution_count": 58,
     "metadata": {},
     "output_type": "execute_result"
    }
   ],
   "source": [
    "[(len(i),i) for i in string.replace('.','').split() if len(i)<5]"
   ]
  },
  {
   "cell_type": "code",
   "execution_count": 46,
   "id": "23423a22-3fb7-4459-ba29-9e3dbbbfbfe1",
   "metadata": {},
   "outputs": [
    {
     "data": {
      "text/plain": [
       "'Practice Problems to Drill List Comprehension in Your Head.'"
      ]
     },
     "execution_count": 46,
     "metadata": {},
     "output_type": "execute_result"
    }
   ],
   "source": [
    "string"
   ]
  },
  {
   "cell_type": "code",
   "execution_count": 56,
   "id": "995b7f9c-8f1c-4ac8-b73a-f665a1b6c1d0",
   "metadata": {},
   "outputs": [
    {
     "data": {
      "text/plain": [
       "{'Practice': 8,\n",
       " 'Problems': 8,\n",
       " 'to': 2,\n",
       " 'Drill': 5,\n",
       " 'List': 4,\n",
       " 'Comprehension': 13,\n",
       " 'in': 2,\n",
       " 'Your': 4,\n",
       " 'Head.': 5}"
      ]
     },
     "execution_count": 56,
     "metadata": {},
     "output_type": "execute_result"
    }
   ],
   "source": [
    "{i:len(i)  for i in string.split()}"
   ]
  },
  {
   "cell_type": "code",
   "execution_count": 44,
   "id": "6b85f246-c9d9-45cc-9afe-bc41b94f85f0",
   "metadata": {},
   "outputs": [
    {
     "data": {
      "text/plain": [
       "['Practice',\n",
       " 'Problems',\n",
       " 'to',\n",
       " 'Drill',\n",
       " 'List',\n",
       " 'Comprehension',\n",
       " 'in',\n",
       " 'Your',\n",
       " 'Head']"
      ]
     },
     "execution_count": 44,
     "metadata": {},
     "output_type": "execute_result"
    }
   ],
   "source": [
    "string.replace('.','').split()\n"
   ]
  },
  {
   "cell_type": "code",
   "execution_count": null,
   "id": "5fc2d25e-1141-4d66-ae50-75595cfacede",
   "metadata": {},
   "outputs": [],
   "source": []
  },
  {
   "cell_type": "code",
   "execution_count": null,
   "id": "8ebb706d-9ffc-4c15-83f5-b4631763586f",
   "metadata": {},
   "outputs": [],
   "source": []
  },
  {
   "cell_type": "code",
   "execution_count": null,
   "id": "02d4121d-a064-4a58-a861-4a32fe3e2915",
   "metadata": {},
   "outputs": [],
   "source": []
  },
  {
   "cell_type": "code",
   "execution_count": null,
   "id": "70f78da8-0f65-4d5a-b712-d00610e7f8b0",
   "metadata": {},
   "outputs": [],
   "source": []
  },
  {
   "cell_type": "code",
   "execution_count": null,
   "id": "b318eeb0",
   "metadata": {},
   "outputs": [],
   "source": [
    "# 1. Find all of the numbers from 1–1000 that are divisible by 8\n",
    "\n",
    "output = [i  for i in range(1,1001)  if i%8 == 0]\n",
    "print(output)"
   ]
  },
  {
   "cell_type": "code",
   "execution_count": null,
   "id": "64722be5",
   "metadata": {},
   "outputs": [],
   "source": [
    "# 2. Find all of the numbers from 1–1000 that have a 6 in them\n",
    "\n",
    "output = [i  for i in range(1,1001) if '6' in str(i)]\n",
    "print(output)"
   ]
  },
  {
   "cell_type": "code",
   "execution_count": null,
   "id": "8801fb23",
   "metadata": {},
   "outputs": [],
   "source": [
    "# 3.Count the number of spaces in a string (use string above)\n",
    "output = len([i  for i in string if i==' '])\n",
    "print(output)"
   ]
  },
  {
   "cell_type": "code",
   "execution_count": null,
   "id": "2170f310",
   "metadata": {
    "scrolled": true
   },
   "outputs": [],
   "source": [
    "# 4.Remove all of the vowels in a string (use string above)\n",
    "output = ''.join([i  for i in string  if i.lower() not in 'aeiou'])\n",
    "print(output)"
   ]
  },
  {
   "cell_type": "code",
   "execution_count": 62,
   "id": "031441a4",
   "metadata": {},
   "outputs": [
    {
     "name": "stdout",
     "output_type": "stream",
     "text": [
      "['to', 'List', 'in', 'Your']\n"
     ]
    }
   ],
   "source": [
    "# 5.Find all of the words in a string that are less than 5 letters (use string above)\n",
    "\n",
    "output = [i for i in string.split()  if len(i)<5]\n",
    "print(output)"
   ]
  },
  {
   "cell_type": "code",
   "execution_count": null,
   "id": "028d4a6f",
   "metadata": {},
   "outputs": [],
   "source": [
    "# 6.Use a dictionary comprehension to count the length of each word in a sentence (use string above)\n",
    "\n",
    "output = {i:len(i)  for i in string.split()}\n",
    "print(output)"
   ]
  },
  {
   "cell_type": "code",
   "execution_count": null,
   "id": "a5f58753",
   "metadata": {},
   "outputs": [],
   "source": [
    "string.split()"
   ]
  },
  {
   "cell_type": "markdown",
   "id": "33ede4df",
   "metadata": {},
   "source": [
    "## Assignments"
   ]
  },
  {
   "cell_type": "markdown",
   "id": "6d973012",
   "metadata": {},
   "source": [
    "1. Write a program to extract even numbers from a list of 1 to 10\n",
    "2. Write a program to find the length of each word in a string\n",
    "3. Write a program to extract numbers that are divisible by 3 and 5 from 15 to 25\n",
    "4. Write a program to extract string that have more than 5 characters, lis = ['apple', 'banana', 'cat', 'date', 'elephant']\n",
    "5. Write a program to find the squares of the numbers in a list if the number is even number else print the number, lis=[23,55,66,90,34,33,63,88]\n",
    "6. Write a program to add corresponding elements from two list,  lis1 = [1,2,3,4], lis2 = [10,20,30,40]\n",
    "7. Write a program to extract string that start with a vowel\n",
    "\n"
   ]
  },
  {
   "cell_type": "raw",
   "id": "b8fe8b80",
   "metadata": {},
   "source": [
    "Find all of the numbers from 1–1000 that are divisible by 8\n",
    "Find all of the numbers from 1–1000 that have a 6 in them\n",
    "Count the number of spaces in a string (use string above)\n",
    "Remove all of the vowels in a string (use string above)\n",
    "Find all of the words in a string that are less than 5 letters (use string above)\n",
    "Use a dictionary comprehension to count the length of each word in a sentence (use string above)"
   ]
  },
  {
   "cell_type": "code",
   "execution_count": 80,
   "id": "553a4648-092d-4e46-9637-8d05e3e324d7",
   "metadata": {},
   "outputs": [
    {
     "data": {
      "text/plain": [
       "[2, 4, 6, 8, 10]"
      ]
     },
     "execution_count": 80,
     "metadata": {},
     "output_type": "execute_result"
    }
   ],
   "source": [
    "#1.Write a program to extract even numbers from a list of 1 to 10\n",
    "[i for i in range(1,11)  if i%2==0]\n"
   ]
  },
  {
   "cell_type": "code",
   "execution_count": 68,
   "id": "465bc523-520c-4afc-b593-6fa6298bfaf6",
   "metadata": {},
   "outputs": [
    {
     "data": {
      "text/plain": [
       "{'Practice': 8,\n",
       " 'Problems': 8,\n",
       " 'to': 2,\n",
       " 'Drill': 5,\n",
       " 'List': 4,\n",
       " 'Comprehension': 13,\n",
       " 'in': 2,\n",
       " 'Your': 4,\n",
       " 'Head.': 5}"
      ]
     },
     "execution_count": 68,
     "metadata": {},
     "output_type": "execute_result"
    }
   ],
   "source": [
    "#2.Write a program to find the length of each word in a string\n",
    "string = \"Practice Problems to Drill List Comprehension in Your Head.\"\n",
    "{i:len(i)  for i in string.split()}"
   ]
  },
  {
   "cell_type": "code",
   "execution_count": 70,
   "id": "0990a155-07a8-44bd-9e64-89215afe0c7c",
   "metadata": {},
   "outputs": [
    {
     "data": {
      "text/plain": [
       "[15]"
      ]
     },
     "execution_count": 70,
     "metadata": {},
     "output_type": "execute_result"
    }
   ],
   "source": [
    "#3.Write a program to extract numbers that are divisible by 3 and 5 from 15 to 25\n",
    "[i  for i in range(15,25) if i%3==0 and i%5==0]"
   ]
  },
  {
   "cell_type": "code",
   "execution_count": 82,
   "id": "d09d1dae-ea0b-46e8-b1c5-7571eac808df",
   "metadata": {},
   "outputs": [
    {
     "data": {
      "text/plain": [
       "['banana', 'elephant']"
      ]
     },
     "execution_count": 82,
     "metadata": {},
     "output_type": "execute_result"
    }
   ],
   "source": [
    "#4.Write a program to extract string that have more than 5 characters, \n",
    "lis = ['apple', 'banana', 'cat', 'date', 'elephant']\n",
    "[i for i in lis if len(i)>5]"
   ]
  },
  {
   "cell_type": "code",
   "execution_count": 116,
   "id": "1abc8cf8-58c6-4ae2-b0b2-ba5e959ab6d0",
   "metadata": {},
   "outputs": [
    {
     "data": {
      "text/plain": [
       "[23, 55, 4356, 8100, 1156, 33, 63, 7744]"
      ]
     },
     "execution_count": 116,
     "metadata": {},
     "output_type": "execute_result"
    }
   ],
   "source": [
    "#5.Write a program to find the squares of the numbers in a list if the number is even number else print the number,\n",
    "lis=[23,55,66,90,34,33,63,88]\n",
    "[i**2 if i%2 == 0 else i for i in lis]"
   ]
  },
  {
   "cell_type": "code",
   "execution_count": 118,
   "id": "f5565cf5-4862-4c6c-97c5-6907c60c1eac",
   "metadata": {},
   "outputs": [
    {
     "name": "stdout",
     "output_type": "stream",
     "text": [
      "11\n",
      "21\n",
      "31\n",
      "41\n",
      "12\n",
      "22\n",
      "32\n",
      "42\n",
      "13\n",
      "23\n",
      "33\n",
      "43\n",
      "14\n",
      "24\n",
      "34\n",
      "44\n"
     ]
    }
   ],
   "source": [
    "#6.Write a program to add corresponding elements from two list, \n",
    "lis1 = [1,2,3,4]\n",
    "lis2 = [10,20,30,40]\n",
    "for i in lis1:\n",
    "    for j in lis2:\n",
    "        print(i+j)"
   ]
  },
  {
   "cell_type": "code",
   "execution_count": 104,
   "id": "27c5ba9d-cea7-4dbe-ae26-47d9ad1ce355",
   "metadata": {},
   "outputs": [
    {
     "data": {
      "text/plain": [
       "['in']"
      ]
     },
     "execution_count": 104,
     "metadata": {},
     "output_type": "execute_result"
    }
   ],
   "source": [
    "#7.Write a program to extract string that start with a vowel\n",
    "string = \"Practice Problems to Drill List Comprehension in Your Head.\"\n",
    "[i for i in string.split() if i[0] in ('aeiou')]"
   ]
  },
  {
   "cell_type": "code",
   "execution_count": null,
   "id": "81d78818-0883-4b6d-9972-fcab045c0c92",
   "metadata": {},
   "outputs": [],
   "source": []
  },
  {
   "cell_type": "code",
   "execution_count": null,
   "id": "78b2c650-c173-49fe-9bb4-efb3a66f8dc5",
   "metadata": {},
   "outputs": [],
   "source": []
  },
  {
   "cell_type": "code",
   "execution_count": null,
   "id": "a2ec9e63-a7a8-42c0-b01c-bb198cb18be1",
   "metadata": {},
   "outputs": [],
   "source": []
  },
  {
   "cell_type": "code",
   "execution_count": null,
   "id": "835b8ba4-d350-4b98-b172-e5135cb0503a",
   "metadata": {},
   "outputs": [],
   "source": []
  },
  {
   "cell_type": "code",
   "execution_count": null,
   "id": "174f3f86-8071-43bb-a2e5-485495e2604b",
   "metadata": {},
   "outputs": [],
   "source": []
  },
  {
   "cell_type": "code",
   "execution_count": null,
   "id": "efeda628-26ce-4f75-9fd5-d6c7a628f2cb",
   "metadata": {},
   "outputs": [],
   "source": []
  },
  {
   "cell_type": "code",
   "execution_count": null,
   "id": "b5ce440b-5abf-4e63-b276-29c78ef210ea",
   "metadata": {},
   "outputs": [],
   "source": []
  },
  {
   "cell_type": "code",
   "execution_count": null,
   "id": "70bb33a8-298d-471a-8cc2-7c19b4cf513c",
   "metadata": {},
   "outputs": [],
   "source": []
  },
  {
   "cell_type": "code",
   "execution_count": null,
   "id": "61cc8bd3",
   "metadata": {},
   "outputs": [],
   "source": [
    "#1. Find all of the numbers from 1–1000 that are divisible by 8\n",
    "output = [i   for i in range(1,1001)  if i%8==0]\n",
    "print(output)"
   ]
  },
  {
   "cell_type": "code",
   "execution_count": null,
   "id": "7615addc",
   "metadata": {},
   "outputs": [],
   "source": [
    "# 2. Find all of the numbers from 1–1000 that have a 6 in them\n",
    "\n",
    "output = [i for i in range (1,1001) if '6' in str(i)]\n",
    "print(output)"
   ]
  },
  {
   "cell_type": "code",
   "execution_count": null,
   "id": "5749f842",
   "metadata": {},
   "outputs": [],
   "source": [
    "#  Count the number of spaces in a string\n",
    "\n",
    "string.count(' ')"
   ]
  },
  {
   "cell_type": "code",
   "execution_count": null,
   "id": "d89d1f51",
   "metadata": {},
   "outputs": [],
   "source": [
    "# Remove all of the vowels in a string (use string above)\n",
    "''.join([i for i in string1  if i.lower() not in 'aeiou'])"
   ]
  },
  {
   "cell_type": "code",
   "execution_count": null,
   "id": "4a89c381",
   "metadata": {},
   "outputs": [],
   "source": [
    "string1 =  'A Practice Problems to Drill List Comprehension in Your Head.'"
   ]
  },
  {
   "cell_type": "code",
   "execution_count": null,
   "id": "95543dfa",
   "metadata": {},
   "outputs": [],
   "source": [
    "#Find all of the words in a string that are less than 5 letters (use string above)\n",
    "\n",
    "for i in string.split():\n",
    "        print(i,'--->',len(i))"
   ]
  },
  {
   "cell_type": "code",
   "execution_count": null,
   "id": "9d4e71f7",
   "metadata": {},
   "outputs": [],
   "source": [
    "[(i,'--->',len(i)) for i in string.split() if len(i)<5]"
   ]
  },
  {
   "cell_type": "code",
   "execution_count": null,
   "id": "d89e2fa7",
   "metadata": {},
   "outputs": [],
   "source": [
    "# Use a dictionary comprehension to count the length of each word in a sentence (use string above)\n",
    "\n",
    "{i:len(i)    for i in string.split()  }"
   ]
  },
  {
   "cell_type": "code",
   "execution_count": null,
   "id": "7b98c56b",
   "metadata": {},
   "outputs": [],
   "source": []
  }
 ],
 "metadata": {
  "kernelspec": {
   "display_name": "Python [conda env:base] *",
   "language": "python",
   "name": "conda-base-py"
  },
  "language_info": {
   "codemirror_mode": {
    "name": "ipython",
    "version": 3
   },
   "file_extension": ".py",
   "mimetype": "text/x-python",
   "name": "python",
   "nbconvert_exporter": "python",
   "pygments_lexer": "ipython3",
   "version": "3.12.7"
  }
 },
 "nbformat": 4,
 "nbformat_minor": 5
}
